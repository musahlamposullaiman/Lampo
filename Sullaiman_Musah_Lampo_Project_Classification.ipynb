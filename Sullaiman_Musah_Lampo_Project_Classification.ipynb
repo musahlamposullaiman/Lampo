{
  "nbformat": 4,
  "nbformat_minor": 0,
  "metadata": {
    "kernelspec": {
      "display_name": "Python 3",
      "language": "python",
      "name": "python3"
    },
    "language_info": {
      "codemirror_mode": {
        "name": "ipython",
        "version": 3
      },
      "file_extension": ".py",
      "mimetype": "text/x-python",
      "name": "python",
      "nbconvert_exporter": "python",
      "pygments_lexer": "ipython3",
      "version": "3.8.3"
    },
    "nav_menu": {},
    "toc": {
      "navigate_menu": true,
      "number_sections": true,
      "sideBar": true,
      "threshold": 6,
      "toc_cell": false,
      "toc_section_display": "block",
      "toc_window_display": false
    },
    "colab": {
      "provenance": [],
      "include_colab_link": true
    }
  },
  "cells": [
    {
      "cell_type": "markdown",
      "metadata": {
        "id": "view-in-github",
        "colab_type": "text"
      },
      "source": [
        "<a href=\"https://colab.research.google.com/github/musahlamposullaiman/Lampo/blob/master/Sullaiman_Musah_Lampo_Project_Classification.ipynb\" target=\"_parent\"><img src=\"https://colab.research.google.com/assets/colab-badge.svg\" alt=\"Open In Colab\"/></a>"
      ]
    },
    {
      "cell_type": "markdown",
      "metadata": {
        "id": "lbOytv4mz_lx"
      },
      "source": [
        "# Project - Classification - Titanic"
      ]
    },
    {
      "cell_type": "markdown",
      "metadata": {
        "id": "OAGbgOa8z_ly"
      },
      "source": [
        "The goal is to predict whether or not a passenger survived based on attributes such as their age, sex, passenger class, where they embarked and so on.\n",
        "\n",
        "\n"
      ]
    },
    {
      "cell_type": "markdown",
      "metadata": {
        "id": "wYRaIawfz_l0"
      },
      "source": [
        "#### Downloaded the data (train.csv and test.csv files) from Kaggle and then upload them using the first code block below.\n",
        "- To download the files, login to [Kaggle](https://www.kaggle.com/) and go to the [Titanic challenge](https://www.kaggle.com/c/titanic)\n"
      ]
    },
    {
      "cell_type": "markdown",
      "metadata": {
        "id": "6ucl-YDyF9yu"
      },
      "source": [
        "Read the train and test data from the csv files:"
      ]
    },
    {
      "cell_type": "code",
      "metadata": {
        "id": "a5Eb5SNhz_l6",
        "colab": {
          "base_uri": "https://localhost:8080/",
          "height": 132
        },
        "outputId": "93ad4a2f-6acc-46ab-9239-92e47738ee74"
      },
      "source": [
        "import pandas as pd\n",
        "import pandas as pd\n",
        "from google.colab import files\n",
        "import io\n",
        "import os\n",
        "\n",
        "uploaded = files.upload()\n",
        "train_data = pd.read_csv(io.BytesIO(uploaded['train.csv']))\n",
        "uploaded = files.upload()\n",
        "test_data = pd.read_csv(io.BytesIO(uploaded['test.csv']))\n",
        "\n",
        "\n",
        "\n"
      ],
      "execution_count": null,
      "outputs": [
        {
          "output_type": "display_data",
          "data": {
            "text/plain": [
              "<IPython.core.display.HTML object>"
            ],
            "text/html": [
              "\n",
              "     <input type=\"file\" id=\"files-eff7b3db-7cbf-4e59-82cd-37daed120049\" name=\"files[]\" multiple disabled\n",
              "        style=\"border:none\" />\n",
              "     <output id=\"result-eff7b3db-7cbf-4e59-82cd-37daed120049\">\n",
              "      Upload widget is only available when the cell has been executed in the\n",
              "      current browser session. Please rerun this cell to enable.\n",
              "      </output>\n",
              "      <script>// Copyright 2017 Google LLC\n",
              "//\n",
              "// Licensed under the Apache License, Version 2.0 (the \"License\");\n",
              "// you may not use this file except in compliance with the License.\n",
              "// You may obtain a copy of the License at\n",
              "//\n",
              "//      http://www.apache.org/licenses/LICENSE-2.0\n",
              "//\n",
              "// Unless required by applicable law or agreed to in writing, software\n",
              "// distributed under the License is distributed on an \"AS IS\" BASIS,\n",
              "// WITHOUT WARRANTIES OR CONDITIONS OF ANY KIND, either express or implied.\n",
              "// See the License for the specific language governing permissions and\n",
              "// limitations under the License.\n",
              "\n",
              "/**\n",
              " * @fileoverview Helpers for google.colab Python module.\n",
              " */\n",
              "(function(scope) {\n",
              "function span(text, styleAttributes = {}) {\n",
              "  const element = document.createElement('span');\n",
              "  element.textContent = text;\n",
              "  for (const key of Object.keys(styleAttributes)) {\n",
              "    element.style[key] = styleAttributes[key];\n",
              "  }\n",
              "  return element;\n",
              "}\n",
              "\n",
              "// Max number of bytes which will be uploaded at a time.\n",
              "const MAX_PAYLOAD_SIZE = 100 * 1024;\n",
              "\n",
              "function _uploadFiles(inputId, outputId) {\n",
              "  const steps = uploadFilesStep(inputId, outputId);\n",
              "  const outputElement = document.getElementById(outputId);\n",
              "  // Cache steps on the outputElement to make it available for the next call\n",
              "  // to uploadFilesContinue from Python.\n",
              "  outputElement.steps = steps;\n",
              "\n",
              "  return _uploadFilesContinue(outputId);\n",
              "}\n",
              "\n",
              "// This is roughly an async generator (not supported in the browser yet),\n",
              "// where there are multiple asynchronous steps and the Python side is going\n",
              "// to poll for completion of each step.\n",
              "// This uses a Promise to block the python side on completion of each step,\n",
              "// then passes the result of the previous step as the input to the next step.\n",
              "function _uploadFilesContinue(outputId) {\n",
              "  const outputElement = document.getElementById(outputId);\n",
              "  const steps = outputElement.steps;\n",
              "\n",
              "  const next = steps.next(outputElement.lastPromiseValue);\n",
              "  return Promise.resolve(next.value.promise).then((value) => {\n",
              "    // Cache the last promise value to make it available to the next\n",
              "    // step of the generator.\n",
              "    outputElement.lastPromiseValue = value;\n",
              "    return next.value.response;\n",
              "  });\n",
              "}\n",
              "\n",
              "/**\n",
              " * Generator function which is called between each async step of the upload\n",
              " * process.\n",
              " * @param {string} inputId Element ID of the input file picker element.\n",
              " * @param {string} outputId Element ID of the output display.\n",
              " * @return {!Iterable<!Object>} Iterable of next steps.\n",
              " */\n",
              "function* uploadFilesStep(inputId, outputId) {\n",
              "  const inputElement = document.getElementById(inputId);\n",
              "  inputElement.disabled = false;\n",
              "\n",
              "  const outputElement = document.getElementById(outputId);\n",
              "  outputElement.innerHTML = '';\n",
              "\n",
              "  const pickedPromise = new Promise((resolve) => {\n",
              "    inputElement.addEventListener('change', (e) => {\n",
              "      resolve(e.target.files);\n",
              "    });\n",
              "  });\n",
              "\n",
              "  const cancel = document.createElement('button');\n",
              "  inputElement.parentElement.appendChild(cancel);\n",
              "  cancel.textContent = 'Cancel upload';\n",
              "  const cancelPromise = new Promise((resolve) => {\n",
              "    cancel.onclick = () => {\n",
              "      resolve(null);\n",
              "    };\n",
              "  });\n",
              "\n",
              "  // Wait for the user to pick the files.\n",
              "  const files = yield {\n",
              "    promise: Promise.race([pickedPromise, cancelPromise]),\n",
              "    response: {\n",
              "      action: 'starting',\n",
              "    }\n",
              "  };\n",
              "\n",
              "  cancel.remove();\n",
              "\n",
              "  // Disable the input element since further picks are not allowed.\n",
              "  inputElement.disabled = true;\n",
              "\n",
              "  if (!files) {\n",
              "    return {\n",
              "      response: {\n",
              "        action: 'complete',\n",
              "      }\n",
              "    };\n",
              "  }\n",
              "\n",
              "  for (const file of files) {\n",
              "    const li = document.createElement('li');\n",
              "    li.append(span(file.name, {fontWeight: 'bold'}));\n",
              "    li.append(span(\n",
              "        `(${file.type || 'n/a'}) - ${file.size} bytes, ` +\n",
              "        `last modified: ${\n",
              "            file.lastModifiedDate ? file.lastModifiedDate.toLocaleDateString() :\n",
              "                                    'n/a'} - `));\n",
              "    const percent = span('0% done');\n",
              "    li.appendChild(percent);\n",
              "\n",
              "    outputElement.appendChild(li);\n",
              "\n",
              "    const fileDataPromise = new Promise((resolve) => {\n",
              "      const reader = new FileReader();\n",
              "      reader.onload = (e) => {\n",
              "        resolve(e.target.result);\n",
              "      };\n",
              "      reader.readAsArrayBuffer(file);\n",
              "    });\n",
              "    // Wait for the data to be ready.\n",
              "    let fileData = yield {\n",
              "      promise: fileDataPromise,\n",
              "      response: {\n",
              "        action: 'continue',\n",
              "      }\n",
              "    };\n",
              "\n",
              "    // Use a chunked sending to avoid message size limits. See b/62115660.\n",
              "    let position = 0;\n",
              "    do {\n",
              "      const length = Math.min(fileData.byteLength - position, MAX_PAYLOAD_SIZE);\n",
              "      const chunk = new Uint8Array(fileData, position, length);\n",
              "      position += length;\n",
              "\n",
              "      const base64 = btoa(String.fromCharCode.apply(null, chunk));\n",
              "      yield {\n",
              "        response: {\n",
              "          action: 'append',\n",
              "          file: file.name,\n",
              "          data: base64,\n",
              "        },\n",
              "      };\n",
              "\n",
              "      let percentDone = fileData.byteLength === 0 ?\n",
              "          100 :\n",
              "          Math.round((position / fileData.byteLength) * 100);\n",
              "      percent.textContent = `${percentDone}% done`;\n",
              "\n",
              "    } while (position < fileData.byteLength);\n",
              "  }\n",
              "\n",
              "  // All done.\n",
              "  yield {\n",
              "    response: {\n",
              "      action: 'complete',\n",
              "    }\n",
              "  };\n",
              "}\n",
              "\n",
              "scope.google = scope.google || {};\n",
              "scope.google.colab = scope.google.colab || {};\n",
              "scope.google.colab._files = {\n",
              "  _uploadFiles,\n",
              "  _uploadFilesContinue,\n",
              "};\n",
              "})(self);\n",
              "</script> "
            ]
          },
          "metadata": {}
        },
        {
          "output_type": "stream",
          "name": "stdout",
          "text": [
            "Saving train.csv to train (1).csv\n"
          ]
        },
        {
          "output_type": "display_data",
          "data": {
            "text/plain": [
              "<IPython.core.display.HTML object>"
            ],
            "text/html": [
              "\n",
              "     <input type=\"file\" id=\"files-044e0791-6f54-48d7-b66a-584b5e560aae\" name=\"files[]\" multiple disabled\n",
              "        style=\"border:none\" />\n",
              "     <output id=\"result-044e0791-6f54-48d7-b66a-584b5e560aae\">\n",
              "      Upload widget is only available when the cell has been executed in the\n",
              "      current browser session. Please rerun this cell to enable.\n",
              "      </output>\n",
              "      <script>// Copyright 2017 Google LLC\n",
              "//\n",
              "// Licensed under the Apache License, Version 2.0 (the \"License\");\n",
              "// you may not use this file except in compliance with the License.\n",
              "// You may obtain a copy of the License at\n",
              "//\n",
              "//      http://www.apache.org/licenses/LICENSE-2.0\n",
              "//\n",
              "// Unless required by applicable law or agreed to in writing, software\n",
              "// distributed under the License is distributed on an \"AS IS\" BASIS,\n",
              "// WITHOUT WARRANTIES OR CONDITIONS OF ANY KIND, either express or implied.\n",
              "// See the License for the specific language governing permissions and\n",
              "// limitations under the License.\n",
              "\n",
              "/**\n",
              " * @fileoverview Helpers for google.colab Python module.\n",
              " */\n",
              "(function(scope) {\n",
              "function span(text, styleAttributes = {}) {\n",
              "  const element = document.createElement('span');\n",
              "  element.textContent = text;\n",
              "  for (const key of Object.keys(styleAttributes)) {\n",
              "    element.style[key] = styleAttributes[key];\n",
              "  }\n",
              "  return element;\n",
              "}\n",
              "\n",
              "// Max number of bytes which will be uploaded at a time.\n",
              "const MAX_PAYLOAD_SIZE = 100 * 1024;\n",
              "\n",
              "function _uploadFiles(inputId, outputId) {\n",
              "  const steps = uploadFilesStep(inputId, outputId);\n",
              "  const outputElement = document.getElementById(outputId);\n",
              "  // Cache steps on the outputElement to make it available for the next call\n",
              "  // to uploadFilesContinue from Python.\n",
              "  outputElement.steps = steps;\n",
              "\n",
              "  return _uploadFilesContinue(outputId);\n",
              "}\n",
              "\n",
              "// This is roughly an async generator (not supported in the browser yet),\n",
              "// where there are multiple asynchronous steps and the Python side is going\n",
              "// to poll for completion of each step.\n",
              "// This uses a Promise to block the python side on completion of each step,\n",
              "// then passes the result of the previous step as the input to the next step.\n",
              "function _uploadFilesContinue(outputId) {\n",
              "  const outputElement = document.getElementById(outputId);\n",
              "  const steps = outputElement.steps;\n",
              "\n",
              "  const next = steps.next(outputElement.lastPromiseValue);\n",
              "  return Promise.resolve(next.value.promise).then((value) => {\n",
              "    // Cache the last promise value to make it available to the next\n",
              "    // step of the generator.\n",
              "    outputElement.lastPromiseValue = value;\n",
              "    return next.value.response;\n",
              "  });\n",
              "}\n",
              "\n",
              "/**\n",
              " * Generator function which is called between each async step of the upload\n",
              " * process.\n",
              " * @param {string} inputId Element ID of the input file picker element.\n",
              " * @param {string} outputId Element ID of the output display.\n",
              " * @return {!Iterable<!Object>} Iterable of next steps.\n",
              " */\n",
              "function* uploadFilesStep(inputId, outputId) {\n",
              "  const inputElement = document.getElementById(inputId);\n",
              "  inputElement.disabled = false;\n",
              "\n",
              "  const outputElement = document.getElementById(outputId);\n",
              "  outputElement.innerHTML = '';\n",
              "\n",
              "  const pickedPromise = new Promise((resolve) => {\n",
              "    inputElement.addEventListener('change', (e) => {\n",
              "      resolve(e.target.files);\n",
              "    });\n",
              "  });\n",
              "\n",
              "  const cancel = document.createElement('button');\n",
              "  inputElement.parentElement.appendChild(cancel);\n",
              "  cancel.textContent = 'Cancel upload';\n",
              "  const cancelPromise = new Promise((resolve) => {\n",
              "    cancel.onclick = () => {\n",
              "      resolve(null);\n",
              "    };\n",
              "  });\n",
              "\n",
              "  // Wait for the user to pick the files.\n",
              "  const files = yield {\n",
              "    promise: Promise.race([pickedPromise, cancelPromise]),\n",
              "    response: {\n",
              "      action: 'starting',\n",
              "    }\n",
              "  };\n",
              "\n",
              "  cancel.remove();\n",
              "\n",
              "  // Disable the input element since further picks are not allowed.\n",
              "  inputElement.disabled = true;\n",
              "\n",
              "  if (!files) {\n",
              "    return {\n",
              "      response: {\n",
              "        action: 'complete',\n",
              "      }\n",
              "    };\n",
              "  }\n",
              "\n",
              "  for (const file of files) {\n",
              "    const li = document.createElement('li');\n",
              "    li.append(span(file.name, {fontWeight: 'bold'}));\n",
              "    li.append(span(\n",
              "        `(${file.type || 'n/a'}) - ${file.size} bytes, ` +\n",
              "        `last modified: ${\n",
              "            file.lastModifiedDate ? file.lastModifiedDate.toLocaleDateString() :\n",
              "                                    'n/a'} - `));\n",
              "    const percent = span('0% done');\n",
              "    li.appendChild(percent);\n",
              "\n",
              "    outputElement.appendChild(li);\n",
              "\n",
              "    const fileDataPromise = new Promise((resolve) => {\n",
              "      const reader = new FileReader();\n",
              "      reader.onload = (e) => {\n",
              "        resolve(e.target.result);\n",
              "      };\n",
              "      reader.readAsArrayBuffer(file);\n",
              "    });\n",
              "    // Wait for the data to be ready.\n",
              "    let fileData = yield {\n",
              "      promise: fileDataPromise,\n",
              "      response: {\n",
              "        action: 'continue',\n",
              "      }\n",
              "    };\n",
              "\n",
              "    // Use a chunked sending to avoid message size limits. See b/62115660.\n",
              "    let position = 0;\n",
              "    do {\n",
              "      const length = Math.min(fileData.byteLength - position, MAX_PAYLOAD_SIZE);\n",
              "      const chunk = new Uint8Array(fileData, position, length);\n",
              "      position += length;\n",
              "\n",
              "      const base64 = btoa(String.fromCharCode.apply(null, chunk));\n",
              "      yield {\n",
              "        response: {\n",
              "          action: 'append',\n",
              "          file: file.name,\n",
              "          data: base64,\n",
              "        },\n",
              "      };\n",
              "\n",
              "      let percentDone = fileData.byteLength === 0 ?\n",
              "          100 :\n",
              "          Math.round((position / fileData.byteLength) * 100);\n",
              "      percent.textContent = `${percentDone}% done`;\n",
              "\n",
              "    } while (position < fileData.byteLength);\n",
              "  }\n",
              "\n",
              "  // All done.\n",
              "  yield {\n",
              "    response: {\n",
              "      action: 'complete',\n",
              "    }\n",
              "  };\n",
              "}\n",
              "\n",
              "scope.google = scope.google || {};\n",
              "scope.google.colab = scope.google.colab || {};\n",
              "scope.google.colab._files = {\n",
              "  _uploadFiles,\n",
              "  _uploadFilesContinue,\n",
              "};\n",
              "})(self);\n",
              "</script> "
            ]
          },
          "metadata": {}
        },
        {
          "output_type": "stream",
          "name": "stdout",
          "text": [
            "Saving test.csv to test (1).csv\n"
          ]
        }
      ]
    },
    {
      "cell_type": "markdown",
      "metadata": {
        "id": "uPi2qvhJGmN3"
      },
      "source": [
        "\n",
        "#### The attributes and their meaning are as follows:\n",
        "- Survived: that's the target, 0 means the passenger did not survive, while 1 means he/she survived.\n",
        "- Pclass: passenger class.\n",
        "- Name, Sex, Age: self-explanatory\n",
        "- SibSp: how many siblings & spouses of the passenger aboard the Titanic.\n",
        "- Parch: how many children & parents of the passenger aboard the Titanic.\n",
        "- Ticket: ticket id\n",
        "- Fare: price paid (in pounds)\n",
        "- Cabin: passenger's cabin number\n",
        "- Embarked: where the passenger embarked the Titanic\n"
      ]
    },
    {
      "cell_type": "markdown",
      "source": [
        "### Use head, tail, info, describe methods to get insights about the data"
      ],
      "metadata": {
        "id": "ITHUFCh_XHst"
      }
    },
    {
      "cell_type": "code",
      "metadata": {
        "id": "n3hRcRB-GrCq",
        "colab": {
          "base_uri": "https://localhost:8080/",
          "height": 250
        },
        "outputId": "eae7fca1-0365-4ee8-e460-01478ebee211"
      },
      "source": [
        "train_data.head()"
      ],
      "execution_count": null,
      "outputs": [
        {
          "output_type": "execute_result",
          "data": {
            "text/plain": [
              "   PassengerId  Survived  Pclass  \\\n",
              "0            1         0       3   \n",
              "1            2         1       1   \n",
              "2            3         1       3   \n",
              "3            4         1       1   \n",
              "4            5         0       3   \n",
              "\n",
              "                                                Name     Sex   Age  SibSp  \\\n",
              "0                            Braund, Mr. Owen Harris    male  22.0      1   \n",
              "1  Cumings, Mrs. John Bradley (Florence Briggs Th...  female  38.0      1   \n",
              "2                             Heikkinen, Miss. Laina  female  26.0      0   \n",
              "3       Futrelle, Mrs. Jacques Heath (Lily May Peel)  female  35.0      1   \n",
              "4                           Allen, Mr. William Henry    male  35.0      0   \n",
              "\n",
              "   Parch            Ticket     Fare Cabin Embarked  \n",
              "0      0         A/5 21171   7.2500   NaN        S  \n",
              "1      0          PC 17599  71.2833   C85        C  \n",
              "2      0  STON/O2. 3101282   7.9250   NaN        S  \n",
              "3      0            113803  53.1000  C123        S  \n",
              "4      0            373450   8.0500   NaN        S  "
            ],
            "text/html": [
              "\n",
              "  <div id=\"df-98d120bb-0044-4ec5-a5ac-fe3442efa3d0\">\n",
              "    <div class=\"colab-df-container\">\n",
              "      <div>\n",
              "<style scoped>\n",
              "    .dataframe tbody tr th:only-of-type {\n",
              "        vertical-align: middle;\n",
              "    }\n",
              "\n",
              "    .dataframe tbody tr th {\n",
              "        vertical-align: top;\n",
              "    }\n",
              "\n",
              "    .dataframe thead th {\n",
              "        text-align: right;\n",
              "    }\n",
              "</style>\n",
              "<table border=\"1\" class=\"dataframe\">\n",
              "  <thead>\n",
              "    <tr style=\"text-align: right;\">\n",
              "      <th></th>\n",
              "      <th>PassengerId</th>\n",
              "      <th>Survived</th>\n",
              "      <th>Pclass</th>\n",
              "      <th>Name</th>\n",
              "      <th>Sex</th>\n",
              "      <th>Age</th>\n",
              "      <th>SibSp</th>\n",
              "      <th>Parch</th>\n",
              "      <th>Ticket</th>\n",
              "      <th>Fare</th>\n",
              "      <th>Cabin</th>\n",
              "      <th>Embarked</th>\n",
              "    </tr>\n",
              "  </thead>\n",
              "  <tbody>\n",
              "    <tr>\n",
              "      <th>0</th>\n",
              "      <td>1</td>\n",
              "      <td>0</td>\n",
              "      <td>3</td>\n",
              "      <td>Braund, Mr. Owen Harris</td>\n",
              "      <td>male</td>\n",
              "      <td>22.0</td>\n",
              "      <td>1</td>\n",
              "      <td>0</td>\n",
              "      <td>A/5 21171</td>\n",
              "      <td>7.2500</td>\n",
              "      <td>NaN</td>\n",
              "      <td>S</td>\n",
              "    </tr>\n",
              "    <tr>\n",
              "      <th>1</th>\n",
              "      <td>2</td>\n",
              "      <td>1</td>\n",
              "      <td>1</td>\n",
              "      <td>Cumings, Mrs. John Bradley (Florence Briggs Th...</td>\n",
              "      <td>female</td>\n",
              "      <td>38.0</td>\n",
              "      <td>1</td>\n",
              "      <td>0</td>\n",
              "      <td>PC 17599</td>\n",
              "      <td>71.2833</td>\n",
              "      <td>C85</td>\n",
              "      <td>C</td>\n",
              "    </tr>\n",
              "    <tr>\n",
              "      <th>2</th>\n",
              "      <td>3</td>\n",
              "      <td>1</td>\n",
              "      <td>3</td>\n",
              "      <td>Heikkinen, Miss. Laina</td>\n",
              "      <td>female</td>\n",
              "      <td>26.0</td>\n",
              "      <td>0</td>\n",
              "      <td>0</td>\n",
              "      <td>STON/O2. 3101282</td>\n",
              "      <td>7.9250</td>\n",
              "      <td>NaN</td>\n",
              "      <td>S</td>\n",
              "    </tr>\n",
              "    <tr>\n",
              "      <th>3</th>\n",
              "      <td>4</td>\n",
              "      <td>1</td>\n",
              "      <td>1</td>\n",
              "      <td>Futrelle, Mrs. Jacques Heath (Lily May Peel)</td>\n",
              "      <td>female</td>\n",
              "      <td>35.0</td>\n",
              "      <td>1</td>\n",
              "      <td>0</td>\n",
              "      <td>113803</td>\n",
              "      <td>53.1000</td>\n",
              "      <td>C123</td>\n",
              "      <td>S</td>\n",
              "    </tr>\n",
              "    <tr>\n",
              "      <th>4</th>\n",
              "      <td>5</td>\n",
              "      <td>0</td>\n",
              "      <td>3</td>\n",
              "      <td>Allen, Mr. William Henry</td>\n",
              "      <td>male</td>\n",
              "      <td>35.0</td>\n",
              "      <td>0</td>\n",
              "      <td>0</td>\n",
              "      <td>373450</td>\n",
              "      <td>8.0500</td>\n",
              "      <td>NaN</td>\n",
              "      <td>S</td>\n",
              "    </tr>\n",
              "  </tbody>\n",
              "</table>\n",
              "</div>\n",
              "      <button class=\"colab-df-convert\" onclick=\"convertToInteractive('df-98d120bb-0044-4ec5-a5ac-fe3442efa3d0')\"\n",
              "              title=\"Convert this dataframe to an interactive table.\"\n",
              "              style=\"display:none;\">\n",
              "        \n",
              "  <svg xmlns=\"http://www.w3.org/2000/svg\" height=\"24px\"viewBox=\"0 0 24 24\"\n",
              "       width=\"24px\">\n",
              "    <path d=\"M0 0h24v24H0V0z\" fill=\"none\"/>\n",
              "    <path d=\"M18.56 5.44l.94 2.06.94-2.06 2.06-.94-2.06-.94-.94-2.06-.94 2.06-2.06.94zm-11 1L8.5 8.5l.94-2.06 2.06-.94-2.06-.94L8.5 2.5l-.94 2.06-2.06.94zm10 10l.94 2.06.94-2.06 2.06-.94-2.06-.94-.94-2.06-.94 2.06-2.06.94z\"/><path d=\"M17.41 7.96l-1.37-1.37c-.4-.4-.92-.59-1.43-.59-.52 0-1.04.2-1.43.59L10.3 9.45l-7.72 7.72c-.78.78-.78 2.05 0 2.83L4 21.41c.39.39.9.59 1.41.59.51 0 1.02-.2 1.41-.59l7.78-7.78 2.81-2.81c.8-.78.8-2.07 0-2.86zM5.41 20L4 18.59l7.72-7.72 1.47 1.35L5.41 20z\"/>\n",
              "  </svg>\n",
              "      </button>\n",
              "      \n",
              "  <style>\n",
              "    .colab-df-container {\n",
              "      display:flex;\n",
              "      flex-wrap:wrap;\n",
              "      gap: 12px;\n",
              "    }\n",
              "\n",
              "    .colab-df-convert {\n",
              "      background-color: #E8F0FE;\n",
              "      border: none;\n",
              "      border-radius: 50%;\n",
              "      cursor: pointer;\n",
              "      display: none;\n",
              "      fill: #1967D2;\n",
              "      height: 32px;\n",
              "      padding: 0 0 0 0;\n",
              "      width: 32px;\n",
              "    }\n",
              "\n",
              "    .colab-df-convert:hover {\n",
              "      background-color: #E2EBFA;\n",
              "      box-shadow: 0px 1px 2px rgba(60, 64, 67, 0.3), 0px 1px 3px 1px rgba(60, 64, 67, 0.15);\n",
              "      fill: #174EA6;\n",
              "    }\n",
              "\n",
              "    [theme=dark] .colab-df-convert {\n",
              "      background-color: #3B4455;\n",
              "      fill: #D2E3FC;\n",
              "    }\n",
              "\n",
              "    [theme=dark] .colab-df-convert:hover {\n",
              "      background-color: #434B5C;\n",
              "      box-shadow: 0px 1px 3px 1px rgba(0, 0, 0, 0.15);\n",
              "      filter: drop-shadow(0px 1px 2px rgba(0, 0, 0, 0.3));\n",
              "      fill: #FFFFFF;\n",
              "    }\n",
              "  </style>\n",
              "\n",
              "      <script>\n",
              "        const buttonEl =\n",
              "          document.querySelector('#df-98d120bb-0044-4ec5-a5ac-fe3442efa3d0 button.colab-df-convert');\n",
              "        buttonEl.style.display =\n",
              "          google.colab.kernel.accessAllowed ? 'block' : 'none';\n",
              "\n",
              "        async function convertToInteractive(key) {\n",
              "          const element = document.querySelector('#df-98d120bb-0044-4ec5-a5ac-fe3442efa3d0');\n",
              "          const dataTable =\n",
              "            await google.colab.kernel.invokeFunction('convertToInteractive',\n",
              "                                                     [key], {});\n",
              "          if (!dataTable) return;\n",
              "\n",
              "          const docLinkHtml = 'Like what you see? Visit the ' +\n",
              "            '<a target=\"_blank\" href=https://colab.research.google.com/notebooks/data_table.ipynb>data table notebook</a>'\n",
              "            + ' to learn more about interactive tables.';\n",
              "          element.innerHTML = '';\n",
              "          dataTable['output_type'] = 'display_data';\n",
              "          await google.colab.output.renderOutput(dataTable, element);\n",
              "          const docLink = document.createElement('div');\n",
              "          docLink.innerHTML = docLinkHtml;\n",
              "          element.appendChild(docLink);\n",
              "        }\n",
              "      </script>\n",
              "    </div>\n",
              "  </div>\n",
              "  "
            ]
          },
          "metadata": {},
          "execution_count": 4
        }
      ]
    },
    {
      "cell_type": "code",
      "metadata": {
        "id": "Lsr8TOeBSHul",
        "colab": {
          "base_uri": "https://localhost:8080/",
          "height": 206
        },
        "outputId": "1d784307-3635-4618-bb79-af6b87fb8fae"
      },
      "source": [
        "test_data.head()"
      ],
      "execution_count": null,
      "outputs": [
        {
          "output_type": "execute_result",
          "data": {
            "text/plain": [
              "   PassengerId  Pclass                                          Name     Sex  \\\n",
              "0          892       3                              Kelly, Mr. James    male   \n",
              "1          893       3              Wilkes, Mrs. James (Ellen Needs)  female   \n",
              "2          894       2                     Myles, Mr. Thomas Francis    male   \n",
              "3          895       3                              Wirz, Mr. Albert    male   \n",
              "4          896       3  Hirvonen, Mrs. Alexander (Helga E Lindqvist)  female   \n",
              "\n",
              "    Age  SibSp  Parch   Ticket     Fare Cabin Embarked  \n",
              "0  34.5      0      0   330911   7.8292   NaN        Q  \n",
              "1  47.0      1      0   363272   7.0000   NaN        S  \n",
              "2  62.0      0      0   240276   9.6875   NaN        Q  \n",
              "3  27.0      0      0   315154   8.6625   NaN        S  \n",
              "4  22.0      1      1  3101298  12.2875   NaN        S  "
            ],
            "text/html": [
              "\n",
              "  <div id=\"df-68dfd99e-91c2-4b4b-977c-f3b77adcd690\">\n",
              "    <div class=\"colab-df-container\">\n",
              "      <div>\n",
              "<style scoped>\n",
              "    .dataframe tbody tr th:only-of-type {\n",
              "        vertical-align: middle;\n",
              "    }\n",
              "\n",
              "    .dataframe tbody tr th {\n",
              "        vertical-align: top;\n",
              "    }\n",
              "\n",
              "    .dataframe thead th {\n",
              "        text-align: right;\n",
              "    }\n",
              "</style>\n",
              "<table border=\"1\" class=\"dataframe\">\n",
              "  <thead>\n",
              "    <tr style=\"text-align: right;\">\n",
              "      <th></th>\n",
              "      <th>PassengerId</th>\n",
              "      <th>Pclass</th>\n",
              "      <th>Name</th>\n",
              "      <th>Sex</th>\n",
              "      <th>Age</th>\n",
              "      <th>SibSp</th>\n",
              "      <th>Parch</th>\n",
              "      <th>Ticket</th>\n",
              "      <th>Fare</th>\n",
              "      <th>Cabin</th>\n",
              "      <th>Embarked</th>\n",
              "    </tr>\n",
              "  </thead>\n",
              "  <tbody>\n",
              "    <tr>\n",
              "      <th>0</th>\n",
              "      <td>892</td>\n",
              "      <td>3</td>\n",
              "      <td>Kelly, Mr. James</td>\n",
              "      <td>male</td>\n",
              "      <td>34.5</td>\n",
              "      <td>0</td>\n",
              "      <td>0</td>\n",
              "      <td>330911</td>\n",
              "      <td>7.8292</td>\n",
              "      <td>NaN</td>\n",
              "      <td>Q</td>\n",
              "    </tr>\n",
              "    <tr>\n",
              "      <th>1</th>\n",
              "      <td>893</td>\n",
              "      <td>3</td>\n",
              "      <td>Wilkes, Mrs. James (Ellen Needs)</td>\n",
              "      <td>female</td>\n",
              "      <td>47.0</td>\n",
              "      <td>1</td>\n",
              "      <td>0</td>\n",
              "      <td>363272</td>\n",
              "      <td>7.0000</td>\n",
              "      <td>NaN</td>\n",
              "      <td>S</td>\n",
              "    </tr>\n",
              "    <tr>\n",
              "      <th>2</th>\n",
              "      <td>894</td>\n",
              "      <td>2</td>\n",
              "      <td>Myles, Mr. Thomas Francis</td>\n",
              "      <td>male</td>\n",
              "      <td>62.0</td>\n",
              "      <td>0</td>\n",
              "      <td>0</td>\n",
              "      <td>240276</td>\n",
              "      <td>9.6875</td>\n",
              "      <td>NaN</td>\n",
              "      <td>Q</td>\n",
              "    </tr>\n",
              "    <tr>\n",
              "      <th>3</th>\n",
              "      <td>895</td>\n",
              "      <td>3</td>\n",
              "      <td>Wirz, Mr. Albert</td>\n",
              "      <td>male</td>\n",
              "      <td>27.0</td>\n",
              "      <td>0</td>\n",
              "      <td>0</td>\n",
              "      <td>315154</td>\n",
              "      <td>8.6625</td>\n",
              "      <td>NaN</td>\n",
              "      <td>S</td>\n",
              "    </tr>\n",
              "    <tr>\n",
              "      <th>4</th>\n",
              "      <td>896</td>\n",
              "      <td>3</td>\n",
              "      <td>Hirvonen, Mrs. Alexander (Helga E Lindqvist)</td>\n",
              "      <td>female</td>\n",
              "      <td>22.0</td>\n",
              "      <td>1</td>\n",
              "      <td>1</td>\n",
              "      <td>3101298</td>\n",
              "      <td>12.2875</td>\n",
              "      <td>NaN</td>\n",
              "      <td>S</td>\n",
              "    </tr>\n",
              "  </tbody>\n",
              "</table>\n",
              "</div>\n",
              "      <button class=\"colab-df-convert\" onclick=\"convertToInteractive('df-68dfd99e-91c2-4b4b-977c-f3b77adcd690')\"\n",
              "              title=\"Convert this dataframe to an interactive table.\"\n",
              "              style=\"display:none;\">\n",
              "        \n",
              "  <svg xmlns=\"http://www.w3.org/2000/svg\" height=\"24px\"viewBox=\"0 0 24 24\"\n",
              "       width=\"24px\">\n",
              "    <path d=\"M0 0h24v24H0V0z\" fill=\"none\"/>\n",
              "    <path d=\"M18.56 5.44l.94 2.06.94-2.06 2.06-.94-2.06-.94-.94-2.06-.94 2.06-2.06.94zm-11 1L8.5 8.5l.94-2.06 2.06-.94-2.06-.94L8.5 2.5l-.94 2.06-2.06.94zm10 10l.94 2.06.94-2.06 2.06-.94-2.06-.94-.94-2.06-.94 2.06-2.06.94z\"/><path d=\"M17.41 7.96l-1.37-1.37c-.4-.4-.92-.59-1.43-.59-.52 0-1.04.2-1.43.59L10.3 9.45l-7.72 7.72c-.78.78-.78 2.05 0 2.83L4 21.41c.39.39.9.59 1.41.59.51 0 1.02-.2 1.41-.59l7.78-7.78 2.81-2.81c.8-.78.8-2.07 0-2.86zM5.41 20L4 18.59l7.72-7.72 1.47 1.35L5.41 20z\"/>\n",
              "  </svg>\n",
              "      </button>\n",
              "      \n",
              "  <style>\n",
              "    .colab-df-container {\n",
              "      display:flex;\n",
              "      flex-wrap:wrap;\n",
              "      gap: 12px;\n",
              "    }\n",
              "\n",
              "    .colab-df-convert {\n",
              "      background-color: #E8F0FE;\n",
              "      border: none;\n",
              "      border-radius: 50%;\n",
              "      cursor: pointer;\n",
              "      display: none;\n",
              "      fill: #1967D2;\n",
              "      height: 32px;\n",
              "      padding: 0 0 0 0;\n",
              "      width: 32px;\n",
              "    }\n",
              "\n",
              "    .colab-df-convert:hover {\n",
              "      background-color: #E2EBFA;\n",
              "      box-shadow: 0px 1px 2px rgba(60, 64, 67, 0.3), 0px 1px 3px 1px rgba(60, 64, 67, 0.15);\n",
              "      fill: #174EA6;\n",
              "    }\n",
              "\n",
              "    [theme=dark] .colab-df-convert {\n",
              "      background-color: #3B4455;\n",
              "      fill: #D2E3FC;\n",
              "    }\n",
              "\n",
              "    [theme=dark] .colab-df-convert:hover {\n",
              "      background-color: #434B5C;\n",
              "      box-shadow: 0px 1px 3px 1px rgba(0, 0, 0, 0.15);\n",
              "      filter: drop-shadow(0px 1px 2px rgba(0, 0, 0, 0.3));\n",
              "      fill: #FFFFFF;\n",
              "    }\n",
              "  </style>\n",
              "\n",
              "      <script>\n",
              "        const buttonEl =\n",
              "          document.querySelector('#df-68dfd99e-91c2-4b4b-977c-f3b77adcd690 button.colab-df-convert');\n",
              "        buttonEl.style.display =\n",
              "          google.colab.kernel.accessAllowed ? 'block' : 'none';\n",
              "\n",
              "        async function convertToInteractive(key) {\n",
              "          const element = document.querySelector('#df-68dfd99e-91c2-4b4b-977c-f3b77adcd690');\n",
              "          const dataTable =\n",
              "            await google.colab.kernel.invokeFunction('convertToInteractive',\n",
              "                                                     [key], {});\n",
              "          if (!dataTable) return;\n",
              "\n",
              "          const docLinkHtml = 'Like what you see? Visit the ' +\n",
              "            '<a target=\"_blank\" href=https://colab.research.google.com/notebooks/data_table.ipynb>data table notebook</a>'\n",
              "            + ' to learn more about interactive tables.';\n",
              "          element.innerHTML = '';\n",
              "          dataTable['output_type'] = 'display_data';\n",
              "          await google.colab.output.renderOutput(dataTable, element);\n",
              "          const docLink = document.createElement('div');\n",
              "          docLink.innerHTML = docLinkHtml;\n",
              "          element.appendChild(docLink);\n",
              "        }\n",
              "      </script>\n",
              "    </div>\n",
              "  </div>\n",
              "  "
            ]
          },
          "metadata": {},
          "execution_count": 5
        }
      ]
    },
    {
      "cell_type": "markdown",
      "metadata": {
        "id": "Vo7Ms4VDRl2U"
      },
      "source": [
        "Note that 'Survided' column is missing in the test data.\n",
        "\n",
        "----------------------------------------"
      ]
    },
    {
      "cell_type": "code",
      "metadata": {
        "id": "OW6Sa3uwSD28",
        "colab": {
          "base_uri": "https://localhost:8080/"
        },
        "outputId": "689adeee-777b-460c-dc35-7a1d5e569157"
      },
      "source": [
        "train_data.info()"
      ],
      "execution_count": null,
      "outputs": [
        {
          "output_type": "stream",
          "name": "stdout",
          "text": [
            "<class 'pandas.core.frame.DataFrame'>\n",
            "RangeIndex: 891 entries, 0 to 890\n",
            "Data columns (total 12 columns):\n",
            " #   Column       Non-Null Count  Dtype  \n",
            "---  ------       --------------  -----  \n",
            " 0   PassengerId  891 non-null    int64  \n",
            " 1   Survived     891 non-null    int64  \n",
            " 2   Pclass       891 non-null    int64  \n",
            " 3   Name         891 non-null    object \n",
            " 4   Sex          891 non-null    object \n",
            " 5   Age          714 non-null    float64\n",
            " 6   SibSp        891 non-null    int64  \n",
            " 7   Parch        891 non-null    int64  \n",
            " 8   Ticket       891 non-null    object \n",
            " 9   Fare         891 non-null    float64\n",
            " 10  Cabin        204 non-null    object \n",
            " 11  Embarked     889 non-null    object \n",
            "dtypes: float64(2), int64(5), object(5)\n",
            "memory usage: 83.7+ KB\n"
          ]
        }
      ]
    },
    {
      "cell_type": "code",
      "metadata": {
        "id": "W_QQUQ8hSdNk",
        "colab": {
          "base_uri": "https://localhost:8080/"
        },
        "outputId": "ae165bc0-97d6-40b7-a56d-d2e5eb14005c"
      },
      "source": [
        "test_data.info()"
      ],
      "execution_count": null,
      "outputs": [
        {
          "output_type": "stream",
          "name": "stdout",
          "text": [
            "<class 'pandas.core.frame.DataFrame'>\n",
            "RangeIndex: 418 entries, 0 to 417\n",
            "Data columns (total 11 columns):\n",
            " #   Column       Non-Null Count  Dtype  \n",
            "---  ------       --------------  -----  \n",
            " 0   PassengerId  418 non-null    int64  \n",
            " 1   Pclass       418 non-null    int64  \n",
            " 2   Name         418 non-null    object \n",
            " 3   Sex          418 non-null    object \n",
            " 4   Age          332 non-null    float64\n",
            " 5   SibSp        418 non-null    int64  \n",
            " 6   Parch        418 non-null    int64  \n",
            " 7   Ticket       418 non-null    object \n",
            " 8   Fare         417 non-null    float64\n",
            " 9   Cabin        91 non-null     object \n",
            " 10  Embarked     418 non-null    object \n",
            "dtypes: float64(2), int64(4), object(5)\n",
            "memory usage: 36.0+ KB\n"
          ]
        }
      ]
    },
    {
      "cell_type": "markdown",
      "metadata": {
        "id": "dEucwx-ZSiSQ"
      },
      "source": [
        "Insights:\n",
        "- Most of the Cabin column is null\n",
        "- 177 (891-714) rows for age is missing\n",
        "- 2 of embarked column data is missing\n",
        "\n",
        "--------------------------------------------------\n"
      ]
    },
    {
      "cell_type": "code",
      "metadata": {
        "id": "xvOQClxlTPA1",
        "colab": {
          "base_uri": "https://localhost:8080/",
          "height": 300
        },
        "outputId": "92aa095b-1cb6-4513-c3ef-0ae59b4cc5e2"
      },
      "source": [
        "train_data.describe()"
      ],
      "execution_count": null,
      "outputs": [
        {
          "output_type": "execute_result",
          "data": {
            "text/plain": [
              "       PassengerId    Survived      Pclass         Age       SibSp  \\\n",
              "count   891.000000  891.000000  891.000000  714.000000  891.000000   \n",
              "mean    446.000000    0.383838    2.308642   29.699118    0.523008   \n",
              "std     257.353842    0.486592    0.836071   14.526497    1.102743   \n",
              "min       1.000000    0.000000    1.000000    0.420000    0.000000   \n",
              "25%     223.500000    0.000000    2.000000   20.125000    0.000000   \n",
              "50%     446.000000    0.000000    3.000000   28.000000    0.000000   \n",
              "75%     668.500000    1.000000    3.000000   38.000000    1.000000   \n",
              "max     891.000000    1.000000    3.000000   80.000000    8.000000   \n",
              "\n",
              "            Parch        Fare  \n",
              "count  891.000000  891.000000  \n",
              "mean     0.381594   32.204208  \n",
              "std      0.806057   49.693429  \n",
              "min      0.000000    0.000000  \n",
              "25%      0.000000    7.910400  \n",
              "50%      0.000000   14.454200  \n",
              "75%      0.000000   31.000000  \n",
              "max      6.000000  512.329200  "
            ],
            "text/html": [
              "\n",
              "  <div id=\"df-410dade6-e6e9-429a-9934-7c257c625efa\">\n",
              "    <div class=\"colab-df-container\">\n",
              "      <div>\n",
              "<style scoped>\n",
              "    .dataframe tbody tr th:only-of-type {\n",
              "        vertical-align: middle;\n",
              "    }\n",
              "\n",
              "    .dataframe tbody tr th {\n",
              "        vertical-align: top;\n",
              "    }\n",
              "\n",
              "    .dataframe thead th {\n",
              "        text-align: right;\n",
              "    }\n",
              "</style>\n",
              "<table border=\"1\" class=\"dataframe\">\n",
              "  <thead>\n",
              "    <tr style=\"text-align: right;\">\n",
              "      <th></th>\n",
              "      <th>PassengerId</th>\n",
              "      <th>Survived</th>\n",
              "      <th>Pclass</th>\n",
              "      <th>Age</th>\n",
              "      <th>SibSp</th>\n",
              "      <th>Parch</th>\n",
              "      <th>Fare</th>\n",
              "    </tr>\n",
              "  </thead>\n",
              "  <tbody>\n",
              "    <tr>\n",
              "      <th>count</th>\n",
              "      <td>891.000000</td>\n",
              "      <td>891.000000</td>\n",
              "      <td>891.000000</td>\n",
              "      <td>714.000000</td>\n",
              "      <td>891.000000</td>\n",
              "      <td>891.000000</td>\n",
              "      <td>891.000000</td>\n",
              "    </tr>\n",
              "    <tr>\n",
              "      <th>mean</th>\n",
              "      <td>446.000000</td>\n",
              "      <td>0.383838</td>\n",
              "      <td>2.308642</td>\n",
              "      <td>29.699118</td>\n",
              "      <td>0.523008</td>\n",
              "      <td>0.381594</td>\n",
              "      <td>32.204208</td>\n",
              "    </tr>\n",
              "    <tr>\n",
              "      <th>std</th>\n",
              "      <td>257.353842</td>\n",
              "      <td>0.486592</td>\n",
              "      <td>0.836071</td>\n",
              "      <td>14.526497</td>\n",
              "      <td>1.102743</td>\n",
              "      <td>0.806057</td>\n",
              "      <td>49.693429</td>\n",
              "    </tr>\n",
              "    <tr>\n",
              "      <th>min</th>\n",
              "      <td>1.000000</td>\n",
              "      <td>0.000000</td>\n",
              "      <td>1.000000</td>\n",
              "      <td>0.420000</td>\n",
              "      <td>0.000000</td>\n",
              "      <td>0.000000</td>\n",
              "      <td>0.000000</td>\n",
              "    </tr>\n",
              "    <tr>\n",
              "      <th>25%</th>\n",
              "      <td>223.500000</td>\n",
              "      <td>0.000000</td>\n",
              "      <td>2.000000</td>\n",
              "      <td>20.125000</td>\n",
              "      <td>0.000000</td>\n",
              "      <td>0.000000</td>\n",
              "      <td>7.910400</td>\n",
              "    </tr>\n",
              "    <tr>\n",
              "      <th>50%</th>\n",
              "      <td>446.000000</td>\n",
              "      <td>0.000000</td>\n",
              "      <td>3.000000</td>\n",
              "      <td>28.000000</td>\n",
              "      <td>0.000000</td>\n",
              "      <td>0.000000</td>\n",
              "      <td>14.454200</td>\n",
              "    </tr>\n",
              "    <tr>\n",
              "      <th>75%</th>\n",
              "      <td>668.500000</td>\n",
              "      <td>1.000000</td>\n",
              "      <td>3.000000</td>\n",
              "      <td>38.000000</td>\n",
              "      <td>1.000000</td>\n",
              "      <td>0.000000</td>\n",
              "      <td>31.000000</td>\n",
              "    </tr>\n",
              "    <tr>\n",
              "      <th>max</th>\n",
              "      <td>891.000000</td>\n",
              "      <td>1.000000</td>\n",
              "      <td>3.000000</td>\n",
              "      <td>80.000000</td>\n",
              "      <td>8.000000</td>\n",
              "      <td>6.000000</td>\n",
              "      <td>512.329200</td>\n",
              "    </tr>\n",
              "  </tbody>\n",
              "</table>\n",
              "</div>\n",
              "      <button class=\"colab-df-convert\" onclick=\"convertToInteractive('df-410dade6-e6e9-429a-9934-7c257c625efa')\"\n",
              "              title=\"Convert this dataframe to an interactive table.\"\n",
              "              style=\"display:none;\">\n",
              "        \n",
              "  <svg xmlns=\"http://www.w3.org/2000/svg\" height=\"24px\"viewBox=\"0 0 24 24\"\n",
              "       width=\"24px\">\n",
              "    <path d=\"M0 0h24v24H0V0z\" fill=\"none\"/>\n",
              "    <path d=\"M18.56 5.44l.94 2.06.94-2.06 2.06-.94-2.06-.94-.94-2.06-.94 2.06-2.06.94zm-11 1L8.5 8.5l.94-2.06 2.06-.94-2.06-.94L8.5 2.5l-.94 2.06-2.06.94zm10 10l.94 2.06.94-2.06 2.06-.94-2.06-.94-.94-2.06-.94 2.06-2.06.94z\"/><path d=\"M17.41 7.96l-1.37-1.37c-.4-.4-.92-.59-1.43-.59-.52 0-1.04.2-1.43.59L10.3 9.45l-7.72 7.72c-.78.78-.78 2.05 0 2.83L4 21.41c.39.39.9.59 1.41.59.51 0 1.02-.2 1.41-.59l7.78-7.78 2.81-2.81c.8-.78.8-2.07 0-2.86zM5.41 20L4 18.59l7.72-7.72 1.47 1.35L5.41 20z\"/>\n",
              "  </svg>\n",
              "      </button>\n",
              "      \n",
              "  <style>\n",
              "    .colab-df-container {\n",
              "      display:flex;\n",
              "      flex-wrap:wrap;\n",
              "      gap: 12px;\n",
              "    }\n",
              "\n",
              "    .colab-df-convert {\n",
              "      background-color: #E8F0FE;\n",
              "      border: none;\n",
              "      border-radius: 50%;\n",
              "      cursor: pointer;\n",
              "      display: none;\n",
              "      fill: #1967D2;\n",
              "      height: 32px;\n",
              "      padding: 0 0 0 0;\n",
              "      width: 32px;\n",
              "    }\n",
              "\n",
              "    .colab-df-convert:hover {\n",
              "      background-color: #E2EBFA;\n",
              "      box-shadow: 0px 1px 2px rgba(60, 64, 67, 0.3), 0px 1px 3px 1px rgba(60, 64, 67, 0.15);\n",
              "      fill: #174EA6;\n",
              "    }\n",
              "\n",
              "    [theme=dark] .colab-df-convert {\n",
              "      background-color: #3B4455;\n",
              "      fill: #D2E3FC;\n",
              "    }\n",
              "\n",
              "    [theme=dark] .colab-df-convert:hover {\n",
              "      background-color: #434B5C;\n",
              "      box-shadow: 0px 1px 3px 1px rgba(0, 0, 0, 0.15);\n",
              "      filter: drop-shadow(0px 1px 2px rgba(0, 0, 0, 0.3));\n",
              "      fill: #FFFFFF;\n",
              "    }\n",
              "  </style>\n",
              "\n",
              "      <script>\n",
              "        const buttonEl =\n",
              "          document.querySelector('#df-410dade6-e6e9-429a-9934-7c257c625efa button.colab-df-convert');\n",
              "        buttonEl.style.display =\n",
              "          google.colab.kernel.accessAllowed ? 'block' : 'none';\n",
              "\n",
              "        async function convertToInteractive(key) {\n",
              "          const element = document.querySelector('#df-410dade6-e6e9-429a-9934-7c257c625efa');\n",
              "          const dataTable =\n",
              "            await google.colab.kernel.invokeFunction('convertToInteractive',\n",
              "                                                     [key], {});\n",
              "          if (!dataTable) return;\n",
              "\n",
              "          const docLinkHtml = 'Like what you see? Visit the ' +\n",
              "            '<a target=\"_blank\" href=https://colab.research.google.com/notebooks/data_table.ipynb>data table notebook</a>'\n",
              "            + ' to learn more about interactive tables.';\n",
              "          element.innerHTML = '';\n",
              "          dataTable['output_type'] = 'display_data';\n",
              "          await google.colab.output.renderOutput(dataTable, element);\n",
              "          const docLink = document.createElement('div');\n",
              "          docLink.innerHTML = docLinkHtml;\n",
              "          element.appendChild(docLink);\n",
              "        }\n",
              "      </script>\n",
              "    </div>\n",
              "  </div>\n",
              "  "
            ]
          },
          "metadata": {},
          "execution_count": 8
        }
      ]
    },
    {
      "cell_type": "code",
      "metadata": {
        "id": "yIF0e6VsTv6-",
        "colab": {
          "base_uri": "https://localhost:8080/",
          "height": 300
        },
        "outputId": "f5fea163-4367-48af-97e4-8757680052c4"
      },
      "source": [
        "test_data.describe()"
      ],
      "execution_count": null,
      "outputs": [
        {
          "output_type": "execute_result",
          "data": {
            "text/plain": [
              "       PassengerId      Pclass         Age       SibSp       Parch        Fare\n",
              "count   418.000000  418.000000  332.000000  418.000000  418.000000  417.000000\n",
              "mean   1100.500000    2.265550   30.272590    0.447368    0.392344   35.627188\n",
              "std     120.810458    0.841838   14.181209    0.896760    0.981429   55.907576\n",
              "min     892.000000    1.000000    0.170000    0.000000    0.000000    0.000000\n",
              "25%     996.250000    1.000000   21.000000    0.000000    0.000000    7.895800\n",
              "50%    1100.500000    3.000000   27.000000    0.000000    0.000000   14.454200\n",
              "75%    1204.750000    3.000000   39.000000    1.000000    0.000000   31.500000\n",
              "max    1309.000000    3.000000   76.000000    8.000000    9.000000  512.329200"
            ],
            "text/html": [
              "\n",
              "  <div id=\"df-501eb708-c490-4e22-8cab-54820fa58f2d\">\n",
              "    <div class=\"colab-df-container\">\n",
              "      <div>\n",
              "<style scoped>\n",
              "    .dataframe tbody tr th:only-of-type {\n",
              "        vertical-align: middle;\n",
              "    }\n",
              "\n",
              "    .dataframe tbody tr th {\n",
              "        vertical-align: top;\n",
              "    }\n",
              "\n",
              "    .dataframe thead th {\n",
              "        text-align: right;\n",
              "    }\n",
              "</style>\n",
              "<table border=\"1\" class=\"dataframe\">\n",
              "  <thead>\n",
              "    <tr style=\"text-align: right;\">\n",
              "      <th></th>\n",
              "      <th>PassengerId</th>\n",
              "      <th>Pclass</th>\n",
              "      <th>Age</th>\n",
              "      <th>SibSp</th>\n",
              "      <th>Parch</th>\n",
              "      <th>Fare</th>\n",
              "    </tr>\n",
              "  </thead>\n",
              "  <tbody>\n",
              "    <tr>\n",
              "      <th>count</th>\n",
              "      <td>418.000000</td>\n",
              "      <td>418.000000</td>\n",
              "      <td>332.000000</td>\n",
              "      <td>418.000000</td>\n",
              "      <td>418.000000</td>\n",
              "      <td>417.000000</td>\n",
              "    </tr>\n",
              "    <tr>\n",
              "      <th>mean</th>\n",
              "      <td>1100.500000</td>\n",
              "      <td>2.265550</td>\n",
              "      <td>30.272590</td>\n",
              "      <td>0.447368</td>\n",
              "      <td>0.392344</td>\n",
              "      <td>35.627188</td>\n",
              "    </tr>\n",
              "    <tr>\n",
              "      <th>std</th>\n",
              "      <td>120.810458</td>\n",
              "      <td>0.841838</td>\n",
              "      <td>14.181209</td>\n",
              "      <td>0.896760</td>\n",
              "      <td>0.981429</td>\n",
              "      <td>55.907576</td>\n",
              "    </tr>\n",
              "    <tr>\n",
              "      <th>min</th>\n",
              "      <td>892.000000</td>\n",
              "      <td>1.000000</td>\n",
              "      <td>0.170000</td>\n",
              "      <td>0.000000</td>\n",
              "      <td>0.000000</td>\n",
              "      <td>0.000000</td>\n",
              "    </tr>\n",
              "    <tr>\n",
              "      <th>25%</th>\n",
              "      <td>996.250000</td>\n",
              "      <td>1.000000</td>\n",
              "      <td>21.000000</td>\n",
              "      <td>0.000000</td>\n",
              "      <td>0.000000</td>\n",
              "      <td>7.895800</td>\n",
              "    </tr>\n",
              "    <tr>\n",
              "      <th>50%</th>\n",
              "      <td>1100.500000</td>\n",
              "      <td>3.000000</td>\n",
              "      <td>27.000000</td>\n",
              "      <td>0.000000</td>\n",
              "      <td>0.000000</td>\n",
              "      <td>14.454200</td>\n",
              "    </tr>\n",
              "    <tr>\n",
              "      <th>75%</th>\n",
              "      <td>1204.750000</td>\n",
              "      <td>3.000000</td>\n",
              "      <td>39.000000</td>\n",
              "      <td>1.000000</td>\n",
              "      <td>0.000000</td>\n",
              "      <td>31.500000</td>\n",
              "    </tr>\n",
              "    <tr>\n",
              "      <th>max</th>\n",
              "      <td>1309.000000</td>\n",
              "      <td>3.000000</td>\n",
              "      <td>76.000000</td>\n",
              "      <td>8.000000</td>\n",
              "      <td>9.000000</td>\n",
              "      <td>512.329200</td>\n",
              "    </tr>\n",
              "  </tbody>\n",
              "</table>\n",
              "</div>\n",
              "      <button class=\"colab-df-convert\" onclick=\"convertToInteractive('df-501eb708-c490-4e22-8cab-54820fa58f2d')\"\n",
              "              title=\"Convert this dataframe to an interactive table.\"\n",
              "              style=\"display:none;\">\n",
              "        \n",
              "  <svg xmlns=\"http://www.w3.org/2000/svg\" height=\"24px\"viewBox=\"0 0 24 24\"\n",
              "       width=\"24px\">\n",
              "    <path d=\"M0 0h24v24H0V0z\" fill=\"none\"/>\n",
              "    <path d=\"M18.56 5.44l.94 2.06.94-2.06 2.06-.94-2.06-.94-.94-2.06-.94 2.06-2.06.94zm-11 1L8.5 8.5l.94-2.06 2.06-.94-2.06-.94L8.5 2.5l-.94 2.06-2.06.94zm10 10l.94 2.06.94-2.06 2.06-.94-2.06-.94-.94-2.06-.94 2.06-2.06.94z\"/><path d=\"M17.41 7.96l-1.37-1.37c-.4-.4-.92-.59-1.43-.59-.52 0-1.04.2-1.43.59L10.3 9.45l-7.72 7.72c-.78.78-.78 2.05 0 2.83L4 21.41c.39.39.9.59 1.41.59.51 0 1.02-.2 1.41-.59l7.78-7.78 2.81-2.81c.8-.78.8-2.07 0-2.86zM5.41 20L4 18.59l7.72-7.72 1.47 1.35L5.41 20z\"/>\n",
              "  </svg>\n",
              "      </button>\n",
              "      \n",
              "  <style>\n",
              "    .colab-df-container {\n",
              "      display:flex;\n",
              "      flex-wrap:wrap;\n",
              "      gap: 12px;\n",
              "    }\n",
              "\n",
              "    .colab-df-convert {\n",
              "      background-color: #E8F0FE;\n",
              "      border: none;\n",
              "      border-radius: 50%;\n",
              "      cursor: pointer;\n",
              "      display: none;\n",
              "      fill: #1967D2;\n",
              "      height: 32px;\n",
              "      padding: 0 0 0 0;\n",
              "      width: 32px;\n",
              "    }\n",
              "\n",
              "    .colab-df-convert:hover {\n",
              "      background-color: #E2EBFA;\n",
              "      box-shadow: 0px 1px 2px rgba(60, 64, 67, 0.3), 0px 1px 3px 1px rgba(60, 64, 67, 0.15);\n",
              "      fill: #174EA6;\n",
              "    }\n",
              "\n",
              "    [theme=dark] .colab-df-convert {\n",
              "      background-color: #3B4455;\n",
              "      fill: #D2E3FC;\n",
              "    }\n",
              "\n",
              "    [theme=dark] .colab-df-convert:hover {\n",
              "      background-color: #434B5C;\n",
              "      box-shadow: 0px 1px 3px 1px rgba(0, 0, 0, 0.15);\n",
              "      filter: drop-shadow(0px 1px 2px rgba(0, 0, 0, 0.3));\n",
              "      fill: #FFFFFF;\n",
              "    }\n",
              "  </style>\n",
              "\n",
              "      <script>\n",
              "        const buttonEl =\n",
              "          document.querySelector('#df-501eb708-c490-4e22-8cab-54820fa58f2d button.colab-df-convert');\n",
              "        buttonEl.style.display =\n",
              "          google.colab.kernel.accessAllowed ? 'block' : 'none';\n",
              "\n",
              "        async function convertToInteractive(key) {\n",
              "          const element = document.querySelector('#df-501eb708-c490-4e22-8cab-54820fa58f2d');\n",
              "          const dataTable =\n",
              "            await google.colab.kernel.invokeFunction('convertToInteractive',\n",
              "                                                     [key], {});\n",
              "          if (!dataTable) return;\n",
              "\n",
              "          const docLinkHtml = 'Like what you see? Visit the ' +\n",
              "            '<a target=\"_blank\" href=https://colab.research.google.com/notebooks/data_table.ipynb>data table notebook</a>'\n",
              "            + ' to learn more about interactive tables.';\n",
              "          element.innerHTML = '';\n",
              "          dataTable['output_type'] = 'display_data';\n",
              "          await google.colab.output.renderOutput(dataTable, element);\n",
              "          const docLink = document.createElement('div');\n",
              "          docLink.innerHTML = docLinkHtml;\n",
              "          element.appendChild(docLink);\n",
              "        }\n",
              "      </script>\n",
              "    </div>\n",
              "  </div>\n",
              "  "
            ]
          },
          "metadata": {},
          "execution_count": 9
        }
      ]
    },
    {
      "cell_type": "markdown",
      "metadata": {
        "id": "4VslgxPQTvWO"
      },
      "source": [
        "Insigths:\n",
        "- Train data size: 891; test data size: 418\n",
        "- Age ranges between 0.42 to 80 for the train data and between 0.17 to 76 for test data\n",
        "- Fare ranges between 0 to 512\n",
        "- etc.\n",
        "---------------------------------------------"
      ]
    },
    {
      "cell_type": "markdown",
      "metadata": {
        "id": "2h2Jh7C9dI3U"
      },
      "source": [
        "### Review the responses to the\tvalue_counts() method:\n",
        "-------------------------------------"
      ]
    },
    {
      "cell_type": "code",
      "metadata": {
        "id": "pnIow1vieOGg",
        "colab": {
          "base_uri": "https://localhost:8080/"
        },
        "outputId": "abe49c76-ecee-4ad6-8be2-a5d011e8150c"
      },
      "source": [
        "train_data.Survived.value_counts() # make sure that survided has 0 and 1 values and see how many we have for each"
      ],
      "execution_count": null,
      "outputs": [
        {
          "output_type": "execute_result",
          "data": {
            "text/plain": [
              "0    549\n",
              "1    342\n",
              "Name: Survived, dtype: int64"
            ]
          },
          "metadata": {},
          "execution_count": 10
        }
      ]
    },
    {
      "cell_type": "code",
      "metadata": {
        "id": "t2aUnTMXdMw4",
        "colab": {
          "base_uri": "https://localhost:8080/"
        },
        "outputId": "03eaf09b-d05b-440f-d231-e18a4098cf7c"
      },
      "source": [
        "train_data.Pclass.value_counts() # see the passenger classes we have and see how many we have for each"
      ],
      "execution_count": null,
      "outputs": [
        {
          "output_type": "execute_result",
          "data": {
            "text/plain": [
              "3    491\n",
              "1    216\n",
              "2    184\n",
              "Name: Pclass, dtype: int64"
            ]
          },
          "metadata": {},
          "execution_count": 11
        }
      ]
    },
    {
      "cell_type": "code",
      "metadata": {
        "id": "ofXPCU36d6VN",
        "colab": {
          "base_uri": "https://localhost:8080/"
        },
        "outputId": "9596fc1d-7ff3-4850-e061-89b7b9d67356"
      },
      "source": [
        "train_data.Sex.value_counts() # make sure we have male/female values and see how many we have for each"
      ],
      "execution_count": null,
      "outputs": [
        {
          "output_type": "execute_result",
          "data": {
            "text/plain": [
              "male      577\n",
              "female    314\n",
              "Name: Sex, dtype: int64"
            ]
          },
          "metadata": {},
          "execution_count": 12
        }
      ]
    },
    {
      "cell_type": "code",
      "metadata": {
        "id": "ddcg8v9Dfey7",
        "colab": {
          "base_uri": "https://localhost:8080/"
        },
        "outputId": "35907778-618c-4820-dfbd-3e30421529f9"
      },
      "source": [
        "train_data.Embarked.value_counts() # see the unique values and see how many we have for each"
      ],
      "execution_count": null,
      "outputs": [
        {
          "output_type": "execute_result",
          "data": {
            "text/plain": [
              "S    644\n",
              "C    168\n",
              "Q     77\n",
              "Name: Embarked, dtype: int64"
            ]
          },
          "metadata": {},
          "execution_count": 13
        }
      ]
    },
    {
      "cell_type": "code",
      "metadata": {
        "id": "2HguyoCnf3ge",
        "colab": {
          "base_uri": "https://localhost:8080/"
        },
        "outputId": "a7536f50-f32f-43af-ca6b-c77bd1beee23"
      },
      "source": [
        "train_data.Parch.value_counts() # see the parent children values and its distribution"
      ],
      "execution_count": null,
      "outputs": [
        {
          "output_type": "execute_result",
          "data": {
            "text/plain": [
              "0    678\n",
              "1    118\n",
              "2     80\n",
              "5      5\n",
              "3      5\n",
              "4      4\n",
              "6      1\n",
              "Name: Parch, dtype: int64"
            ]
          },
          "metadata": {},
          "execution_count": 14
        }
      ]
    },
    {
      "cell_type": "code",
      "metadata": {
        "id": "uZhFg3U8gu4V",
        "colab": {
          "base_uri": "https://localhost:8080/"
        },
        "outputId": "63dfce43-af7f-43a8-aeac-e9a17b922b22"
      },
      "source": [
        "train_data.SibSp.value_counts() # see the parent children values and its distribution"
      ],
      "execution_count": null,
      "outputs": [
        {
          "output_type": "execute_result",
          "data": {
            "text/plain": [
              "0    608\n",
              "1    209\n",
              "2     28\n",
              "4     18\n",
              "3     16\n",
              "8      7\n",
              "5      5\n",
              "Name: SibSp, dtype: int64"
            ]
          },
          "metadata": {},
          "execution_count": 15
        }
      ]
    },
    {
      "cell_type": "markdown",
      "metadata": {
        "id": "Qm-gDdhPnsHV"
      },
      "source": [
        "### Prepare a DataFrame that contains the following numeric fields: Survided, Sex, Age, SibSp, Parch, Fare. Plot these numeric fields on a histogram to get more insights\n",
        "-------------------------------------"
      ]
    },
    {
      "cell_type": "code",
      "metadata": {
        "id": "4KdqGnajhrw3",
        "colab": {
          "base_uri": "https://localhost:8080/",
          "height": 983
        },
        "outputId": "1cf0ebfb-ef68-4688-d455-561f7040e7d4"
      },
      "source": [
        "%matplotlib inline\n",
        "import matplotlib.pyplot as plt\n",
        "hist_data = train_data[[\"Survived\", \"Sex\", \"Age\", \"SibSp\", \"Parch\", \"Fare\"]]\n",
        "hist_data.hist(figsize=(20,15))\n",
        "#hist_data.Fare[train_data[\"Fare\"] < 20].hist(bins=20,figsize=(20,15))\n"
      ],
      "execution_count": null,
      "outputs": [
        {
          "output_type": "execute_result",
          "data": {
            "text/plain": [
              "array([[<AxesSubplot:title={'center':'Survived'}>,\n",
              "        <AxesSubplot:title={'center':'Age'}>],\n",
              "       [<AxesSubplot:title={'center':'SibSp'}>,\n",
              "        <AxesSubplot:title={'center':'Parch'}>],\n",
              "       [<AxesSubplot:title={'center':'Fare'}>, <AxesSubplot:>]],\n",
              "      dtype=object)"
            ]
          },
          "metadata": {},
          "execution_count": 16
        },
        {
          "output_type": "display_data",
          "data": {
            "text/plain": [
              "<Figure size 1440x1080 with 6 Axes>"
            ],
            "image/png": "[encoded data removed]"
          },
          "metadata": {
            "needs_background": "light"
          }
        }
      ]
    },
    {
      "cell_type": "markdown",
      "metadata": {
        "id": "MRtzJcY0qn2U"
      },
      "source": [
        "Insights:\n",
        "- Age is mostly between 20 and 30\n",
        "- Fare is mostly has low values (less than 20 dolars\n",
        "\n",
        "-----------------------------------------------\n"
      ]
    },
    {
      "cell_type": "markdown",
      "metadata": {
        "id": "h909Pm31jEwg"
      },
      "source": [
        "### Use groupby of Pandas to explain the following questions. Study the examples listed here for groupby and plot functions:\n",
        "-\thttps://towardsdatascience.com/pandas-groupby-explained-453692519d0\n",
        "-\thttps://medium.com/@sciencelee/making-plots-with-the-pandas-groupby-ac492941af28\n",
        "\n",
        "For the following examples, use group by and plot for example:\n",
        "> dataFrame.groupby(‘attribute1’)[‘attribute2’].mean()\n",
        "\n",
        "> dataFrame.groupby(‘attribute1’)[‘attribute2’].mean().plot(kind=’bar’)"
      ]
    },
    {
      "cell_type": "markdown",
      "source": [],
      "metadata": {
        "id": "otrdUUuXZ6QO"
      }
    },
    {
      "cell_type": "markdown",
      "metadata": {
        "id": "GjhTnoVtmUZ6"
      },
      "source": [
        "\n",
        "#### Show the average survival rate based on passenger class and sex. Then plot the results.\n",
        "\n",
        "The following examples use group by and plot for example:\n",
        "\n",
        "dataFrame.groupby(‘attribute1’)[‘attribute2’].mean()\n",
        "\n",
        "dataFrame.groupby(‘attribute1’)[‘attribute2’].mean().plot(kind=’bar’)\n",
        "\n",
        "For more info:\n",
        "https://towardsdatascience.com/pandas-groupby-explained-453692519d0\n",
        "\n",
        "https://medium.com/@sciencelee/making-plots-with-the-pandas-groupby-ac492941af28\n"
      ]
    },
    {
      "cell_type": "code",
      "metadata": {
        "id": "5LLCIt3-muyf",
        "colab": {
          "base_uri": "https://localhost:8080/"
        },
        "outputId": "ba75eeb9-5dd4-4aed-f2fd-85dda0f5039d"
      },
      "source": [
        "train_data.groupby(['Pclass'])['Survived'].mean()"
      ],
      "execution_count": null,
      "outputs": [
        {
          "output_type": "execute_result",
          "data": {
            "text/plain": [
              "Pclass\n",
              "1    0.629630\n",
              "2    0.472826\n",
              "3    0.242363\n",
              "Name: Survived, dtype: float64"
            ]
          },
          "metadata": {},
          "execution_count": 17
        }
      ]
    },
    {
      "cell_type": "code",
      "metadata": {
        "id": "YJKczEt4mYuI",
        "colab": {
          "base_uri": "https://localhost:8080/",
          "height": 294
        },
        "outputId": "26b12e9f-fb8e-4dc8-8726-4b1161257f15"
      },
      "source": [
        "train_data.groupby(['Pclass'])['Survived'].mean().plot(kind='bar')"
      ],
      "execution_count": null,
      "outputs": [
        {
          "output_type": "execute_result",
          "data": {
            "text/plain": [
              "<AxesSubplot:xlabel='Pclass'>"
            ]
          },
          "metadata": {},
          "execution_count": 18
        },
        {
          "output_type": "display_data",
          "data": {
            "text/plain": [
              "<Figure size 432x288 with 1 Axes>"
            ],
            "image/png": "[encoded data removed]"
          },
          "metadata": {
            "needs_background": "light"
          }
        }
      ]
    },
    {
      "cell_type": "markdown",
      "metadata": {
        "id": "EwoaxFiTzAau"
      },
      "source": [
        "The insight:\n",
        "- First class has higher survival rate than second class and second class has higher than third class\n",
        "----------------------------------"
      ]
    },
    {
      "cell_type": "code",
      "metadata": {
        "id": "b71FtP34nRVv",
        "colab": {
          "base_uri": "https://localhost:8080/"
        },
        "outputId": "9942f39d-63c3-4d2b-bca3-b0fd63ac1c13"
      },
      "source": [
        "train_data.groupby(['Sex'])['Survived'].mean()"
      ],
      "execution_count": null,
      "outputs": [
        {
          "output_type": "execute_result",
          "data": {
            "text/plain": [
              "Sex\n",
              "female    0.742038\n",
              "male      0.188908\n",
              "Name: Survived, dtype: float64"
            ]
          },
          "metadata": {},
          "execution_count": 19
        }
      ]
    },
    {
      "cell_type": "code",
      "metadata": {
        "id": "2Vq9Yx1ynXSD",
        "colab": {
          "base_uri": "https://localhost:8080/",
          "height": 322
        },
        "outputId": "e1a3af37-fa96-4f9f-8751-5e6bf086d2ac"
      },
      "source": [
        "train_data.groupby(['Sex'])['Survived'].mean().plot(kind='bar')"
      ],
      "execution_count": null,
      "outputs": [
        {
          "output_type": "execute_result",
          "data": {
            "text/plain": [
              "<AxesSubplot:xlabel='Sex'>"
            ]
          },
          "metadata": {},
          "execution_count": 20
        },
        {
          "output_type": "display_data",
          "data": {
            "text/plain": [
              "<Figure size 432x288 with 1 Axes>"
            ],
            "image/png": "[encoded data removed]"
          },
          "metadata": {
            "needs_background": "light"
          }
        }
      ]
    },
    {
      "cell_type": "markdown",
      "metadata": {
        "id": "SgRtATtozR6p"
      },
      "source": [
        "The insight:\n",
        "- Women have better survival rate than men\n",
        "----------------------------------"
      ]
    },
    {
      "cell_type": "markdown",
      "metadata": {
        "id": "cXK82TXTj4Xo"
      },
      "source": [
        "#### Other examples of group by and median:"
      ]
    },
    {
      "cell_type": "code",
      "metadata": {
        "id": "nluH9jryaM8g",
        "colab": {
          "base_uri": "https://localhost:8080/"
        },
        "outputId": "8c638d6c-8662-447f-b659-43d4b7cfd336"
      },
      "source": [
        "train_data.groupby(['Pclass','Sex'])['Age'].median() # median age by Pclass, Sex"
      ],
      "execution_count": null,
      "outputs": [
        {
          "output_type": "execute_result",
          "data": {
            "text/plain": [
              "Pclass  Sex   \n",
              "1       female    35.0\n",
              "        male      40.0\n",
              "2       female    28.0\n",
              "        male      30.0\n",
              "3       female    21.5\n",
              "        male      25.0\n",
              "Name: Age, dtype: float64"
            ]
          },
          "metadata": {},
          "execution_count": 21
        }
      ]
    },
    {
      "cell_type": "code",
      "metadata": {
        "id": "qileNulxTy-t",
        "colab": {
          "base_uri": "https://localhost:8080/"
        },
        "outputId": "5ce152b5-9d5c-46d3-d414-05fa4fc1ac67"
      },
      "source": [
        "train_data.groupby(['Pclass','Embarked'])['Fare'].median()"
      ],
      "execution_count": null,
      "outputs": [
        {
          "output_type": "execute_result",
          "data": {
            "text/plain": [
              "Pclass  Embarked\n",
              "1       C           78.2667\n",
              "        Q           90.0000\n",
              "        S           52.0000\n",
              "2       C           24.0000\n",
              "        Q           12.3500\n",
              "        S           13.5000\n",
              "3       C            7.8958\n",
              "        Q            7.7500\n",
              "        S            8.0500\n",
              "Name: Fare, dtype: float64"
            ]
          },
          "metadata": {},
          "execution_count": 22
        }
      ]
    },
    {
      "cell_type": "markdown",
      "metadata": {
        "id": "f9A_IHSTXIkL"
      },
      "source": [
        "-----------------------------"
      ]
    },
    {
      "cell_type": "markdown",
      "metadata": {
        "id": "psvyLl4EXwlp"
      },
      "source": [
        "### Process data\n",
        "- 1) Create a new 'all_data' frame by appending test data to train data.\n",
        "\n",
        "- 2) Using pandas methods see and show that some indexes repeat. Find a way to re-organize the index so that they are unique and do not have an extra 'index' column.\n",
        "\n",
        "- 3) Then check the data using the info() method and list which columns have missing data (other than 'Survived')"
      ]
    },
    {
      "cell_type": "code",
      "metadata": {
        "id": "zHCjFiYIXMe9",
        "colab": {
          "base_uri": "https://localhost:8080/"
        },
        "outputId": "9a317a37-6433-496a-b376-bbc0c17cc652"
      },
      "source": [
        "all_data = train_data.append(test_data) # important\n",
        "all_data.info()"
      ],
      "execution_count": null,
      "outputs": [
        {
          "output_type": "stream",
          "name": "stdout",
          "text": [
            "<class 'pandas.core.frame.DataFrame'>\n",
            "Int64Index: 1309 entries, 0 to 417\n",
            "Data columns (total 12 columns):\n",
            " #   Column       Non-Null Count  Dtype  \n",
            "---  ------       --------------  -----  \n",
            " 0   PassengerId  1309 non-null   int64  \n",
            " 1   Survived     891 non-null    float64\n",
            " 2   Pclass       1309 non-null   int64  \n",
            " 3   Name         1309 non-null   object \n",
            " 4   Sex          1309 non-null   object \n",
            " 5   Age          1046 non-null   float64\n",
            " 6   SibSp        1309 non-null   int64  \n",
            " 7   Parch        1309 non-null   int64  \n",
            " 8   Ticket       1309 non-null   object \n",
            " 9   Fare         1308 non-null   float64\n",
            " 10  Cabin        295 non-null    object \n",
            " 11  Embarked     1307 non-null   object \n",
            "dtypes: float64(3), int64(4), object(5)\n",
            "memory usage: 132.9+ KB\n"
          ]
        }
      ]
    },
    {
      "cell_type": "code",
      "metadata": {
        "id": "gSfvwGsXAMHs",
        "colab": {
          "base_uri": "https://localhost:8080/",
          "height": 206
        },
        "outputId": "c6b5ca6a-1193-4f1f-8767-7842bc28da2c"
      },
      "source": [
        "all_data.tail() # see that last indexes are not the same as passenger id"
      ],
      "execution_count": null,
      "outputs": [
        {
          "output_type": "execute_result",
          "data": {
            "text/plain": [
              "     PassengerId  Survived  Pclass                          Name     Sex  \\\n",
              "413         1305       NaN       3            Spector, Mr. Woolf    male   \n",
              "414         1306       NaN       1  Oliva y Ocana, Dona. Fermina  female   \n",
              "415         1307       NaN       3  Saether, Mr. Simon Sivertsen    male   \n",
              "416         1308       NaN       3           Ware, Mr. Frederick    male   \n",
              "417         1309       NaN       3      Peter, Master. Michael J    male   \n",
              "\n",
              "      Age  SibSp  Parch              Ticket      Fare Cabin Embarked  \n",
              "413   NaN      0      0           A.5. 3236    8.0500   NaN        S  \n",
              "414  39.0      0      0            PC 17758  108.9000  C105        C  \n",
              "415  38.5      0      0  SOTON/O.Q. 3101262    7.2500   NaN        S  \n",
              "416   NaN      0      0              359309    8.0500   NaN        S  \n",
              "417   NaN      1      1                2668   22.3583   NaN        C  "
            ],
            "text/html": [
              "\n",
              "  <div id=\"df-27fea552-147a-4fa2-80b3-734e4b7e78cc\">\n",
              "    <div class=\"colab-df-container\">\n",
              "      <div>\n",
              "<style scoped>\n",
              "    .dataframe tbody tr th:only-of-type {\n",
              "        vertical-align: middle;\n",
              "    }\n",
              "\n",
              "    .dataframe tbody tr th {\n",
              "        vertical-align: top;\n",
              "    }\n",
              "\n",
              "    .dataframe thead th {\n",
              "        text-align: right;\n",
              "    }\n",
              "</style>\n",
              "<table border=\"1\" class=\"dataframe\">\n",
              "  <thead>\n",
              "    <tr style=\"text-align: right;\">\n",
              "      <th></th>\n",
              "      <th>PassengerId</th>\n",
              "      <th>Survived</th>\n",
              "      <th>Pclass</th>\n",
              "      <th>Name</th>\n",
              "      <th>Sex</th>\n",
              "      <th>Age</th>\n",
              "      <th>SibSp</th>\n",
              "      <th>Parch</th>\n",
              "      <th>Ticket</th>\n",
              "      <th>Fare</th>\n",
              "      <th>Cabin</th>\n",
              "      <th>Embarked</th>\n",
              "    </tr>\n",
              "  </thead>\n",
              "  <tbody>\n",
              "    <tr>\n",
              "      <th>413</th>\n",
              "      <td>1305</td>\n",
              "      <td>NaN</td>\n",
              "      <td>3</td>\n",
              "      <td>Spector, Mr. Woolf</td>\n",
              "      <td>male</td>\n",
              "      <td>NaN</td>\n",
              "      <td>0</td>\n",
              "      <td>0</td>\n",
              "      <td>A.5. 3236</td>\n",
              "      <td>8.0500</td>\n",
              "      <td>NaN</td>\n",
              "      <td>S</td>\n",
              "    </tr>\n",
              "    <tr>\n",
              "      <th>414</th>\n",
              "      <td>1306</td>\n",
              "      <td>NaN</td>\n",
              "      <td>1</td>\n",
              "      <td>Oliva y Ocana, Dona. Fermina</td>\n",
              "      <td>female</td>\n",
              "      <td>39.0</td>\n",
              "      <td>0</td>\n",
              "      <td>0</td>\n",
              "      <td>PC 17758</td>\n",
              "      <td>108.9000</td>\n",
              "      <td>C105</td>\n",
              "      <td>C</td>\n",
              "    </tr>\n",
              "    <tr>\n",
              "      <th>415</th>\n",
              "      <td>1307</td>\n",
              "      <td>NaN</td>\n",
              "      <td>3</td>\n",
              "      <td>Saether, Mr. Simon Sivertsen</td>\n",
              "      <td>male</td>\n",
              "      <td>38.5</td>\n",
              "      <td>0</td>\n",
              "      <td>0</td>\n",
              "      <td>SOTON/O.Q. 3101262</td>\n",
              "      <td>7.2500</td>\n",
              "      <td>NaN</td>\n",
              "      <td>S</td>\n",
              "    </tr>\n",
              "    <tr>\n",
              "      <th>416</th>\n",
              "      <td>1308</td>\n",
              "      <td>NaN</td>\n",
              "      <td>3</td>\n",
              "      <td>Ware, Mr. Frederick</td>\n",
              "      <td>male</td>\n",
              "      <td>NaN</td>\n",
              "      <td>0</td>\n",
              "      <td>0</td>\n",
              "      <td>359309</td>\n",
              "      <td>8.0500</td>\n",
              "      <td>NaN</td>\n",
              "      <td>S</td>\n",
              "    </tr>\n",
              "    <tr>\n",
              "      <th>417</th>\n",
              "      <td>1309</td>\n",
              "      <td>NaN</td>\n",
              "      <td>3</td>\n",
              "      <td>Peter, Master. Michael J</td>\n",
              "      <td>male</td>\n",
              "      <td>NaN</td>\n",
              "      <td>1</td>\n",
              "      <td>1</td>\n",
              "      <td>2668</td>\n",
              "      <td>22.3583</td>\n",
              "      <td>NaN</td>\n",
              "      <td>C</td>\n",
              "    </tr>\n",
              "  </tbody>\n",
              "</table>\n",
              "</div>\n",
              "      <button class=\"colab-df-convert\" onclick=\"convertToInteractive('df-27fea552-147a-4fa2-80b3-734e4b7e78cc')\"\n",
              "              title=\"Convert this dataframe to an interactive table.\"\n",
              "              style=\"display:none;\">\n",
              "        \n",
              "  <svg xmlns=\"http://www.w3.org/2000/svg\" height=\"24px\"viewBox=\"0 0 24 24\"\n",
              "       width=\"24px\">\n",
              "    <path d=\"M0 0h24v24H0V0z\" fill=\"none\"/>\n",
              "    <path d=\"M18.56 5.44l.94 2.06.94-2.06 2.06-.94-2.06-.94-.94-2.06-.94 2.06-2.06.94zm-11 1L8.5 8.5l.94-2.06 2.06-.94-2.06-.94L8.5 2.5l-.94 2.06-2.06.94zm10 10l.94 2.06.94-2.06 2.06-.94-2.06-.94-.94-2.06-.94 2.06-2.06.94z\"/><path d=\"M17.41 7.96l-1.37-1.37c-.4-.4-.92-.59-1.43-.59-.52 0-1.04.2-1.43.59L10.3 9.45l-7.72 7.72c-.78.78-.78 2.05 0 2.83L4 21.41c.39.39.9.59 1.41.59.51 0 1.02-.2 1.41-.59l7.78-7.78 2.81-2.81c.8-.78.8-2.07 0-2.86zM5.41 20L4 18.59l7.72-7.72 1.47 1.35L5.41 20z\"/>\n",
              "  </svg>\n",
              "      </button>\n",
              "      \n",
              "  <style>\n",
              "    .colab-df-container {\n",
              "      display:flex;\n",
              "      flex-wrap:wrap;\n",
              "      gap: 12px;\n",
              "    }\n",
              "\n",
              "    .colab-df-convert {\n",
              "      background-color: #E8F0FE;\n",
              "      border: none;\n",
              "      border-radius: 50%;\n",
              "      cursor: pointer;\n",
              "      display: none;\n",
              "      fill: #1967D2;\n",
              "      height: 32px;\n",
              "      padding: 0 0 0 0;\n",
              "      width: 32px;\n",
              "    }\n",
              "\n",
              "    .colab-df-convert:hover {\n",
              "      background-color: #E2EBFA;\n",
              "      box-shadow: 0px 1px 2px rgba(60, 64, 67, 0.3), 0px 1px 3px 1px rgba(60, 64, 67, 0.15);\n",
              "      fill: #174EA6;\n",
              "    }\n",
              "\n",
              "    [theme=dark] .colab-df-convert {\n",
              "      background-color: #3B4455;\n",
              "      fill: #D2E3FC;\n",
              "    }\n",
              "\n",
              "    [theme=dark] .colab-df-convert:hover {\n",
              "      background-color: #434B5C;\n",
              "      box-shadow: 0px 1px 3px 1px rgba(0, 0, 0, 0.15);\n",
              "      filter: drop-shadow(0px 1px 2px rgba(0, 0, 0, 0.3));\n",
              "      fill: #FFFFFF;\n",
              "    }\n",
              "  </style>\n",
              "\n",
              "      <script>\n",
              "        const buttonEl =\n",
              "          document.querySelector('#df-27fea552-147a-4fa2-80b3-734e4b7e78cc button.colab-df-convert');\n",
              "        buttonEl.style.display =\n",
              "          google.colab.kernel.accessAllowed ? 'block' : 'none';\n",
              "\n",
              "        async function convertToInteractive(key) {\n",
              "          const element = document.querySelector('#df-27fea552-147a-4fa2-80b3-734e4b7e78cc');\n",
              "          const dataTable =\n",
              "            await google.colab.kernel.invokeFunction('convertToInteractive',\n",
              "                                                     [key], {});\n",
              "          if (!dataTable) return;\n",
              "\n",
              "          const docLinkHtml = 'Like what you see? Visit the ' +\n",
              "            '<a target=\"_blank\" href=https://colab.research.google.com/notebooks/data_table.ipynb>data table notebook</a>'\n",
              "            + ' to learn more about interactive tables.';\n",
              "          element.innerHTML = '';\n",
              "          dataTable['output_type'] = 'display_data';\n",
              "          await google.colab.output.renderOutput(dataTable, element);\n",
              "          const docLink = document.createElement('div');\n",
              "          docLink.innerHTML = docLinkHtml;\n",
              "          element.appendChild(docLink);\n",
              "        }\n",
              "      </script>\n",
              "    </div>\n",
              "  </div>\n",
              "  "
            ]
          },
          "metadata": {},
          "execution_count": 24
        }
      ]
    },
    {
      "cell_type": "code",
      "metadata": {
        "id": "ENSFHdV_C10T",
        "colab": {
          "base_uri": "https://localhost:8080/"
        },
        "outputId": "ee28822a-38de-4d14-8a17-bcb1c6561528"
      },
      "source": [
        "all_data.index.value_counts()>1  # see that some index values exists more than 1"
      ],
      "execution_count": null,
      "outputs": [
        {
          "output_type": "execute_result",
          "data": {
            "text/plain": [
              "0       True\n",
              "314     True\n",
              "286     True\n",
              "285     True\n",
              "284     True\n",
              "       ...  \n",
              "571    False\n",
              "570    False\n",
              "569    False\n",
              "568    False\n",
              "890    False\n",
              "Length: 891, dtype: bool"
            ]
          },
          "metadata": {},
          "execution_count": 25
        }
      ]
    },
    {
      "cell_type": "markdown",
      "source": [
        "##### Re-organize the index so that they are unique and do not have an extra 'index' column."
      ],
      "metadata": {
        "id": "zMa8T04SO7F5"
      }
    },
    {
      "cell_type": "code",
      "metadata": {
        "id": "2SLJYzIiBve_"
      },
      "source": [
        "all_data.reset_index(inplace = True, drop = True) # reset the inde inplace and drop the created extra 'index' column"
      ],
      "execution_count": null,
      "outputs": []
    },
    {
      "cell_type": "markdown",
      "source": [
        "### Find out that some of the columns are missing data (have null values):"
      ],
      "metadata": {
        "id": "d1Vb_JR7PDwQ"
      }
    },
    {
      "cell_type": "code",
      "metadata": {
        "id": "Hr7aqZxqAQp6",
        "colab": {
          "base_uri": "https://localhost:8080/"
        },
        "outputId": "a6134b3e-d29c-468e-ad70-a8b35eb9b728"
      },
      "source": [
        "all_data.info()"
      ],
      "execution_count": null,
      "outputs": [
        {
          "output_type": "stream",
          "name": "stdout",
          "text": [
            "<class 'pandas.core.frame.DataFrame'>\n",
            "RangeIndex: 1309 entries, 0 to 1308\n",
            "Data columns (total 12 columns):\n",
            " #   Column       Non-Null Count  Dtype  \n",
            "---  ------       --------------  -----  \n",
            " 0   PassengerId  1309 non-null   int64  \n",
            " 1   Survived     891 non-null    float64\n",
            " 2   Pclass       1309 non-null   int64  \n",
            " 3   Name         1309 non-null   object \n",
            " 4   Sex          1309 non-null   object \n",
            " 5   Age          1046 non-null   float64\n",
            " 6   SibSp        1309 non-null   int64  \n",
            " 7   Parch        1309 non-null   int64  \n",
            " 8   Ticket       1309 non-null   object \n",
            " 9   Fare         1308 non-null   float64\n",
            " 10  Cabin        295 non-null    object \n",
            " 11  Embarked     1307 non-null   object \n",
            "dtypes: float64(3), int64(4), object(5)\n",
            "memory usage: 122.8+ KB\n"
          ]
        }
      ]
    },
    {
      "cell_type": "markdown",
      "metadata": {
        "id": "rvQTHot2DZK-"
      },
      "source": [
        "Which columns have missing data:\n",
        "- Age\n",
        "- Fare\n",
        "- Cabin\n",
        "- Embarked"
      ]
    },
    {
      "cell_type": "markdown",
      "metadata": {
        "id": "glJEC9N6EhqN"
      },
      "source": [
        "#### Fill missing values of 'Cabin' field with the 'NA' value."
      ]
    },
    {
      "cell_type": "code",
      "metadata": {
        "id": "HNSrcYFcBL0H"
      },
      "source": [
        "all_data.Cabin = all_data.Cabin.fillna('NA')\n",
        "all_data.Cabin.fillna('NA', inplace=True)"
      ],
      "execution_count": null,
      "outputs": []
    },
    {
      "cell_type": "markdown",
      "metadata": {
        "id": "J7Ql5NWAWwBZ"
      },
      "source": [
        "### Work on missing values on the whole data set"
      ]
    },
    {
      "cell_type": "code",
      "metadata": {
        "colab": {
          "base_uri": "https://localhost:8080/"
        },
        "id": "_HEKlXPMqIco",
        "outputId": "a148f317-c23f-4f22-b73b-368772f64dd6"
      },
      "source": [
        "all_data.info()"
      ],
      "execution_count": null,
      "outputs": [
        {
          "output_type": "stream",
          "name": "stdout",
          "text": [
            "<class 'pandas.core.frame.DataFrame'>\n",
            "RangeIndex: 1309 entries, 0 to 1308\n",
            "Data columns (total 12 columns):\n",
            " #   Column       Non-Null Count  Dtype  \n",
            "---  ------       --------------  -----  \n",
            " 0   PassengerId  1309 non-null   int64  \n",
            " 1   Survived     891 non-null    float64\n",
            " 2   Pclass       1309 non-null   int64  \n",
            " 3   Name         1309 non-null   object \n",
            " 4   Sex          1309 non-null   object \n",
            " 5   Age          1046 non-null   float64\n",
            " 6   SibSp        1309 non-null   int64  \n",
            " 7   Parch        1309 non-null   int64  \n",
            " 8   Ticket       1309 non-null   object \n",
            " 9   Fare         1308 non-null   float64\n",
            " 10  Cabin        1309 non-null   object \n",
            " 11  Embarked     1307 non-null   object \n",
            "dtypes: float64(3), int64(4), object(5)\n",
            "memory usage: 122.8+ KB\n"
          ]
        }
      ]
    },
    {
      "cell_type": "markdown",
      "metadata": {
        "id": "Qaay5ZK6YPZB"
      },
      "source": [
        "#### Fill the missing values of 'Age' field with the median age of the pasenger class and sex using the apply method with lambda function.\n"
      ]
    },
    {
      "cell_type": "code",
      "metadata": {
        "id": "vBvugB1KbSKD"
      },
      "source": [
        "# Fill in missing age information based on the median age for its class and sex.\n",
        "all_data['Age'] = all_data.groupby(['Pclass','Sex'])['Age'].apply(lambda x : x.fillna(x.median()))"
      ],
      "execution_count": null,
      "outputs": []
    },
    {
      "cell_type": "code",
      "metadata": {
        "colab": {
          "base_uri": "https://localhost:8080/"
        },
        "id": "zBaMBseep4dQ",
        "outputId": "28ebf3ea-afb0-4a02-c6b2-c2ce0d0dfeaf"
      },
      "source": [
        "all_data.info()"
      ],
      "execution_count": null,
      "outputs": [
        {
          "output_type": "stream",
          "name": "stdout",
          "text": [
            "<class 'pandas.core.frame.DataFrame'>\n",
            "RangeIndex: 1309 entries, 0 to 1308\n",
            "Data columns (total 12 columns):\n",
            " #   Column       Non-Null Count  Dtype  \n",
            "---  ------       --------------  -----  \n",
            " 0   PassengerId  1309 non-null   int64  \n",
            " 1   Survived     891 non-null    float64\n",
            " 2   Pclass       1309 non-null   int64  \n",
            " 3   Name         1309 non-null   object \n",
            " 4   Sex          1309 non-null   object \n",
            " 5   Age          1309 non-null   float64\n",
            " 6   SibSp        1309 non-null   int64  \n",
            " 7   Parch        1309 non-null   int64  \n",
            " 8   Ticket       1309 non-null   object \n",
            " 9   Fare         1308 non-null   float64\n",
            " 10  Cabin        1309 non-null   object \n",
            " 11  Embarked     1307 non-null   object \n",
            "dtypes: float64(3), int64(4), object(5)\n",
            "memory usage: 122.8+ KB\n"
          ]
        }
      ]
    },
    {
      "cell_type": "markdown",
      "metadata": {
        "id": "_uaurJv6EtY_"
      },
      "source": [
        "#### Fill missing values of 'Embarked' field with the most frequently seen 'Embarked' value."
      ]
    },
    {
      "cell_type": "code",
      "metadata": {
        "id": "T0hBScBbbpDB"
      },
      "source": [
        "# Fill in missing Embarked based on the most frequent Embarked\n",
        "all_data['Embarked'].fillna(all_data['Embarked'].mode()[0], inplace = True)"
      ],
      "execution_count": null,
      "outputs": []
    },
    {
      "cell_type": "code",
      "metadata": {
        "id": "_Xs_YtLfFJmT",
        "colab": {
          "base_uri": "https://localhost:8080/"
        },
        "outputId": "1a1477a7-1c32-4339-bf77-6ea3e3ba46ea"
      },
      "source": [
        "all_data.info() # Check if all missing data was filled in"
      ],
      "execution_count": null,
      "outputs": [
        {
          "output_type": "stream",
          "name": "stdout",
          "text": [
            "<class 'pandas.core.frame.DataFrame'>\n",
            "RangeIndex: 1309 entries, 0 to 1308\n",
            "Data columns (total 12 columns):\n",
            " #   Column       Non-Null Count  Dtype  \n",
            "---  ------       --------------  -----  \n",
            " 0   PassengerId  1309 non-null   int64  \n",
            " 1   Survived     891 non-null    float64\n",
            " 2   Pclass       1309 non-null   int64  \n",
            " 3   Name         1309 non-null   object \n",
            " 4   Sex          1309 non-null   object \n",
            " 5   Age          1309 non-null   float64\n",
            " 6   SibSp        1309 non-null   int64  \n",
            " 7   Parch        1309 non-null   int64  \n",
            " 8   Ticket       1309 non-null   object \n",
            " 9   Fare         1308 non-null   float64\n",
            " 10  Cabin        1309 non-null   object \n",
            " 11  Embarked     1309 non-null   object \n",
            "dtypes: float64(3), int64(4), object(5)\n",
            "memory usage: 122.8+ KB\n"
          ]
        }
      ]
    },
    {
      "cell_type": "markdown",
      "metadata": {
        "id": "_pLjO1ktaQBn"
      },
      "source": [
        "#### Fill missing values of 'Fare' field with the median fare of the pasenger class and embarked location using the apply method with lambda function."
      ]
    },
    {
      "cell_type": "code",
      "metadata": {
        "id": "uetSvIgCcaHQ"
      },
      "source": [
        "# Fill in missing fare based on its class and embarked place\n",
        "all_data['Fare'] = all_data.groupby(['Pclass','Embarked'])['Fare'].apply(lambda x : x.fillna(x.median()))"
      ],
      "execution_count": null,
      "outputs": []
    },
    {
      "cell_type": "code",
      "metadata": {
        "colab": {
          "base_uri": "https://localhost:8080/"
        },
        "id": "cADY-ZOSqAGM",
        "outputId": "b0b2c5f3-c2e6-4558-b17e-45ab4f0bd560"
      },
      "source": [
        "all_data.info()"
      ],
      "execution_count": null,
      "outputs": [
        {
          "output_type": "stream",
          "name": "stdout",
          "text": [
            "<class 'pandas.core.frame.DataFrame'>\n",
            "RangeIndex: 1309 entries, 0 to 1308\n",
            "Data columns (total 12 columns):\n",
            " #   Column       Non-Null Count  Dtype  \n",
            "---  ------       --------------  -----  \n",
            " 0   PassengerId  1309 non-null   int64  \n",
            " 1   Survived     891 non-null    float64\n",
            " 2   Pclass       1309 non-null   int64  \n",
            " 3   Name         1309 non-null   object \n",
            " 4   Sex          1309 non-null   object \n",
            " 5   Age          1309 non-null   float64\n",
            " 6   SibSp        1309 non-null   int64  \n",
            " 7   Parch        1309 non-null   int64  \n",
            " 8   Ticket       1309 non-null   object \n",
            " 9   Fare         1309 non-null   float64\n",
            " 10  Cabin        1309 non-null   object \n",
            " 11  Embarked     1309 non-null   object \n",
            "dtypes: float64(3), int64(4), object(5)\n",
            "memory usage: 122.8+ KB\n"
          ]
        }
      ]
    },
    {
      "cell_type": "markdown",
      "metadata": {
        "id": "9gPdPAa7Fvmr"
      },
      "source": [
        "### Feature Engineering"
      ]
    },
    {
      "cell_type": "markdown",
      "metadata": {
        "id": "VSAEAZk2ZhtF"
      },
      "source": [
        "#### Create a new feature 'Family_Size'\n",
        "- Create a new feature 'Family_Size' using other features (and also adding the person him/herself to the family size).\n",
        "- Then plot a bar chart to show how many of each 'Family_Size' value exists.\n",
        "- Finally plot a bar chart to show the relationship between 'Family_Size' and the 'Survival'"
      ]
    },
    {
      "cell_type": "code",
      "source": [
        "# Create a new feature by adding SibSp, Parch and the person herself.\n",
        "all_data['Family_Size'] = all_data['SibSp'] + all_data['Parch'] + 1\n",
        "\n",
        "all_data['Family_Size'].value_counts().plot(kind='bar')"
      ],
      "metadata": {
        "id": "Y9JtWJi0Qhjt",
        "colab": {
          "base_uri": "https://localhost:8080/",
          "height": 286
        },
        "outputId": "c093c10d-ff6d-4a46-a08a-e1e52c9145b4"
      },
      "execution_count": null,
      "outputs": [
        {
          "output_type": "execute_result",
          "data": {
            "text/plain": [
              "<AxesSubplot:>"
            ]
          },
          "metadata": {},
          "execution_count": 36
        },
        {
          "output_type": "display_data",
          "data": {
            "text/plain": [
              "<Figure size 432x288 with 1 Axes>"
            ],
            "image/png": "[encoded data removed]"
          },
          "metadata": {
            "needs_background": "light"
          }
        }
      ]
    },
    {
      "cell_type": "code",
      "source": [
        "all_data[['Family_Size','Survived']].groupby('Family_Size')['Survived'].mean().plot(kind='bar')"
      ],
      "metadata": {
        "id": "vEx20dCJTEn5",
        "colab": {
          "base_uri": "https://localhost:8080/",
          "height": 301
        },
        "outputId": "cd1f374b-5e25-4d33-f1d0-491077d672e4"
      },
      "execution_count": null,
      "outputs": [
        {
          "output_type": "execute_result",
          "data": {
            "text/plain": [
              "<AxesSubplot:xlabel='Family_Size'>"
            ]
          },
          "metadata": {},
          "execution_count": 37
        },
        {
          "output_type": "display_data",
          "data": {
            "text/plain": [
              "<Figure size 432x288 with 1 Axes>"
            ],
            "image/png": "[encoded data removed]"
          },
          "metadata": {
            "needs_background": "light"
          }
        }
      ]
    },
    {
      "cell_type": "markdown",
      "metadata": {
        "id": "cR1B_JwlG_x6"
      },
      "source": [
        "#### Create a new feature 'Fare_Category'\n",
        "- Use qcut method of Pandas for creating 'Fare_Category' field from Fare so that we have 5 categories of Fare. Note that: 1) With qcut We decompose a distribution so that there are (approximately) the same number of cases ineach category. 2) qcut returns categorical data and we need to convert it to string using astype(str). Otherwise one-hot-encoder question below might have issues.\n",
        "- Use value_counts() method to show the results.\n",
        "- Plot a bar chart to show the relationship between 'Fare_Category' and the 'Survival'"
      ]
    },
    {
      "cell_type": "code",
      "source": [
        "results_categorical = pd.qcut(all_data['Fare'],5)\n",
        "all_data['Fare_Category'] = pd.Series(results_categorical).astype(str)\n",
        "all_data['Fare_Category'].value_counts()"
      ],
      "metadata": {
        "id": "tR72lSZ9S0EP",
        "colab": {
          "base_uri": "https://localhost:8080/"
        },
        "outputId": "7463a92a-5d23-4b6d-f017-cf54d62232a5"
      },
      "execution_count": null,
      "outputs": [
        {
          "output_type": "execute_result",
          "data": {
            "text/plain": [
              "(-0.001, 7.854]      275\n",
              "(21.558, 41.579]     265\n",
              "(41.579, 512.329]    259\n",
              "(7.854, 10.5]        255\n",
              "(10.5, 21.558]       255\n",
              "Name: Fare_Category, dtype: int64"
            ]
          },
          "metadata": {},
          "execution_count": 38
        }
      ]
    },
    {
      "cell_type": "code",
      "source": [
        "all_data.info()"
      ],
      "metadata": {
        "id": "BowBxCJwTMzn",
        "colab": {
          "base_uri": "https://localhost:8080/"
        },
        "outputId": "47e63f69-9ea9-4b58-bb64-266a29f6181f"
      },
      "execution_count": null,
      "outputs": [
        {
          "output_type": "stream",
          "name": "stdout",
          "text": [
            "<class 'pandas.core.frame.DataFrame'>\n",
            "RangeIndex: 1309 entries, 0 to 1308\n",
            "Data columns (total 14 columns):\n",
            " #   Column         Non-Null Count  Dtype  \n",
            "---  ------         --------------  -----  \n",
            " 0   PassengerId    1309 non-null   int64  \n",
            " 1   Survived       891 non-null    float64\n",
            " 2   Pclass         1309 non-null   int64  \n",
            " 3   Name           1309 non-null   object \n",
            " 4   Sex            1309 non-null   object \n",
            " 5   Age            1309 non-null   float64\n",
            " 6   SibSp          1309 non-null   int64  \n",
            " 7   Parch          1309 non-null   int64  \n",
            " 8   Ticket         1309 non-null   object \n",
            " 9   Fare           1309 non-null   float64\n",
            " 10  Cabin          1309 non-null   object \n",
            " 11  Embarked       1309 non-null   object \n",
            " 12  Family_Size    1309 non-null   int64  \n",
            " 13  Fare_Category  1309 non-null   object \n",
            "dtypes: float64(3), int64(5), object(6)\n",
            "memory usage: 143.3+ KB\n"
          ]
        }
      ]
    },
    {
      "cell_type": "code",
      "source": [
        "all_data[['Fare_Category','Survived']].groupby('Fare_Category')['Survived'].mean().plot(kind='bar')"
      ],
      "metadata": {
        "id": "3cgqyMB0Talo",
        "colab": {
          "base_uri": "https://localhost:8080/",
          "height": 379
        },
        "outputId": "fe2fd34e-6790-433f-ccf6-3bd824222154"
      },
      "execution_count": null,
      "outputs": [
        {
          "output_type": "execute_result",
          "data": {
            "text/plain": [
              "<AxesSubplot:xlabel='Fare_Category'>"
            ]
          },
          "metadata": {},
          "execution_count": 40
        },
        {
          "output_type": "display_data",
          "data": {
            "text/plain": [
              "<Figure size 432x288 with 1 Axes>"
            ],
            "image/png": "[encoded data removed]"
          },
          "metadata": {
            "needs_background": "light"
          }
        }
      ]
    },
    {
      "cell_type": "markdown",
      "metadata": {
        "id": "58hnI5BCHo7N"
      },
      "source": [
        "#### Create a new feature 'Age_Category'\n",
        "- Use cut method of Pandas for creating 'Age_Category' field from Age so that we have 5 categories of Age. Note that: 1) With cut, the bins are formed based on the values of the variable, regardless of how many cases fall into a category. 2) cut returns categorical data and we need to convert it to string using astype(str). Otherwise one-hot-encoder question below might have issues.\n",
        "\n",
        "- Use value_counts() method to show the results.\n",
        "- Plot a bar chart to show the relationship between 'Age_Category' and the 'Survival'\n"
      ]
    },
    {
      "cell_type": "code",
      "source": [
        "results_categorical = pd.cut(all_data['Age'].astype(int),5)\n",
        "all_data['Age_Category'] = pd.Series(results_categorical).astype(str)\n",
        "all_data['Age_Category'].value_counts()"
      ],
      "metadata": {
        "id": "GujRZLmBTgXX",
        "colab": {
          "base_uri": "https://localhost:8080/"
        },
        "outputId": "a8ca9f24-e87f-4f2c-ee9a-79e962b3df9b"
      },
      "execution_count": null,
      "outputs": [
        {
          "output_type": "execute_result",
          "data": {
            "text/plain": [
              "(16.0, 32.0]     752\n",
              "(32.0, 48.0]     304\n",
              "(-0.08, 16.0]    134\n",
              "(48.0, 64.0]     106\n",
              "(64.0, 80.0]      13\n",
              "Name: Age_Category, dtype: int64"
            ]
          },
          "metadata": {},
          "execution_count": 41
        }
      ]
    },
    {
      "cell_type": "code",
      "source": [
        "all_data[['Age_Category','Survived']].groupby('Age_Category')['Survived'].mean().plot(kind='bar')"
      ],
      "metadata": {
        "id": "PLImw81JThPm",
        "colab": {
          "base_uri": "https://localhost:8080/",
          "height": 350
        },
        "outputId": "370e82ba-8986-4733-8006-6b6c8024563d"
      },
      "execution_count": null,
      "outputs": [
        {
          "output_type": "execute_result",
          "data": {
            "text/plain": [
              "<AxesSubplot:xlabel='Age_Category'>"
            ]
          },
          "metadata": {},
          "execution_count": 42
        },
        {
          "output_type": "display_data",
          "data": {
            "text/plain": [
              "<Figure size 432x288 with 1 Axes>"
            ],
            "image/png": "[encoded data removed]"
          },
          "metadata": {
            "needs_background": "light"
          }
        }
      ]
    },
    {
      "cell_type": "markdown",
      "source": [
        "## Project questions codes below:\n"
      ],
      "metadata": {
        "id": "GN8gQwY0tqDF"
      }
    },
    {
      "cell_type": "markdown",
      "metadata": {
        "id": "FHDDLP94e5HK"
      },
      "source": [
        "### Encoders\n"
      ]
    },
    {
      "cell_type": "markdown",
      "source": [
        "### Use the following function to create new attributes and then concatenate new attributes with the all_data dataframe."
      ],
      "metadata": {
        "id": "LQo2LAEmUzyS"
      }
    },
    {
      "cell_type": "markdown",
      "metadata": {
        "id": "fsq00_8fgoSY"
      },
      "source": [
        "#### The following method takes a dataframe and a feature name and then returns a dataframe with one-hot-encoded columns:\n",
        "The code is adapted from the following article:\n",
        "- https://towardsdatascience.com/machine-learning-with-the-titanic-dataset-7f6909e58280"
      ]
    },
    {
      "cell_type": "code",
      "source": [
        "from sklearn.preprocessing import OneHotEncoder\n",
        "import numpy as np\n",
        "\n",
        "def encode_category_to_numeric(feature,data_frame):\n",
        "  encoded_feat = OneHotEncoder().fit_transform(data_frame[feature].values.reshape(-1,1)).toarray()\n",
        "  #number_unique = data_frame[feature].nunique()\n",
        "  unique_values = data_frame[feature].unique()\n",
        "  sorted_unique_value = np.sort(unique_values)\n",
        "  cols = ['{}_{}'.format(feature,value) for value in sorted_unique_value]\n",
        "  encoded_data = pd.DataFrame(encoded_feat, columns=cols)\n",
        "  return encoded_data"
      ],
      "metadata": {
        "id": "-cwc2sQ0UKGU"
      },
      "execution_count": null,
      "outputs": []
    },
    {
      "cell_type": "markdown",
      "source": [
        "#### Create new attributes for the 'Embarked' attribute"
      ],
      "metadata": {
        "id": "Q_8hItW3FJDX"
      }
    },
    {
      "cell_type": "code",
      "source": [
        "New_Embarked = encode_category_to_numeric(\"Embarked\", all_data)\n",
        "all_data = pd.concat([all_data, New_Embarked], axis=1)\n",
        "all_data"
      ],
      "metadata": {
        "id": "h7-I4xMkCHE0",
        "colab": {
          "base_uri": "https://localhost:8080/",
          "height": 922
        },
        "outputId": "e6579896-f3fe-4210-f0bd-6c67c974f8d8"
      },
      "execution_count": null,
      "outputs": [
        {
          "output_type": "execute_result",
          "data": {
            "text/plain": [
              "      PassengerId  Survived  Pclass  \\\n",
              "0               1       0.0       3   \n",
              "1               2       1.0       1   \n",
              "2               3       1.0       3   \n",
              "3               4       1.0       1   \n",
              "4               5       0.0       3   \n",
              "...           ...       ...     ...   \n",
              "1304         1305       NaN       3   \n",
              "1305         1306       NaN       1   \n",
              "1306         1307       NaN       3   \n",
              "1307         1308       NaN       3   \n",
              "1308         1309       NaN       3   \n",
              "\n",
              "                                                   Name     Sex   Age  SibSp  \\\n",
              "0                               Braund, Mr. Owen Harris    male  22.0      1   \n",
              "1     Cumings, Mrs. John Bradley (Florence Briggs Th...  female  38.0      1   \n",
              "2                                Heikkinen, Miss. Laina  female  26.0      0   \n",
              "3          Futrelle, Mrs. Jacques Heath (Lily May Peel)  female  35.0      1   \n",
              "4                              Allen, Mr. William Henry    male  35.0      0   \n",
              "...                                                 ...     ...   ...    ...   \n",
              "1304                                 Spector, Mr. Woolf    male  25.0      0   \n",
              "1305                       Oliva y Ocana, Dona. Fermina  female  39.0      0   \n",
              "1306                       Saether, Mr. Simon Sivertsen    male  38.5      0   \n",
              "1307                                Ware, Mr. Frederick    male  25.0      0   \n",
              "1308                           Peter, Master. Michael J    male  25.0      1   \n",
              "\n",
              "      Parch              Ticket      Fare Cabin Embarked  Family_Size  \\\n",
              "0         0           A/5 21171    7.2500    NA        S            2   \n",
              "1         0            PC 17599   71.2833   C85        C            2   \n",
              "2         0    STON/O2. 3101282    7.9250    NA        S            1   \n",
              "3         0              113803   53.1000  C123        S            2   \n",
              "4         0              373450    8.0500    NA        S            1   \n",
              "...     ...                 ...       ...   ...      ...          ...   \n",
              "1304      0           A.5. 3236    8.0500    NA        S            1   \n",
              "1305      0            PC 17758  108.9000  C105        C            1   \n",
              "1306      0  SOTON/O.Q. 3101262    7.2500    NA        S            1   \n",
              "1307      0              359309    8.0500    NA        S            1   \n",
              "1308      1                2668   22.3583    NA        C            3   \n",
              "\n",
              "          Fare_Category  Age_Category  Embarked_C  Embarked_Q  Embarked_S  \n",
              "0       (-0.001, 7.854]  (16.0, 32.0]         0.0         0.0         1.0  \n",
              "1     (41.579, 512.329]  (32.0, 48.0]         1.0         0.0         0.0  \n",
              "2         (7.854, 10.5]  (16.0, 32.0]         0.0         0.0         1.0  \n",
              "3     (41.579, 512.329]  (32.0, 48.0]         0.0         0.0         1.0  \n",
              "4         (7.854, 10.5]  (32.0, 48.0]         0.0         0.0         1.0  \n",
              "...                 ...           ...         ...         ...         ...  \n",
              "1304      (7.854, 10.5]  (16.0, 32.0]         0.0         0.0         1.0  \n",
              "1305  (41.579, 512.329]  (32.0, 48.0]         1.0         0.0         0.0  \n",
              "1306    (-0.001, 7.854]  (32.0, 48.0]         0.0         0.0         1.0  \n",
              "1307      (7.854, 10.5]  (16.0, 32.0]         0.0         0.0         1.0  \n",
              "1308   (21.558, 41.579]  (16.0, 32.0]         1.0         0.0         0.0  \n",
              "\n",
              "[1309 rows x 18 columns]"
            ],
            "text/html": [
              "\n",
              "  <div id=\"df-bd4d2a55-9eb3-437e-a9fc-773d484478a4\">\n",
              "    <div class=\"colab-df-container\">\n",
              "      <div>\n",
              "<style scoped>\n",
              "    .dataframe tbody tr th:only-of-type {\n",
              "        vertical-align: middle;\n",
              "    }\n",
              "\n",
              "    .dataframe tbody tr th {\n",
              "        vertical-align: top;\n",
              "    }\n",
              "\n",
              "    .dataframe thead th {\n",
              "        text-align: right;\n",
              "    }\n",
              "</style>\n",
              "<table border=\"1\" class=\"dataframe\">\n",
              "  <thead>\n",
              "    <tr style=\"text-align: right;\">\n",
              "      <th></th>\n",
              "      <th>PassengerId</th>\n",
              "      <th>Survived</th>\n",
              "      <th>Pclass</th>\n",
              "      <th>Name</th>\n",
              "      <th>Sex</th>\n",
              "      <th>Age</th>\n",
              "      <th>SibSp</th>\n",
              "      <th>Parch</th>\n",
              "      <th>Ticket</th>\n",
              "      <th>Fare</th>\n",
              "      <th>Cabin</th>\n",
              "      <th>Embarked</th>\n",
              "      <th>Family_Size</th>\n",
              "      <th>Fare_Category</th>\n",
              "      <th>Age_Category</th>\n",
              "      <th>Embarked_C</th>\n",
              "      <th>Embarked_Q</th>\n",
              "      <th>Embarked_S</th>\n",
              "    </tr>\n",
              "  </thead>\n",
              "  <tbody>\n",
              "    <tr>\n",
              "      <th>0</th>\n",
              "      <td>1</td>\n",
              "      <td>0.0</td>\n",
              "      <td>3</td>\n",
              "      <td>Braund, Mr. Owen Harris</td>\n",
              "      <td>male</td>\n",
              "      <td>22.0</td>\n",
              "      <td>1</td>\n",
              "      <td>0</td>\n",
              "      <td>A/5 21171</td>\n",
              "      <td>7.2500</td>\n",
              "      <td>NA</td>\n",
              "      <td>S</td>\n",
              "      <td>2</td>\n",
              "      <td>(-0.001, 7.854]</td>\n",
              "      <td>(16.0, 32.0]</td>\n",
              "      <td>0.0</td>\n",
              "      <td>0.0</td>\n",
              "      <td>1.0</td>\n",
              "    </tr>\n",
              "    <tr>\n",
              "      <th>1</th>\n",
              "      <td>2</td>\n",
              "      <td>1.0</td>\n",
              "      <td>1</td>\n",
              "      <td>Cumings, Mrs. John Bradley (Florence Briggs Th...</td>\n",
              "      <td>female</td>\n",
              "      <td>38.0</td>\n",
              "      <td>1</td>\n",
              "      <td>0</td>\n",
              "      <td>PC 17599</td>\n",
              "      <td>71.2833</td>\n",
              "      <td>C85</td>\n",
              "      <td>C</td>\n",
              "      <td>2</td>\n",
              "      <td>(41.579, 512.329]</td>\n",
              "      <td>(32.0, 48.0]</td>\n",
              "      <td>1.0</td>\n",
              "      <td>0.0</td>\n",
              "      <td>0.0</td>\n",
              "    </tr>\n",
              "    <tr>\n",
              "      <th>2</th>\n",
              "      <td>3</td>\n",
              "      <td>1.0</td>\n",
              "      <td>3</td>\n",
              "      <td>Heikkinen, Miss. Laina</td>\n",
              "      <td>female</td>\n",
              "      <td>26.0</td>\n",
              "      <td>0</td>\n",
              "      <td>0</td>\n",
              "      <td>STON/O2. 3101282</td>\n",
              "      <td>7.9250</td>\n",
              "      <td>NA</td>\n",
              "      <td>S</td>\n",
              "      <td>1</td>\n",
              "      <td>(7.854, 10.5]</td>\n",
              "      <td>(16.0, 32.0]</td>\n",
              "      <td>0.0</td>\n",
              "      <td>0.0</td>\n",
              "      <td>1.0</td>\n",
              "    </tr>\n",
              "    <tr>\n",
              "      <th>3</th>\n",
              "      <td>4</td>\n",
              "      <td>1.0</td>\n",
              "      <td>1</td>\n",
              "      <td>Futrelle, Mrs. Jacques Heath (Lily May Peel)</td>\n",
              "      <td>female</td>\n",
              "      <td>35.0</td>\n",
              "      <td>1</td>\n",
              "      <td>0</td>\n",
              "      <td>113803</td>\n",
              "      <td>53.1000</td>\n",
              "      <td>C123</td>\n",
              "      <td>S</td>\n",
              "      <td>2</td>\n",
              "      <td>(41.579, 512.329]</td>\n",
              "      <td>(32.0, 48.0]</td>\n",
              "      <td>0.0</td>\n",
              "      <td>0.0</td>\n",
              "      <td>1.0</td>\n",
              "    </tr>\n",
              "    <tr>\n",
              "      <th>4</th>\n",
              "      <td>5</td>\n",
              "      <td>0.0</td>\n",
              "      <td>3</td>\n",
              "      <td>Allen, Mr. William Henry</td>\n",
              "      <td>male</td>\n",
              "      <td>35.0</td>\n",
              "      <td>0</td>\n",
              "      <td>0</td>\n",
              "      <td>373450</td>\n",
              "      <td>8.0500</td>\n",
              "      <td>NA</td>\n",
              "      <td>S</td>\n",
              "      <td>1</td>\n",
              "      <td>(7.854, 10.5]</td>\n",
              "      <td>(32.0, 48.0]</td>\n",
              "      <td>0.0</td>\n",
              "      <td>0.0</td>\n",
              "      <td>1.0</td>\n",
              "    </tr>\n",
              "    <tr>\n",
              "      <th>...</th>\n",
              "      <td>...</td>\n",
              "      <td>...</td>\n",
              "      <td>...</td>\n",
              "      <td>...</td>\n",
              "      <td>...</td>\n",
              "      <td>...</td>\n",
              "      <td>...</td>\n",
              "      <td>...</td>\n",
              "      <td>...</td>\n",
              "      <td>...</td>\n",
              "      <td>...</td>\n",
              "      <td>...</td>\n",
              "      <td>...</td>\n",
              "      <td>...</td>\n",
              "      <td>...</td>\n",
              "      <td>...</td>\n",
              "      <td>...</td>\n",
              "      <td>...</td>\n",
              "    </tr>\n",
              "    <tr>\n",
              "      <th>1304</th>\n",
              "      <td>1305</td>\n",
              "      <td>NaN</td>\n",
              "      <td>3</td>\n",
              "      <td>Spector, Mr. Woolf</td>\n",
              "      <td>male</td>\n",
              "      <td>25.0</td>\n",
              "      <td>0</td>\n",
              "      <td>0</td>\n",
              "      <td>A.5. 3236</td>\n",
              "      <td>8.0500</td>\n",
              "      <td>NA</td>\n",
              "      <td>S</td>\n",
              "      <td>1</td>\n",
              "      <td>(7.854, 10.5]</td>\n",
              "      <td>(16.0, 32.0]</td>\n",
              "      <td>0.0</td>\n",
              "      <td>0.0</td>\n",
              "      <td>1.0</td>\n",
              "    </tr>\n",
              "    <tr>\n",
              "      <th>1305</th>\n",
              "      <td>1306</td>\n",
              "      <td>NaN</td>\n",
              "      <td>1</td>\n",
              "      <td>Oliva y Ocana, Dona. Fermina</td>\n",
              "      <td>female</td>\n",
              "      <td>39.0</td>\n",
              "      <td>0</td>\n",
              "      <td>0</td>\n",
              "      <td>PC 17758</td>\n",
              "      <td>108.9000</td>\n",
              "      <td>C105</td>\n",
              "      <td>C</td>\n",
              "      <td>1</td>\n",
              "      <td>(41.579, 512.329]</td>\n",
              "      <td>(32.0, 48.0]</td>\n",
              "      <td>1.0</td>\n",
              "      <td>0.0</td>\n",
              "      <td>0.0</td>\n",
              "    </tr>\n",
              "    <tr>\n",
              "      <th>1306</th>\n",
              "      <td>1307</td>\n",
              "      <td>NaN</td>\n",
              "      <td>3</td>\n",
              "      <td>Saether, Mr. Simon Sivertsen</td>\n",
              "      <td>male</td>\n",
              "      <td>38.5</td>\n",
              "      <td>0</td>\n",
              "      <td>0</td>\n",
              "      <td>SOTON/O.Q. 3101262</td>\n",
              "      <td>7.2500</td>\n",
              "      <td>NA</td>\n",
              "      <td>S</td>\n",
              "      <td>1</td>\n",
              "      <td>(-0.001, 7.854]</td>\n",
              "      <td>(32.0, 48.0]</td>\n",
              "      <td>0.0</td>\n",
              "      <td>0.0</td>\n",
              "      <td>1.0</td>\n",
              "    </tr>\n",
              "    <tr>\n",
              "      <th>1307</th>\n",
              "      <td>1308</td>\n",
              "      <td>NaN</td>\n",
              "      <td>3</td>\n",
              "      <td>Ware, Mr. Frederick</td>\n",
              "      <td>male</td>\n",
              "      <td>25.0</td>\n",
              "      <td>0</td>\n",
              "      <td>0</td>\n",
              "      <td>359309</td>\n",
              "      <td>8.0500</td>\n",
              "      <td>NA</td>\n",
              "      <td>S</td>\n",
              "      <td>1</td>\n",
              "      <td>(7.854, 10.5]</td>\n",
              "      <td>(16.0, 32.0]</td>\n",
              "      <td>0.0</td>\n",
              "      <td>0.0</td>\n",
              "      <td>1.0</td>\n",
              "    </tr>\n",
              "    <tr>\n",
              "      <th>1308</th>\n",
              "      <td>1309</td>\n",
              "      <td>NaN</td>\n",
              "      <td>3</td>\n",
              "      <td>Peter, Master. Michael J</td>\n",
              "      <td>male</td>\n",
              "      <td>25.0</td>\n",
              "      <td>1</td>\n",
              "      <td>1</td>\n",
              "      <td>2668</td>\n",
              "      <td>22.3583</td>\n",
              "      <td>NA</td>\n",
              "      <td>C</td>\n",
              "      <td>3</td>\n",
              "      <td>(21.558, 41.579]</td>\n",
              "      <td>(16.0, 32.0]</td>\n",
              "      <td>1.0</td>\n",
              "      <td>0.0</td>\n",
              "      <td>0.0</td>\n",
              "    </tr>\n",
              "  </tbody>\n",
              "</table>\n",
              "<p>1309 rows × 18 columns</p>\n",
              "</div>\n",
              "      <button class=\"colab-df-convert\" onclick=\"convertToInteractive('df-bd4d2a55-9eb3-437e-a9fc-773d484478a4')\"\n",
              "              title=\"Convert this dataframe to an interactive table.\"\n",
              "              style=\"display:none;\">\n",
              "        \n",
              "  <svg xmlns=\"http://www.w3.org/2000/svg\" height=\"24px\"viewBox=\"0 0 24 24\"\n",
              "       width=\"24px\">\n",
              "    <path d=\"M0 0h24v24H0V0z\" fill=\"none\"/>\n",
              "    <path d=\"M18.56 5.44l.94 2.06.94-2.06 2.06-.94-2.06-.94-.94-2.06-.94 2.06-2.06.94zm-11 1L8.5 8.5l.94-2.06 2.06-.94-2.06-.94L8.5 2.5l-.94 2.06-2.06.94zm10 10l.94 2.06.94-2.06 2.06-.94-2.06-.94-.94-2.06-.94 2.06-2.06.94z\"/><path d=\"M17.41 7.96l-1.37-1.37c-.4-.4-.92-.59-1.43-.59-.52 0-1.04.2-1.43.59L10.3 9.45l-7.72 7.72c-.78.78-.78 2.05 0 2.83L4 21.41c.39.39.9.59 1.41.59.51 0 1.02-.2 1.41-.59l7.78-7.78 2.81-2.81c.8-.78.8-2.07 0-2.86zM5.41 20L4 18.59l7.72-7.72 1.47 1.35L5.41 20z\"/>\n",
              "  </svg>\n",
              "      </button>\n",
              "      \n",
              "  <style>\n",
              "    .colab-df-container {\n",
              "      display:flex;\n",
              "      flex-wrap:wrap;\n",
              "      gap: 12px;\n",
              "    }\n",
              "\n",
              "    .colab-df-convert {\n",
              "      background-color: #E8F0FE;\n",
              "      border: none;\n",
              "      border-radius: 50%;\n",
              "      cursor: pointer;\n",
              "      display: none;\n",
              "      fill: #1967D2;\n",
              "      height: 32px;\n",
              "      padding: 0 0 0 0;\n",
              "      width: 32px;\n",
              "    }\n",
              "\n",
              "    .colab-df-convert:hover {\n",
              "      background-color: #E2EBFA;\n",
              "      box-shadow: 0px 1px 2px rgba(60, 64, 67, 0.3), 0px 1px 3px 1px rgba(60, 64, 67, 0.15);\n",
              "      fill: #174EA6;\n",
              "    }\n",
              "\n",
              "    [theme=dark] .colab-df-convert {\n",
              "      background-color: #3B4455;\n",
              "      fill: #D2E3FC;\n",
              "    }\n",
              "\n",
              "    [theme=dark] .colab-df-convert:hover {\n",
              "      background-color: #434B5C;\n",
              "      box-shadow: 0px 1px 3px 1px rgba(0, 0, 0, 0.15);\n",
              "      filter: drop-shadow(0px 1px 2px rgba(0, 0, 0, 0.3));\n",
              "      fill: #FFFFFF;\n",
              "    }\n",
              "  </style>\n",
              "\n",
              "      <script>\n",
              "        const buttonEl =\n",
              "          document.querySelector('#df-bd4d2a55-9eb3-437e-a9fc-773d484478a4 button.colab-df-convert');\n",
              "        buttonEl.style.display =\n",
              "          google.colab.kernel.accessAllowed ? 'block' : 'none';\n",
              "\n",
              "        async function convertToInteractive(key) {\n",
              "          const element = document.querySelector('#df-bd4d2a55-9eb3-437e-a9fc-773d484478a4');\n",
              "          const dataTable =\n",
              "            await google.colab.kernel.invokeFunction('convertToInteractive',\n",
              "                                                     [key], {});\n",
              "          if (!dataTable) return;\n",
              "\n",
              "          const docLinkHtml = 'Like what you see? Visit the ' +\n",
              "            '<a target=\"_blank\" href=https://colab.research.google.com/notebooks/data_table.ipynb>data table notebook</a>'\n",
              "            + ' to learn more about interactive tables.';\n",
              "          element.innerHTML = '';\n",
              "          dataTable['output_type'] = 'display_data';\n",
              "          await google.colab.output.renderOutput(dataTable, element);\n",
              "          const docLink = document.createElement('div');\n",
              "          docLink.innerHTML = docLinkHtml;\n",
              "          element.appendChild(docLink);\n",
              "        }\n",
              "      </script>\n",
              "    </div>\n",
              "  </div>\n",
              "  "
            ]
          },
          "metadata": {},
          "execution_count": 44
        }
      ]
    },
    {
      "cell_type": "markdown",
      "metadata": {
        "id": "YRb4iOZxOSWN"
      },
      "source": [
        "#### Create new attributes for the 'Fare_Category' attribute and then concatenate new attributes with the all_data dataframe."
      ]
    },
    {
      "cell_type": "code",
      "source": [
        "New_Fare = encode_category_to_numeric(\"Fare_Category\", all_data)\n",
        "all_data = pd.concat([all_data, New_Fare], axis=1)\n",
        "all_data"
      ],
      "metadata": {
        "id": "lhVDvWbmVDKx",
        "colab": {
          "base_uri": "https://localhost:8080/",
          "height": 939
        },
        "outputId": "e4355163-74aa-4bc0-9f94-2e4adfcf4b95"
      },
      "execution_count": null,
      "outputs": [
        {
          "output_type": "execute_result",
          "data": {
            "text/plain": [
              "      PassengerId  Survived  Pclass  \\\n",
              "0               1       0.0       3   \n",
              "1               2       1.0       1   \n",
              "2               3       1.0       3   \n",
              "3               4       1.0       1   \n",
              "4               5       0.0       3   \n",
              "...           ...       ...     ...   \n",
              "1304         1305       NaN       3   \n",
              "1305         1306       NaN       1   \n",
              "1306         1307       NaN       3   \n",
              "1307         1308       NaN       3   \n",
              "1308         1309       NaN       3   \n",
              "\n",
              "                                                   Name     Sex   Age  SibSp  \\\n",
              "0                               Braund, Mr. Owen Harris    male  22.0      1   \n",
              "1     Cumings, Mrs. John Bradley (Florence Briggs Th...  female  38.0      1   \n",
              "2                                Heikkinen, Miss. Laina  female  26.0      0   \n",
              "3          Futrelle, Mrs. Jacques Heath (Lily May Peel)  female  35.0      1   \n",
              "4                              Allen, Mr. William Henry    male  35.0      0   \n",
              "...                                                 ...     ...   ...    ...   \n",
              "1304                                 Spector, Mr. Woolf    male  25.0      0   \n",
              "1305                       Oliva y Ocana, Dona. Fermina  female  39.0      0   \n",
              "1306                       Saether, Mr. Simon Sivertsen    male  38.5      0   \n",
              "1307                                Ware, Mr. Frederick    male  25.0      0   \n",
              "1308                           Peter, Master. Michael J    male  25.0      1   \n",
              "\n",
              "      Parch              Ticket      Fare  ...      Fare_Category  \\\n",
              "0         0           A/5 21171    7.2500  ...    (-0.001, 7.854]   \n",
              "1         0            PC 17599   71.2833  ...  (41.579, 512.329]   \n",
              "2         0    STON/O2. 3101282    7.9250  ...      (7.854, 10.5]   \n",
              "3         0              113803   53.1000  ...  (41.579, 512.329]   \n",
              "4         0              373450    8.0500  ...      (7.854, 10.5]   \n",
              "...     ...                 ...       ...  ...                ...   \n",
              "1304      0           A.5. 3236    8.0500  ...      (7.854, 10.5]   \n",
              "1305      0            PC 17758  108.9000  ...  (41.579, 512.329]   \n",
              "1306      0  SOTON/O.Q. 3101262    7.2500  ...    (-0.001, 7.854]   \n",
              "1307      0              359309    8.0500  ...      (7.854, 10.5]   \n",
              "1308      1                2668   22.3583  ...   (21.558, 41.579]   \n",
              "\n",
              "      Age_Category  Embarked_C Embarked_Q Embarked_S  \\\n",
              "0     (16.0, 32.0]         0.0        0.0        1.0   \n",
              "1     (32.0, 48.0]         1.0        0.0        0.0   \n",
              "2     (16.0, 32.0]         0.0        0.0        1.0   \n",
              "3     (32.0, 48.0]         0.0        0.0        1.0   \n",
              "4     (32.0, 48.0]         0.0        0.0        1.0   \n",
              "...            ...         ...        ...        ...   \n",
              "1304  (16.0, 32.0]         0.0        0.0        1.0   \n",
              "1305  (32.0, 48.0]         1.0        0.0        0.0   \n",
              "1306  (32.0, 48.0]         0.0        0.0        1.0   \n",
              "1307  (16.0, 32.0]         0.0        0.0        1.0   \n",
              "1308  (16.0, 32.0]         1.0        0.0        0.0   \n",
              "\n",
              "      Fare_Category_(-0.001, 7.854]  Fare_Category_(10.5, 21.558]  \\\n",
              "0                               1.0                           0.0   \n",
              "1                               0.0                           0.0   \n",
              "2                               0.0                           0.0   \n",
              "3                               0.0                           0.0   \n",
              "4                               0.0                           0.0   \n",
              "...                             ...                           ...   \n",
              "1304                            0.0                           0.0   \n",
              "1305                            0.0                           0.0   \n",
              "1306                            1.0                           0.0   \n",
              "1307                            0.0                           0.0   \n",
              "1308                            0.0                           0.0   \n",
              "\n",
              "      Fare_Category_(21.558, 41.579]  Fare_Category_(41.579, 512.329]  \\\n",
              "0                                0.0                              0.0   \n",
              "1                                0.0                              1.0   \n",
              "2                                0.0                              0.0   \n",
              "3                                0.0                              1.0   \n",
              "4                                0.0                              0.0   \n",
              "...                              ...                              ...   \n",
              "1304                             0.0                              0.0   \n",
              "1305                             0.0                              1.0   \n",
              "1306                             0.0                              0.0   \n",
              "1307                             0.0                              0.0   \n",
              "1308                             1.0                              0.0   \n",
              "\n",
              "      Fare_Category_(7.854, 10.5]  \n",
              "0                             0.0  \n",
              "1                             0.0  \n",
              "2                             1.0  \n",
              "3                             0.0  \n",
              "4                             1.0  \n",
              "...                           ...  \n",
              "1304                          1.0  \n",
              "1305                          0.0  \n",
              "1306                          0.0  \n",
              "1307                          1.0  \n",
              "1308                          0.0  \n",
              "\n",
              "[1309 rows x 23 columns]"
            ],
            "text/html": [
              "\n",
              "  <div id=\"df-b505c71f-664d-4bc8-b00c-360c37df5c7b\">\n",
              "    <div class=\"colab-df-container\">\n",
              "      <div>\n",
              "<style scoped>\n",
              "    .dataframe tbody tr th:only-of-type {\n",
              "        vertical-align: middle;\n",
              "    }\n",
              "\n",
              "    .dataframe tbody tr th {\n",
              "        vertical-align: top;\n",
              "    }\n",
              "\n",
              "    .dataframe thead th {\n",
              "        text-align: right;\n",
              "    }\n",
              "</style>\n",
              "<table border=\"1\" class=\"dataframe\">\n",
              "  <thead>\n",
              "    <tr style=\"text-align: right;\">\n",
              "      <th></th>\n",
              "      <th>PassengerId</th>\n",
              "      <th>Survived</th>\n",
              "      <th>Pclass</th>\n",
              "      <th>Name</th>\n",
              "      <th>Sex</th>\n",
              "      <th>Age</th>\n",
              "      <th>SibSp</th>\n",
              "      <th>Parch</th>\n",
              "      <th>Ticket</th>\n",
              "      <th>Fare</th>\n",
              "      <th>...</th>\n",
              "      <th>Fare_Category</th>\n",
              "      <th>Age_Category</th>\n",
              "      <th>Embarked_C</th>\n",
              "      <th>Embarked_Q</th>\n",
              "      <th>Embarked_S</th>\n",
              "      <th>Fare_Category_(-0.001, 7.854]</th>\n",
              "      <th>Fare_Category_(10.5, 21.558]</th>\n",
              "      <th>Fare_Category_(21.558, 41.579]</th>\n",
              "      <th>Fare_Category_(41.579, 512.329]</th>\n",
              "      <th>Fare_Category_(7.854, 10.5]</th>\n",
              "    </tr>\n",
              "  </thead>\n",
              "  <tbody>\n",
              "    <tr>\n",
              "      <th>0</th>\n",
              "      <td>1</td>\n",
              "      <td>0.0</td>\n",
              "      <td>3</td>\n",
              "      <td>Braund, Mr. Owen Harris</td>\n",
              "      <td>male</td>\n",
              "      <td>22.0</td>\n",
              "      <td>1</td>\n",
              "      <td>0</td>\n",
              "      <td>A/5 21171</td>\n",
              "      <td>7.2500</td>\n",
              "      <td>...</td>\n",
              "      <td>(-0.001, 7.854]</td>\n",
              "      <td>(16.0, 32.0]</td>\n",
              "      <td>0.0</td>\n",
              "      <td>0.0</td>\n",
              "      <td>1.0</td>\n",
              "      <td>1.0</td>\n",
              "      <td>0.0</td>\n",
              "      <td>0.0</td>\n",
              "      <td>0.0</td>\n",
              "      <td>0.0</td>\n",
              "    </tr>\n",
              "    <tr>\n",
              "      <th>1</th>\n",
              "      <td>2</td>\n",
              "      <td>1.0</td>\n",
              "      <td>1</td>\n",
              "      <td>Cumings, Mrs. John Bradley (Florence Briggs Th...</td>\n",
              "      <td>female</td>\n",
              "      <td>38.0</td>\n",
              "      <td>1</td>\n",
              "      <td>0</td>\n",
              "      <td>PC 17599</td>\n",
              "      <td>71.2833</td>\n",
              "      <td>...</td>\n",
              "      <td>(41.579, 512.329]</td>\n",
              "      <td>(32.0, 48.0]</td>\n",
              "      <td>1.0</td>\n",
              "      <td>0.0</td>\n",
              "      <td>0.0</td>\n",
              "      <td>0.0</td>\n",
              "      <td>0.0</td>\n",
              "      <td>0.0</td>\n",
              "      <td>1.0</td>\n",
              "      <td>0.0</td>\n",
              "    </tr>\n",
              "    <tr>\n",
              "      <th>2</th>\n",
              "      <td>3</td>\n",
              "      <td>1.0</td>\n",
              "      <td>3</td>\n",
              "      <td>Heikkinen, Miss. Laina</td>\n",
              "      <td>female</td>\n",
              "      <td>26.0</td>\n",
              "      <td>0</td>\n",
              "      <td>0</td>\n",
              "      <td>STON/O2. 3101282</td>\n",
              "      <td>7.9250</td>\n",
              "      <td>...</td>\n",
              "      <td>(7.854, 10.5]</td>\n",
              "      <td>(16.0, 32.0]</td>\n",
              "      <td>0.0</td>\n",
              "      <td>0.0</td>\n",
              "      <td>1.0</td>\n",
              "      <td>0.0</td>\n",
              "      <td>0.0</td>\n",
              "      <td>0.0</td>\n",
              "      <td>0.0</td>\n",
              "      <td>1.0</td>\n",
              "    </tr>\n",
              "    <tr>\n",
              "      <th>3</th>\n",
              "      <td>4</td>\n",
              "      <td>1.0</td>\n",
              "      <td>1</td>\n",
              "      <td>Futrelle, Mrs. Jacques Heath (Lily May Peel)</td>\n",
              "      <td>female</td>\n",
              "      <td>35.0</td>\n",
              "      <td>1</td>\n",
              "      <td>0</td>\n",
              "      <td>113803</td>\n",
              "      <td>53.1000</td>\n",
              "      <td>...</td>\n",
              "      <td>(41.579, 512.329]</td>\n",
              "      <td>(32.0, 48.0]</td>\n",
              "      <td>0.0</td>\n",
              "      <td>0.0</td>\n",
              "      <td>1.0</td>\n",
              "      <td>0.0</td>\n",
              "      <td>0.0</td>\n",
              "      <td>0.0</td>\n",
              "      <td>1.0</td>\n",
              "      <td>0.0</td>\n",
              "    </tr>\n",
              "    <tr>\n",
              "      <th>4</th>\n",
              "      <td>5</td>\n",
              "      <td>0.0</td>\n",
              "      <td>3</td>\n",
              "      <td>Allen, Mr. William Henry</td>\n",
              "      <td>male</td>\n",
              "      <td>35.0</td>\n",
              "      <td>0</td>\n",
              "      <td>0</td>\n",
              "      <td>373450</td>\n",
              "      <td>8.0500</td>\n",
              "      <td>...</td>\n",
              "      <td>(7.854, 10.5]</td>\n",
              "      <td>(32.0, 48.0]</td>\n",
              "      <td>0.0</td>\n",
              "      <td>0.0</td>\n",
              "      <td>1.0</td>\n",
              "      <td>0.0</td>\n",
              "      <td>0.0</td>\n",
              "      <td>0.0</td>\n",
              "      <td>0.0</td>\n",
              "      <td>1.0</td>\n",
              "    </tr>\n",
              "    <tr>\n",
              "      <th>...</th>\n",
              "      <td>...</td>\n",
              "      <td>...</td>\n",
              "      <td>...</td>\n",
              "      <td>...</td>\n",
              "      <td>...</td>\n",
              "      <td>...</td>\n",
              "      <td>...</td>\n",
              "      <td>...</td>\n",
              "      <td>...</td>\n",
              "      <td>...</td>\n",
              "      <td>...</td>\n",
              "      <td>...</td>\n",
              "      <td>...</td>\n",
              "      <td>...</td>\n",
              "      <td>...</td>\n",
              "      <td>...</td>\n",
              "      <td>...</td>\n",
              "      <td>...</td>\n",
              "      <td>...</td>\n",
              "      <td>...</td>\n",
              "      <td>...</td>\n",
              "    </tr>\n",
              "    <tr>\n",
              "      <th>1304</th>\n",
              "      <td>1305</td>\n",
              "      <td>NaN</td>\n",
              "      <td>3</td>\n",
              "      <td>Spector, Mr. Woolf</td>\n",
              "      <td>male</td>\n",
              "      <td>25.0</td>\n",
              "      <td>0</td>\n",
              "      <td>0</td>\n",
              "      <td>A.5. 3236</td>\n",
              "      <td>8.0500</td>\n",
              "      <td>...</td>\n",
              "      <td>(7.854, 10.5]</td>\n",
              "      <td>(16.0, 32.0]</td>\n",
              "      <td>0.0</td>\n",
              "      <td>0.0</td>\n",
              "      <td>1.0</td>\n",
              "      <td>0.0</td>\n",
              "      <td>0.0</td>\n",
              "      <td>0.0</td>\n",
              "      <td>0.0</td>\n",
              "      <td>1.0</td>\n",
              "    </tr>\n",
              "    <tr>\n",
              "      <th>1305</th>\n",
              "      <td>1306</td>\n",
              "      <td>NaN</td>\n",
              "      <td>1</td>\n",
              "      <td>Oliva y Ocana, Dona. Fermina</td>\n",
              "      <td>female</td>\n",
              "      <td>39.0</td>\n",
              "      <td>0</td>\n",
              "      <td>0</td>\n",
              "      <td>PC 17758</td>\n",
              "      <td>108.9000</td>\n",
              "      <td>...</td>\n",
              "      <td>(41.579, 512.329]</td>\n",
              "      <td>(32.0, 48.0]</td>\n",
              "      <td>1.0</td>\n",
              "      <td>0.0</td>\n",
              "      <td>0.0</td>\n",
              "      <td>0.0</td>\n",
              "      <td>0.0</td>\n",
              "      <td>0.0</td>\n",
              "      <td>1.0</td>\n",
              "      <td>0.0</td>\n",
              "    </tr>\n",
              "    <tr>\n",
              "      <th>1306</th>\n",
              "      <td>1307</td>\n",
              "      <td>NaN</td>\n",
              "      <td>3</td>\n",
              "      <td>Saether, Mr. Simon Sivertsen</td>\n",
              "      <td>male</td>\n",
              "      <td>38.5</td>\n",
              "      <td>0</td>\n",
              "      <td>0</td>\n",
              "      <td>SOTON/O.Q. 3101262</td>\n",
              "      <td>7.2500</td>\n",
              "      <td>...</td>\n",
              "      <td>(-0.001, 7.854]</td>\n",
              "      <td>(32.0, 48.0]</td>\n",
              "      <td>0.0</td>\n",
              "      <td>0.0</td>\n",
              "      <td>1.0</td>\n",
              "      <td>1.0</td>\n",
              "      <td>0.0</td>\n",
              "      <td>0.0</td>\n",
              "      <td>0.0</td>\n",
              "      <td>0.0</td>\n",
              "    </tr>\n",
              "    <tr>\n",
              "      <th>1307</th>\n",
              "      <td>1308</td>\n",
              "      <td>NaN</td>\n",
              "      <td>3</td>\n",
              "      <td>Ware, Mr. Frederick</td>\n",
              "      <td>male</td>\n",
              "      <td>25.0</td>\n",
              "      <td>0</td>\n",
              "      <td>0</td>\n",
              "      <td>359309</td>\n",
              "      <td>8.0500</td>\n",
              "      <td>...</td>\n",
              "      <td>(7.854, 10.5]</td>\n",
              "      <td>(16.0, 32.0]</td>\n",
              "      <td>0.0</td>\n",
              "      <td>0.0</td>\n",
              "      <td>1.0</td>\n",
              "      <td>0.0</td>\n",
              "      <td>0.0</td>\n",
              "      <td>0.0</td>\n",
              "      <td>0.0</td>\n",
              "      <td>1.0</td>\n",
              "    </tr>\n",
              "    <tr>\n",
              "      <th>1308</th>\n",
              "      <td>1309</td>\n",
              "      <td>NaN</td>\n",
              "      <td>3</td>\n",
              "      <td>Peter, Master. Michael J</td>\n",
              "      <td>male</td>\n",
              "      <td>25.0</td>\n",
              "      <td>1</td>\n",
              "      <td>1</td>\n",
              "      <td>2668</td>\n",
              "      <td>22.3583</td>\n",
              "      <td>...</td>\n",
              "      <td>(21.558, 41.579]</td>\n",
              "      <td>(16.0, 32.0]</td>\n",
              "      <td>1.0</td>\n",
              "      <td>0.0</td>\n",
              "      <td>0.0</td>\n",
              "      <td>0.0</td>\n",
              "      <td>0.0</td>\n",
              "      <td>1.0</td>\n",
              "      <td>0.0</td>\n",
              "      <td>0.0</td>\n",
              "    </tr>\n",
              "  </tbody>\n",
              "</table>\n",
              "<p>1309 rows × 23 columns</p>\n",
              "</div>\n",
              "      <button class=\"colab-df-convert\" onclick=\"convertToInteractive('df-b505c71f-664d-4bc8-b00c-360c37df5c7b')\"\n",
              "              title=\"Convert this dataframe to an interactive table.\"\n",
              "              style=\"display:none;\">\n",
              "        \n",
              "  <svg xmlns=\"http://www.w3.org/2000/svg\" height=\"24px\"viewBox=\"0 0 24 24\"\n",
              "       width=\"24px\">\n",
              "    <path d=\"M0 0h24v24H0V0z\" fill=\"none\"/>\n",
              "    <path d=\"M18.56 5.44l.94 2.06.94-2.06 2.06-.94-2.06-.94-.94-2.06-.94 2.06-2.06.94zm-11 1L8.5 8.5l.94-2.06 2.06-.94-2.06-.94L8.5 2.5l-.94 2.06-2.06.94zm10 10l.94 2.06.94-2.06 2.06-.94-2.06-.94-.94-2.06-.94 2.06-2.06.94z\"/><path d=\"M17.41 7.96l-1.37-1.37c-.4-.4-.92-.59-1.43-.59-.52 0-1.04.2-1.43.59L10.3 9.45l-7.72 7.72c-.78.78-.78 2.05 0 2.83L4 21.41c.39.39.9.59 1.41.59.51 0 1.02-.2 1.41-.59l7.78-7.78 2.81-2.81c.8-.78.8-2.07 0-2.86zM5.41 20L4 18.59l7.72-7.72 1.47 1.35L5.41 20z\"/>\n",
              "  </svg>\n",
              "      </button>\n",
              "      \n",
              "  <style>\n",
              "    .colab-df-container {\n",
              "      display:flex;\n",
              "      flex-wrap:wrap;\n",
              "      gap: 12px;\n",
              "    }\n",
              "\n",
              "    .colab-df-convert {\n",
              "      background-color: #E8F0FE;\n",
              "      border: none;\n",
              "      border-radius: 50%;\n",
              "      cursor: pointer;\n",
              "      display: none;\n",
              "      fill: #1967D2;\n",
              "      height: 32px;\n",
              "      padding: 0 0 0 0;\n",
              "      width: 32px;\n",
              "    }\n",
              "\n",
              "    .colab-df-convert:hover {\n",
              "      background-color: #E2EBFA;\n",
              "      box-shadow: 0px 1px 2px rgba(60, 64, 67, 0.3), 0px 1px 3px 1px rgba(60, 64, 67, 0.15);\n",
              "      fill: #174EA6;\n",
              "    }\n",
              "\n",
              "    [theme=dark] .colab-df-convert {\n",
              "      background-color: #3B4455;\n",
              "      fill: #D2E3FC;\n",
              "    }\n",
              "\n",
              "    [theme=dark] .colab-df-convert:hover {\n",
              "      background-color: #434B5C;\n",
              "      box-shadow: 0px 1px 3px 1px rgba(0, 0, 0, 0.15);\n",
              "      filter: drop-shadow(0px 1px 2px rgba(0, 0, 0, 0.3));\n",
              "      fill: #FFFFFF;\n",
              "    }\n",
              "  </style>\n",
              "\n",
              "      <script>\n",
              "        const buttonEl =\n",
              "          document.querySelector('#df-b505c71f-664d-4bc8-b00c-360c37df5c7b button.colab-df-convert');\n",
              "        buttonEl.style.display =\n",
              "          google.colab.kernel.accessAllowed ? 'block' : 'none';\n",
              "\n",
              "        async function convertToInteractive(key) {\n",
              "          const element = document.querySelector('#df-b505c71f-664d-4bc8-b00c-360c37df5c7b');\n",
              "          const dataTable =\n",
              "            await google.colab.kernel.invokeFunction('convertToInteractive',\n",
              "                                                     [key], {});\n",
              "          if (!dataTable) return;\n",
              "\n",
              "          const docLinkHtml = 'Like what you see? Visit the ' +\n",
              "            '<a target=\"_blank\" href=https://colab.research.google.com/notebooks/data_table.ipynb>data table notebook</a>'\n",
              "            + ' to learn more about interactive tables.';\n",
              "          element.innerHTML = '';\n",
              "          dataTable['output_type'] = 'display_data';\n",
              "          await google.colab.output.renderOutput(dataTable, element);\n",
              "          const docLink = document.createElement('div');\n",
              "          docLink.innerHTML = docLinkHtml;\n",
              "          element.appendChild(docLink);\n",
              "        }\n",
              "      </script>\n",
              "    </div>\n",
              "  </div>\n",
              "  "
            ]
          },
          "metadata": {},
          "execution_count": 45
        }
      ]
    },
    {
      "cell_type": "markdown",
      "metadata": {
        "id": "BommJmQ9Oeqq"
      },
      "source": [
        "#### Create new attributes for the 'Age_Category' attribute and then concatenate new attributes with the all_data dataframe."
      ]
    },
    {
      "cell_type": "code",
      "source": [
        "New_Age = encode_category_to_numeric(\"Age_Category\", all_data)\n",
        "all_data = pd.concat([all_data, New_Age], axis=1)\n",
        "all_data"
      ],
      "metadata": {
        "id": "D4IVlbezVLG7",
        "colab": {
          "base_uri": "https://localhost:8080/",
          "height": 939
        },
        "outputId": "5d26704f-a073-4d3e-a7ea-643d7159aa00"
      },
      "execution_count": null,
      "outputs": [
        {
          "output_type": "execute_result",
          "data": {
            "text/plain": [
              "      PassengerId  Survived  Pclass  \\\n",
              "0               1       0.0       3   \n",
              "1               2       1.0       1   \n",
              "2               3       1.0       3   \n",
              "3               4       1.0       1   \n",
              "4               5       0.0       3   \n",
              "...           ...       ...     ...   \n",
              "1304         1305       NaN       3   \n",
              "1305         1306       NaN       1   \n",
              "1306         1307       NaN       3   \n",
              "1307         1308       NaN       3   \n",
              "1308         1309       NaN       3   \n",
              "\n",
              "                                                   Name     Sex   Age  SibSp  \\\n",
              "0                               Braund, Mr. Owen Harris    male  22.0      1   \n",
              "1     Cumings, Mrs. John Bradley (Florence Briggs Th...  female  38.0      1   \n",
              "2                                Heikkinen, Miss. Laina  female  26.0      0   \n",
              "3          Futrelle, Mrs. Jacques Heath (Lily May Peel)  female  35.0      1   \n",
              "4                              Allen, Mr. William Henry    male  35.0      0   \n",
              "...                                                 ...     ...   ...    ...   \n",
              "1304                                 Spector, Mr. Woolf    male  25.0      0   \n",
              "1305                       Oliva y Ocana, Dona. Fermina  female  39.0      0   \n",
              "1306                       Saether, Mr. Simon Sivertsen    male  38.5      0   \n",
              "1307                                Ware, Mr. Frederick    male  25.0      0   \n",
              "1308                           Peter, Master. Michael J    male  25.0      1   \n",
              "\n",
              "      Parch              Ticket      Fare  ... Fare_Category_(-0.001, 7.854]  \\\n",
              "0         0           A/5 21171    7.2500  ...                           1.0   \n",
              "1         0            PC 17599   71.2833  ...                           0.0   \n",
              "2         0    STON/O2. 3101282    7.9250  ...                           0.0   \n",
              "3         0              113803   53.1000  ...                           0.0   \n",
              "4         0              373450    8.0500  ...                           0.0   \n",
              "...     ...                 ...       ...  ...                           ...   \n",
              "1304      0           A.5. 3236    8.0500  ...                           0.0   \n",
              "1305      0            PC 17758  108.9000  ...                           0.0   \n",
              "1306      0  SOTON/O.Q. 3101262    7.2500  ...                           1.0   \n",
              "1307      0              359309    8.0500  ...                           0.0   \n",
              "1308      1                2668   22.3583  ...                           0.0   \n",
              "\n",
              "     Fare_Category_(10.5, 21.558]  Fare_Category_(21.558, 41.579]  \\\n",
              "0                             0.0                             0.0   \n",
              "1                             0.0                             0.0   \n",
              "2                             0.0                             0.0   \n",
              "3                             0.0                             0.0   \n",
              "4                             0.0                             0.0   \n",
              "...                           ...                             ...   \n",
              "1304                          0.0                             0.0   \n",
              "1305                          0.0                             0.0   \n",
              "1306                          0.0                             0.0   \n",
              "1307                          0.0                             0.0   \n",
              "1308                          0.0                             1.0   \n",
              "\n",
              "     Fare_Category_(41.579, 512.329] Fare_Category_(7.854, 10.5]  \\\n",
              "0                                0.0                         0.0   \n",
              "1                                1.0                         0.0   \n",
              "2                                0.0                         1.0   \n",
              "3                                1.0                         0.0   \n",
              "4                                0.0                         1.0   \n",
              "...                              ...                         ...   \n",
              "1304                             0.0                         1.0   \n",
              "1305                             1.0                         0.0   \n",
              "1306                             0.0                         0.0   \n",
              "1307                             0.0                         1.0   \n",
              "1308                             0.0                         0.0   \n",
              "\n",
              "      Age_Category_(-0.08, 16.0]  Age_Category_(16.0, 32.0]  \\\n",
              "0                            0.0                        1.0   \n",
              "1                            0.0                        0.0   \n",
              "2                            0.0                        1.0   \n",
              "3                            0.0                        0.0   \n",
              "4                            0.0                        0.0   \n",
              "...                          ...                        ...   \n",
              "1304                         0.0                        1.0   \n",
              "1305                         0.0                        0.0   \n",
              "1306                         0.0                        0.0   \n",
              "1307                         0.0                        1.0   \n",
              "1308                         0.0                        1.0   \n",
              "\n",
              "      Age_Category_(32.0, 48.0]  Age_Category_(48.0, 64.0]  \\\n",
              "0                           0.0                        0.0   \n",
              "1                           1.0                        0.0   \n",
              "2                           0.0                        0.0   \n",
              "3                           1.0                        0.0   \n",
              "4                           1.0                        0.0   \n",
              "...                         ...                        ...   \n",
              "1304                        0.0                        0.0   \n",
              "1305                        1.0                        0.0   \n",
              "1306                        1.0                        0.0   \n",
              "1307                        0.0                        0.0   \n",
              "1308                        0.0                        0.0   \n",
              "\n",
              "      Age_Category_(64.0, 80.0]  \n",
              "0                           0.0  \n",
              "1                           0.0  \n",
              "2                           0.0  \n",
              "3                           0.0  \n",
              "4                           0.0  \n",
              "...                         ...  \n",
              "1304                        0.0  \n",
              "1305                        0.0  \n",
              "1306                        0.0  \n",
              "1307                        0.0  \n",
              "1308                        0.0  \n",
              "\n",
              "[1309 rows x 28 columns]"
            ],
            "text/html": [
              "\n",
              "  <div id=\"df-a361fb02-83a8-4146-a378-391224946e72\">\n",
              "    <div class=\"colab-df-container\">\n",
              "      <div>\n",
              "<style scoped>\n",
              "    .dataframe tbody tr th:only-of-type {\n",
              "        vertical-align: middle;\n",
              "    }\n",
              "\n",
              "    .dataframe tbody tr th {\n",
              "        vertical-align: top;\n",
              "    }\n",
              "\n",
              "    .dataframe thead th {\n",
              "        text-align: right;\n",
              "    }\n",
              "</style>\n",
              "<table border=\"1\" class=\"dataframe\">\n",
              "  <thead>\n",
              "    <tr style=\"text-align: right;\">\n",
              "      <th></th>\n",
              "      <th>PassengerId</th>\n",
              "      <th>Survived</th>\n",
              "      <th>Pclass</th>\n",
              "      <th>Name</th>\n",
              "      <th>Sex</th>\n",
              "      <th>Age</th>\n",
              "      <th>SibSp</th>\n",
              "      <th>Parch</th>\n",
              "      <th>Ticket</th>\n",
              "      <th>Fare</th>\n",
              "      <th>...</th>\n",
              "      <th>Fare_Category_(-0.001, 7.854]</th>\n",
              "      <th>Fare_Category_(10.5, 21.558]</th>\n",
              "      <th>Fare_Category_(21.558, 41.579]</th>\n",
              "      <th>Fare_Category_(41.579, 512.329]</th>\n",
              "      <th>Fare_Category_(7.854, 10.5]</th>\n",
              "      <th>Age_Category_(-0.08, 16.0]</th>\n",
              "      <th>Age_Category_(16.0, 32.0]</th>\n",
              "      <th>Age_Category_(32.0, 48.0]</th>\n",
              "      <th>Age_Category_(48.0, 64.0]</th>\n",
              "      <th>Age_Category_(64.0, 80.0]</th>\n",
              "    </tr>\n",
              "  </thead>\n",
              "  <tbody>\n",
              "    <tr>\n",
              "      <th>0</th>\n",
              "      <td>1</td>\n",
              "      <td>0.0</td>\n",
              "      <td>3</td>\n",
              "      <td>Braund, Mr. Owen Harris</td>\n",
              "      <td>male</td>\n",
              "      <td>22.0</td>\n",
              "      <td>1</td>\n",
              "      <td>0</td>\n",
              "      <td>A/5 21171</td>\n",
              "      <td>7.2500</td>\n",
              "      <td>...</td>\n",
              "      <td>1.0</td>\n",
              "      <td>0.0</td>\n",
              "      <td>0.0</td>\n",
              "      <td>0.0</td>\n",
              "      <td>0.0</td>\n",
              "      <td>0.0</td>\n",
              "      <td>1.0</td>\n",
              "      <td>0.0</td>\n",
              "      <td>0.0</td>\n",
              "      <td>0.0</td>\n",
              "    </tr>\n",
              "    <tr>\n",
              "      <th>1</th>\n",
              "      <td>2</td>\n",
              "      <td>1.0</td>\n",
              "      <td>1</td>\n",
              "      <td>Cumings, Mrs. John Bradley (Florence Briggs Th...</td>\n",
              "      <td>female</td>\n",
              "      <td>38.0</td>\n",
              "      <td>1</td>\n",
              "      <td>0</td>\n",
              "      <td>PC 17599</td>\n",
              "      <td>71.2833</td>\n",
              "      <td>...</td>\n",
              "      <td>0.0</td>\n",
              "      <td>0.0</td>\n",
              "      <td>0.0</td>\n",
              "      <td>1.0</td>\n",
              "      <td>0.0</td>\n",
              "      <td>0.0</td>\n",
              "      <td>0.0</td>\n",
              "      <td>1.0</td>\n",
              "      <td>0.0</td>\n",
              "      <td>0.0</td>\n",
              "    </tr>\n",
              "    <tr>\n",
              "      <th>2</th>\n",
              "      <td>3</td>\n",
              "      <td>1.0</td>\n",
              "      <td>3</td>\n",
              "      <td>Heikkinen, Miss. Laina</td>\n",
              "      <td>female</td>\n",
              "      <td>26.0</td>\n",
              "      <td>0</td>\n",
              "      <td>0</td>\n",
              "      <td>STON/O2. 3101282</td>\n",
              "      <td>7.9250</td>\n",
              "      <td>...</td>\n",
              "      <td>0.0</td>\n",
              "      <td>0.0</td>\n",
              "      <td>0.0</td>\n",
              "      <td>0.0</td>\n",
              "      <td>1.0</td>\n",
              "      <td>0.0</td>\n",
              "      <td>1.0</td>\n",
              "      <td>0.0</td>\n",
              "      <td>0.0</td>\n",
              "      <td>0.0</td>\n",
              "    </tr>\n",
              "    <tr>\n",
              "      <th>3</th>\n",
              "      <td>4</td>\n",
              "      <td>1.0</td>\n",
              "      <td>1</td>\n",
              "      <td>Futrelle, Mrs. Jacques Heath (Lily May Peel)</td>\n",
              "      <td>female</td>\n",
              "      <td>35.0</td>\n",
              "      <td>1</td>\n",
              "      <td>0</td>\n",
              "      <td>113803</td>\n",
              "      <td>53.1000</td>\n",
              "      <td>...</td>\n",
              "      <td>0.0</td>\n",
              "      <td>0.0</td>\n",
              "      <td>0.0</td>\n",
              "      <td>1.0</td>\n",
              "      <td>0.0</td>\n",
              "      <td>0.0</td>\n",
              "      <td>0.0</td>\n",
              "      <td>1.0</td>\n",
              "      <td>0.0</td>\n",
              "      <td>0.0</td>\n",
              "    </tr>\n",
              "    <tr>\n",
              "      <th>4</th>\n",
              "      <td>5</td>\n",
              "      <td>0.0</td>\n",
              "      <td>3</td>\n",
              "      <td>Allen, Mr. William Henry</td>\n",
              "      <td>male</td>\n",
              "      <td>35.0</td>\n",
              "      <td>0</td>\n",
              "      <td>0</td>\n",
              "      <td>373450</td>\n",
              "      <td>8.0500</td>\n",
              "      <td>...</td>\n",
              "      <td>0.0</td>\n",
              "      <td>0.0</td>\n",
              "      <td>0.0</td>\n",
              "      <td>0.0</td>\n",
              "      <td>1.0</td>\n",
              "      <td>0.0</td>\n",
              "      <td>0.0</td>\n",
              "      <td>1.0</td>\n",
              "      <td>0.0</td>\n",
              "      <td>0.0</td>\n",
              "    </tr>\n",
              "    <tr>\n",
              "      <th>...</th>\n",
              "      <td>...</td>\n",
              "      <td>...</td>\n",
              "      <td>...</td>\n",
              "      <td>...</td>\n",
              "      <td>...</td>\n",
              "      <td>...</td>\n",
              "      <td>...</td>\n",
              "      <td>...</td>\n",
              "      <td>...</td>\n",
              "      <td>...</td>\n",
              "      <td>...</td>\n",
              "      <td>...</td>\n",
              "      <td>...</td>\n",
              "      <td>...</td>\n",
              "      <td>...</td>\n",
              "      <td>...</td>\n",
              "      <td>...</td>\n",
              "      <td>...</td>\n",
              "      <td>...</td>\n",
              "      <td>...</td>\n",
              "      <td>...</td>\n",
              "    </tr>\n",
              "    <tr>\n",
              "      <th>1304</th>\n",
              "      <td>1305</td>\n",
              "      <td>NaN</td>\n",
              "      <td>3</td>\n",
              "      <td>Spector, Mr. Woolf</td>\n",
              "      <td>male</td>\n",
              "      <td>25.0</td>\n",
              "      <td>0</td>\n",
              "      <td>0</td>\n",
              "      <td>A.5. 3236</td>\n",
              "      <td>8.0500</td>\n",
              "      <td>...</td>\n",
              "      <td>0.0</td>\n",
              "      <td>0.0</td>\n",
              "      <td>0.0</td>\n",
              "      <td>0.0</td>\n",
              "      <td>1.0</td>\n",
              "      <td>0.0</td>\n",
              "      <td>1.0</td>\n",
              "      <td>0.0</td>\n",
              "      <td>0.0</td>\n",
              "      <td>0.0</td>\n",
              "    </tr>\n",
              "    <tr>\n",
              "      <th>1305</th>\n",
              "      <td>1306</td>\n",
              "      <td>NaN</td>\n",
              "      <td>1</td>\n",
              "      <td>Oliva y Ocana, Dona. Fermina</td>\n",
              "      <td>female</td>\n",
              "      <td>39.0</td>\n",
              "      <td>0</td>\n",
              "      <td>0</td>\n",
              "      <td>PC 17758</td>\n",
              "      <td>108.9000</td>\n",
              "      <td>...</td>\n",
              "      <td>0.0</td>\n",
              "      <td>0.0</td>\n",
              "      <td>0.0</td>\n",
              "      <td>1.0</td>\n",
              "      <td>0.0</td>\n",
              "      <td>0.0</td>\n",
              "      <td>0.0</td>\n",
              "      <td>1.0</td>\n",
              "      <td>0.0</td>\n",
              "      <td>0.0</td>\n",
              "    </tr>\n",
              "    <tr>\n",
              "      <th>1306</th>\n",
              "      <td>1307</td>\n",
              "      <td>NaN</td>\n",
              "      <td>3</td>\n",
              "      <td>Saether, Mr. Simon Sivertsen</td>\n",
              "      <td>male</td>\n",
              "      <td>38.5</td>\n",
              "      <td>0</td>\n",
              "      <td>0</td>\n",
              "      <td>SOTON/O.Q. 3101262</td>\n",
              "      <td>7.2500</td>\n",
              "      <td>...</td>\n",
              "      <td>1.0</td>\n",
              "      <td>0.0</td>\n",
              "      <td>0.0</td>\n",
              "      <td>0.0</td>\n",
              "      <td>0.0</td>\n",
              "      <td>0.0</td>\n",
              "      <td>0.0</td>\n",
              "      <td>1.0</td>\n",
              "      <td>0.0</td>\n",
              "      <td>0.0</td>\n",
              "    </tr>\n",
              "    <tr>\n",
              "      <th>1307</th>\n",
              "      <td>1308</td>\n",
              "      <td>NaN</td>\n",
              "      <td>3</td>\n",
              "      <td>Ware, Mr. Frederick</td>\n",
              "      <td>male</td>\n",
              "      <td>25.0</td>\n",
              "      <td>0</td>\n",
              "      <td>0</td>\n",
              "      <td>359309</td>\n",
              "      <td>8.0500</td>\n",
              "      <td>...</td>\n",
              "      <td>0.0</td>\n",
              "      <td>0.0</td>\n",
              "      <td>0.0</td>\n",
              "      <td>0.0</td>\n",
              "      <td>1.0</td>\n",
              "      <td>0.0</td>\n",
              "      <td>1.0</td>\n",
              "      <td>0.0</td>\n",
              "      <td>0.0</td>\n",
              "      <td>0.0</td>\n",
              "    </tr>\n",
              "    <tr>\n",
              "      <th>1308</th>\n",
              "      <td>1309</td>\n",
              "      <td>NaN</td>\n",
              "      <td>3</td>\n",
              "      <td>Peter, Master. Michael J</td>\n",
              "      <td>male</td>\n",
              "      <td>25.0</td>\n",
              "      <td>1</td>\n",
              "      <td>1</td>\n",
              "      <td>2668</td>\n",
              "      <td>22.3583</td>\n",
              "      <td>...</td>\n",
              "      <td>0.0</td>\n",
              "      <td>0.0</td>\n",
              "      <td>1.0</td>\n",
              "      <td>0.0</td>\n",
              "      <td>0.0</td>\n",
              "      <td>0.0</td>\n",
              "      <td>1.0</td>\n",
              "      <td>0.0</td>\n",
              "      <td>0.0</td>\n",
              "      <td>0.0</td>\n",
              "    </tr>\n",
              "  </tbody>\n",
              "</table>\n",
              "<p>1309 rows × 28 columns</p>\n",
              "</div>\n",
              "      <button class=\"colab-df-convert\" onclick=\"convertToInteractive('df-a361fb02-83a8-4146-a378-391224946e72')\"\n",
              "              title=\"Convert this dataframe to an interactive table.\"\n",
              "              style=\"display:none;\">\n",
              "        \n",
              "  <svg xmlns=\"http://www.w3.org/2000/svg\" height=\"24px\"viewBox=\"0 0 24 24\"\n",
              "       width=\"24px\">\n",
              "    <path d=\"M0 0h24v24H0V0z\" fill=\"none\"/>\n",
              "    <path d=\"M18.56 5.44l.94 2.06.94-2.06 2.06-.94-2.06-.94-.94-2.06-.94 2.06-2.06.94zm-11 1L8.5 8.5l.94-2.06 2.06-.94-2.06-.94L8.5 2.5l-.94 2.06-2.06.94zm10 10l.94 2.06.94-2.06 2.06-.94-2.06-.94-.94-2.06-.94 2.06-2.06.94z\"/><path d=\"M17.41 7.96l-1.37-1.37c-.4-.4-.92-.59-1.43-.59-.52 0-1.04.2-1.43.59L10.3 9.45l-7.72 7.72c-.78.78-.78 2.05 0 2.83L4 21.41c.39.39.9.59 1.41.59.51 0 1.02-.2 1.41-.59l7.78-7.78 2.81-2.81c.8-.78.8-2.07 0-2.86zM5.41 20L4 18.59l7.72-7.72 1.47 1.35L5.41 20z\"/>\n",
              "  </svg>\n",
              "      </button>\n",
              "      \n",
              "  <style>\n",
              "    .colab-df-container {\n",
              "      display:flex;\n",
              "      flex-wrap:wrap;\n",
              "      gap: 12px;\n",
              "    }\n",
              "\n",
              "    .colab-df-convert {\n",
              "      background-color: #E8F0FE;\n",
              "      border: none;\n",
              "      border-radius: 50%;\n",
              "      cursor: pointer;\n",
              "      display: none;\n",
              "      fill: #1967D2;\n",
              "      height: 32px;\n",
              "      padding: 0 0 0 0;\n",
              "      width: 32px;\n",
              "    }\n",
              "\n",
              "    .colab-df-convert:hover {\n",
              "      background-color: #E2EBFA;\n",
              "      box-shadow: 0px 1px 2px rgba(60, 64, 67, 0.3), 0px 1px 3px 1px rgba(60, 64, 67, 0.15);\n",
              "      fill: #174EA6;\n",
              "    }\n",
              "\n",
              "    [theme=dark] .colab-df-convert {\n",
              "      background-color: #3B4455;\n",
              "      fill: #D2E3FC;\n",
              "    }\n",
              "\n",
              "    [theme=dark] .colab-df-convert:hover {\n",
              "      background-color: #434B5C;\n",
              "      box-shadow: 0px 1px 3px 1px rgba(0, 0, 0, 0.15);\n",
              "      filter: drop-shadow(0px 1px 2px rgba(0, 0, 0, 0.3));\n",
              "      fill: #FFFFFF;\n",
              "    }\n",
              "  </style>\n",
              "\n",
              "      <script>\n",
              "        const buttonEl =\n",
              "          document.querySelector('#df-a361fb02-83a8-4146-a378-391224946e72 button.colab-df-convert');\n",
              "        buttonEl.style.display =\n",
              "          google.colab.kernel.accessAllowed ? 'block' : 'none';\n",
              "\n",
              "        async function convertToInteractive(key) {\n",
              "          const element = document.querySelector('#df-a361fb02-83a8-4146-a378-391224946e72');\n",
              "          const dataTable =\n",
              "            await google.colab.kernel.invokeFunction('convertToInteractive',\n",
              "                                                     [key], {});\n",
              "          if (!dataTable) return;\n",
              "\n",
              "          const docLinkHtml = 'Like what you see? Visit the ' +\n",
              "            '<a target=\"_blank\" href=https://colab.research.google.com/notebooks/data_table.ipynb>data table notebook</a>'\n",
              "            + ' to learn more about interactive tables.';\n",
              "          element.innerHTML = '';\n",
              "          dataTable['output_type'] = 'display_data';\n",
              "          await google.colab.output.renderOutput(dataTable, element);\n",
              "          const docLink = document.createElement('div');\n",
              "          docLink.innerHTML = docLinkHtml;\n",
              "          element.appendChild(docLink);\n",
              "        }\n",
              "      </script>\n",
              "    </div>\n",
              "  </div>\n",
              "  "
            ]
          },
          "metadata": {},
          "execution_count": 46
        }
      ]
    },
    {
      "cell_type": "markdown",
      "source": [
        "#### Create new attributes for the 'Pclass' attribute and then concatenate new attributes with the all_data dataframe."
      ],
      "metadata": {
        "id": "PnvK2dYzH8fW"
      }
    },
    {
      "cell_type": "code",
      "source": [
        "New_Pclass = encode_category_to_numeric(\"Pclass\", all_data)\n",
        "all_data = pd.concat([all_data, New_Pclass], axis=1)\n",
        "all_data"
      ],
      "metadata": {
        "id": "KiWZFtp2H_vo",
        "colab": {
          "base_uri": "https://localhost:8080/",
          "height": 939
        },
        "outputId": "7189a084-5bc7-4df5-9abb-aa05aceb12d2"
      },
      "execution_count": null,
      "outputs": [
        {
          "output_type": "execute_result",
          "data": {
            "text/plain": [
              "      PassengerId  Survived  Pclass  \\\n",
              "0               1       0.0       3   \n",
              "1               2       1.0       1   \n",
              "2               3       1.0       3   \n",
              "3               4       1.0       1   \n",
              "4               5       0.0       3   \n",
              "...           ...       ...     ...   \n",
              "1304         1305       NaN       3   \n",
              "1305         1306       NaN       1   \n",
              "1306         1307       NaN       3   \n",
              "1307         1308       NaN       3   \n",
              "1308         1309       NaN       3   \n",
              "\n",
              "                                                   Name     Sex   Age  SibSp  \\\n",
              "0                               Braund, Mr. Owen Harris    male  22.0      1   \n",
              "1     Cumings, Mrs. John Bradley (Florence Briggs Th...  female  38.0      1   \n",
              "2                                Heikkinen, Miss. Laina  female  26.0      0   \n",
              "3          Futrelle, Mrs. Jacques Heath (Lily May Peel)  female  35.0      1   \n",
              "4                              Allen, Mr. William Henry    male  35.0      0   \n",
              "...                                                 ...     ...   ...    ...   \n",
              "1304                                 Spector, Mr. Woolf    male  25.0      0   \n",
              "1305                       Oliva y Ocana, Dona. Fermina  female  39.0      0   \n",
              "1306                       Saether, Mr. Simon Sivertsen    male  38.5      0   \n",
              "1307                                Ware, Mr. Frederick    male  25.0      0   \n",
              "1308                           Peter, Master. Michael J    male  25.0      1   \n",
              "\n",
              "      Parch              Ticket      Fare  ...  \\\n",
              "0         0           A/5 21171    7.2500  ...   \n",
              "1         0            PC 17599   71.2833  ...   \n",
              "2         0    STON/O2. 3101282    7.9250  ...   \n",
              "3         0              113803   53.1000  ...   \n",
              "4         0              373450    8.0500  ...   \n",
              "...     ...                 ...       ...  ...   \n",
              "1304      0           A.5. 3236    8.0500  ...   \n",
              "1305      0            PC 17758  108.9000  ...   \n",
              "1306      0  SOTON/O.Q. 3101262    7.2500  ...   \n",
              "1307      0              359309    8.0500  ...   \n",
              "1308      1                2668   22.3583  ...   \n",
              "\n",
              "     Fare_Category_(41.579, 512.329] Fare_Category_(7.854, 10.5]  \\\n",
              "0                                0.0                         0.0   \n",
              "1                                1.0                         0.0   \n",
              "2                                0.0                         1.0   \n",
              "3                                1.0                         0.0   \n",
              "4                                0.0                         1.0   \n",
              "...                              ...                         ...   \n",
              "1304                             0.0                         1.0   \n",
              "1305                             1.0                         0.0   \n",
              "1306                             0.0                         0.0   \n",
              "1307                             0.0                         1.0   \n",
              "1308                             0.0                         0.0   \n",
              "\n",
              "      Age_Category_(-0.08, 16.0] Age_Category_(16.0, 32.0]  \\\n",
              "0                            0.0                       1.0   \n",
              "1                            0.0                       0.0   \n",
              "2                            0.0                       1.0   \n",
              "3                            0.0                       0.0   \n",
              "4                            0.0                       0.0   \n",
              "...                          ...                       ...   \n",
              "1304                         0.0                       1.0   \n",
              "1305                         0.0                       0.0   \n",
              "1306                         0.0                       0.0   \n",
              "1307                         0.0                       1.0   \n",
              "1308                         0.0                       1.0   \n",
              "\n",
              "     Age_Category_(32.0, 48.0]  Age_Category_(48.0, 64.0]  \\\n",
              "0                          0.0                        0.0   \n",
              "1                          1.0                        0.0   \n",
              "2                          0.0                        0.0   \n",
              "3                          1.0                        0.0   \n",
              "4                          1.0                        0.0   \n",
              "...                        ...                        ...   \n",
              "1304                       0.0                        0.0   \n",
              "1305                       1.0                        0.0   \n",
              "1306                       1.0                        0.0   \n",
              "1307                       0.0                        0.0   \n",
              "1308                       0.0                        0.0   \n",
              "\n",
              "      Age_Category_(64.0, 80.0]  Pclass_1  Pclass_2  Pclass_3  \n",
              "0                           0.0       0.0       0.0       1.0  \n",
              "1                           0.0       1.0       0.0       0.0  \n",
              "2                           0.0       0.0       0.0       1.0  \n",
              "3                           0.0       1.0       0.0       0.0  \n",
              "4                           0.0       0.0       0.0       1.0  \n",
              "...                         ...       ...       ...       ...  \n",
              "1304                        0.0       0.0       0.0       1.0  \n",
              "1305                        0.0       1.0       0.0       0.0  \n",
              "1306                        0.0       0.0       0.0       1.0  \n",
              "1307                        0.0       0.0       0.0       1.0  \n",
              "1308                        0.0       0.0       0.0       1.0  \n",
              "\n",
              "[1309 rows x 31 columns]"
            ],
            "text/html": [
              "\n",
              "  <div id=\"df-cd56d0c6-7684-4fbf-b6da-5d20a90ba3e0\">\n",
              "    <div class=\"colab-df-container\">\n",
              "      <div>\n",
              "<style scoped>\n",
              "    .dataframe tbody tr th:only-of-type {\n",
              "        vertical-align: middle;\n",
              "    }\n",
              "\n",
              "    .dataframe tbody tr th {\n",
              "        vertical-align: top;\n",
              "    }\n",
              "\n",
              "    .dataframe thead th {\n",
              "        text-align: right;\n",
              "    }\n",
              "</style>\n",
              "<table border=\"1\" class=\"dataframe\">\n",
              "  <thead>\n",
              "    <tr style=\"text-align: right;\">\n",
              "      <th></th>\n",
              "      <th>PassengerId</th>\n",
              "      <th>Survived</th>\n",
              "      <th>Pclass</th>\n",
              "      <th>Name</th>\n",
              "      <th>Sex</th>\n",
              "      <th>Age</th>\n",
              "      <th>SibSp</th>\n",
              "      <th>Parch</th>\n",
              "      <th>Ticket</th>\n",
              "      <th>Fare</th>\n",
              "      <th>...</th>\n",
              "      <th>Fare_Category_(41.579, 512.329]</th>\n",
              "      <th>Fare_Category_(7.854, 10.5]</th>\n",
              "      <th>Age_Category_(-0.08, 16.0]</th>\n",
              "      <th>Age_Category_(16.0, 32.0]</th>\n",
              "      <th>Age_Category_(32.0, 48.0]</th>\n",
              "      <th>Age_Category_(48.0, 64.0]</th>\n",
              "      <th>Age_Category_(64.0, 80.0]</th>\n",
              "      <th>Pclass_1</th>\n",
              "      <th>Pclass_2</th>\n",
              "      <th>Pclass_3</th>\n",
              "    </tr>\n",
              "  </thead>\n",
              "  <tbody>\n",
              "    <tr>\n",
              "      <th>0</th>\n",
              "      <td>1</td>\n",
              "      <td>0.0</td>\n",
              "      <td>3</td>\n",
              "      <td>Braund, Mr. Owen Harris</td>\n",
              "      <td>male</td>\n",
              "      <td>22.0</td>\n",
              "      <td>1</td>\n",
              "      <td>0</td>\n",
              "      <td>A/5 21171</td>\n",
              "      <td>7.2500</td>\n",
              "      <td>...</td>\n",
              "      <td>0.0</td>\n",
              "      <td>0.0</td>\n",
              "      <td>0.0</td>\n",
              "      <td>1.0</td>\n",
              "      <td>0.0</td>\n",
              "      <td>0.0</td>\n",
              "      <td>0.0</td>\n",
              "      <td>0.0</td>\n",
              "      <td>0.0</td>\n",
              "      <td>1.0</td>\n",
              "    </tr>\n",
              "    <tr>\n",
              "      <th>1</th>\n",
              "      <td>2</td>\n",
              "      <td>1.0</td>\n",
              "      <td>1</td>\n",
              "      <td>Cumings, Mrs. John Bradley (Florence Briggs Th...</td>\n",
              "      <td>female</td>\n",
              "      <td>38.0</td>\n",
              "      <td>1</td>\n",
              "      <td>0</td>\n",
              "      <td>PC 17599</td>\n",
              "      <td>71.2833</td>\n",
              "      <td>...</td>\n",
              "      <td>1.0</td>\n",
              "      <td>0.0</td>\n",
              "      <td>0.0</td>\n",
              "      <td>0.0</td>\n",
              "      <td>1.0</td>\n",
              "      <td>0.0</td>\n",
              "      <td>0.0</td>\n",
              "      <td>1.0</td>\n",
              "      <td>0.0</td>\n",
              "      <td>0.0</td>\n",
              "    </tr>\n",
              "    <tr>\n",
              "      <th>2</th>\n",
              "      <td>3</td>\n",
              "      <td>1.0</td>\n",
              "      <td>3</td>\n",
              "      <td>Heikkinen, Miss. Laina</td>\n",
              "      <td>female</td>\n",
              "      <td>26.0</td>\n",
              "      <td>0</td>\n",
              "      <td>0</td>\n",
              "      <td>STON/O2. 3101282</td>\n",
              "      <td>7.9250</td>\n",
              "      <td>...</td>\n",
              "      <td>0.0</td>\n",
              "      <td>1.0</td>\n",
              "      <td>0.0</td>\n",
              "      <td>1.0</td>\n",
              "      <td>0.0</td>\n",
              "      <td>0.0</td>\n",
              "      <td>0.0</td>\n",
              "      <td>0.0</td>\n",
              "      <td>0.0</td>\n",
              "      <td>1.0</td>\n",
              "    </tr>\n",
              "    <tr>\n",
              "      <th>3</th>\n",
              "      <td>4</td>\n",
              "      <td>1.0</td>\n",
              "      <td>1</td>\n",
              "      <td>Futrelle, Mrs. Jacques Heath (Lily May Peel)</td>\n",
              "      <td>female</td>\n",
              "      <td>35.0</td>\n",
              "      <td>1</td>\n",
              "      <td>0</td>\n",
              "      <td>113803</td>\n",
              "      <td>53.1000</td>\n",
              "      <td>...</td>\n",
              "      <td>1.0</td>\n",
              "      <td>0.0</td>\n",
              "      <td>0.0</td>\n",
              "      <td>0.0</td>\n",
              "      <td>1.0</td>\n",
              "      <td>0.0</td>\n",
              "      <td>0.0</td>\n",
              "      <td>1.0</td>\n",
              "      <td>0.0</td>\n",
              "      <td>0.0</td>\n",
              "    </tr>\n",
              "    <tr>\n",
              "      <th>4</th>\n",
              "      <td>5</td>\n",
              "      <td>0.0</td>\n",
              "      <td>3</td>\n",
              "      <td>Allen, Mr. William Henry</td>\n",
              "      <td>male</td>\n",
              "      <td>35.0</td>\n",
              "      <td>0</td>\n",
              "      <td>0</td>\n",
              "      <td>373450</td>\n",
              "      <td>8.0500</td>\n",
              "      <td>...</td>\n",
              "      <td>0.0</td>\n",
              "      <td>1.0</td>\n",
              "      <td>0.0</td>\n",
              "      <td>0.0</td>\n",
              "      <td>1.0</td>\n",
              "      <td>0.0</td>\n",
              "      <td>0.0</td>\n",
              "      <td>0.0</td>\n",
              "      <td>0.0</td>\n",
              "      <td>1.0</td>\n",
              "    </tr>\n",
              "    <tr>\n",
              "      <th>...</th>\n",
              "      <td>...</td>\n",
              "      <td>...</td>\n",
              "      <td>...</td>\n",
              "      <td>...</td>\n",
              "      <td>...</td>\n",
              "      <td>...</td>\n",
              "      <td>...</td>\n",
              "      <td>...</td>\n",
              "      <td>...</td>\n",
              "      <td>...</td>\n",
              "      <td>...</td>\n",
              "      <td>...</td>\n",
              "      <td>...</td>\n",
              "      <td>...</td>\n",
              "      <td>...</td>\n",
              "      <td>...</td>\n",
              "      <td>...</td>\n",
              "      <td>...</td>\n",
              "      <td>...</td>\n",
              "      <td>...</td>\n",
              "      <td>...</td>\n",
              "    </tr>\n",
              "    <tr>\n",
              "      <th>1304</th>\n",
              "      <td>1305</td>\n",
              "      <td>NaN</td>\n",
              "      <td>3</td>\n",
              "      <td>Spector, Mr. Woolf</td>\n",
              "      <td>male</td>\n",
              "      <td>25.0</td>\n",
              "      <td>0</td>\n",
              "      <td>0</td>\n",
              "      <td>A.5. 3236</td>\n",
              "      <td>8.0500</td>\n",
              "      <td>...</td>\n",
              "      <td>0.0</td>\n",
              "      <td>1.0</td>\n",
              "      <td>0.0</td>\n",
              "      <td>1.0</td>\n",
              "      <td>0.0</td>\n",
              "      <td>0.0</td>\n",
              "      <td>0.0</td>\n",
              "      <td>0.0</td>\n",
              "      <td>0.0</td>\n",
              "      <td>1.0</td>\n",
              "    </tr>\n",
              "    <tr>\n",
              "      <th>1305</th>\n",
              "      <td>1306</td>\n",
              "      <td>NaN</td>\n",
              "      <td>1</td>\n",
              "      <td>Oliva y Ocana, Dona. Fermina</td>\n",
              "      <td>female</td>\n",
              "      <td>39.0</td>\n",
              "      <td>0</td>\n",
              "      <td>0</td>\n",
              "      <td>PC 17758</td>\n",
              "      <td>108.9000</td>\n",
              "      <td>...</td>\n",
              "      <td>1.0</td>\n",
              "      <td>0.0</td>\n",
              "      <td>0.0</td>\n",
              "      <td>0.0</td>\n",
              "      <td>1.0</td>\n",
              "      <td>0.0</td>\n",
              "      <td>0.0</td>\n",
              "      <td>1.0</td>\n",
              "      <td>0.0</td>\n",
              "      <td>0.0</td>\n",
              "    </tr>\n",
              "    <tr>\n",
              "      <th>1306</th>\n",
              "      <td>1307</td>\n",
              "      <td>NaN</td>\n",
              "      <td>3</td>\n",
              "      <td>Saether, Mr. Simon Sivertsen</td>\n",
              "      <td>male</td>\n",
              "      <td>38.5</td>\n",
              "      <td>0</td>\n",
              "      <td>0</td>\n",
              "      <td>SOTON/O.Q. 3101262</td>\n",
              "      <td>7.2500</td>\n",
              "      <td>...</td>\n",
              "      <td>0.0</td>\n",
              "      <td>0.0</td>\n",
              "      <td>0.0</td>\n",
              "      <td>0.0</td>\n",
              "      <td>1.0</td>\n",
              "      <td>0.0</td>\n",
              "      <td>0.0</td>\n",
              "      <td>0.0</td>\n",
              "      <td>0.0</td>\n",
              "      <td>1.0</td>\n",
              "    </tr>\n",
              "    <tr>\n",
              "      <th>1307</th>\n",
              "      <td>1308</td>\n",
              "      <td>NaN</td>\n",
              "      <td>3</td>\n",
              "      <td>Ware, Mr. Frederick</td>\n",
              "      <td>male</td>\n",
              "      <td>25.0</td>\n",
              "      <td>0</td>\n",
              "      <td>0</td>\n",
              "      <td>359309</td>\n",
              "      <td>8.0500</td>\n",
              "      <td>...</td>\n",
              "      <td>0.0</td>\n",
              "      <td>1.0</td>\n",
              "      <td>0.0</td>\n",
              "      <td>1.0</td>\n",
              "      <td>0.0</td>\n",
              "      <td>0.0</td>\n",
              "      <td>0.0</td>\n",
              "      <td>0.0</td>\n",
              "      <td>0.0</td>\n",
              "      <td>1.0</td>\n",
              "    </tr>\n",
              "    <tr>\n",
              "      <th>1308</th>\n",
              "      <td>1309</td>\n",
              "      <td>NaN</td>\n",
              "      <td>3</td>\n",
              "      <td>Peter, Master. Michael J</td>\n",
              "      <td>male</td>\n",
              "      <td>25.0</td>\n",
              "      <td>1</td>\n",
              "      <td>1</td>\n",
              "      <td>2668</td>\n",
              "      <td>22.3583</td>\n",
              "      <td>...</td>\n",
              "      <td>0.0</td>\n",
              "      <td>0.0</td>\n",
              "      <td>0.0</td>\n",
              "      <td>1.0</td>\n",
              "      <td>0.0</td>\n",
              "      <td>0.0</td>\n",
              "      <td>0.0</td>\n",
              "      <td>0.0</td>\n",
              "      <td>0.0</td>\n",
              "      <td>1.0</td>\n",
              "    </tr>\n",
              "  </tbody>\n",
              "</table>\n",
              "<p>1309 rows × 31 columns</p>\n",
              "</div>\n",
              "      <button class=\"colab-df-convert\" onclick=\"convertToInteractive('df-cd56d0c6-7684-4fbf-b6da-5d20a90ba3e0')\"\n",
              "              title=\"Convert this dataframe to an interactive table.\"\n",
              "              style=\"display:none;\">\n",
              "        \n",
              "  <svg xmlns=\"http://www.w3.org/2000/svg\" height=\"24px\"viewBox=\"0 0 24 24\"\n",
              "       width=\"24px\">\n",
              "    <path d=\"M0 0h24v24H0V0z\" fill=\"none\"/>\n",
              "    <path d=\"M18.56 5.44l.94 2.06.94-2.06 2.06-.94-2.06-.94-.94-2.06-.94 2.06-2.06.94zm-11 1L8.5 8.5l.94-2.06 2.06-.94-2.06-.94L8.5 2.5l-.94 2.06-2.06.94zm10 10l.94 2.06.94-2.06 2.06-.94-2.06-.94-.94-2.06-.94 2.06-2.06.94z\"/><path d=\"M17.41 7.96l-1.37-1.37c-.4-.4-.92-.59-1.43-.59-.52 0-1.04.2-1.43.59L10.3 9.45l-7.72 7.72c-.78.78-.78 2.05 0 2.83L4 21.41c.39.39.9.59 1.41.59.51 0 1.02-.2 1.41-.59l7.78-7.78 2.81-2.81c.8-.78.8-2.07 0-2.86zM5.41 20L4 18.59l7.72-7.72 1.47 1.35L5.41 20z\"/>\n",
              "  </svg>\n",
              "      </button>\n",
              "      \n",
              "  <style>\n",
              "    .colab-df-container {\n",
              "      display:flex;\n",
              "      flex-wrap:wrap;\n",
              "      gap: 12px;\n",
              "    }\n",
              "\n",
              "    .colab-df-convert {\n",
              "      background-color: #E8F0FE;\n",
              "      border: none;\n",
              "      border-radius: 50%;\n",
              "      cursor: pointer;\n",
              "      display: none;\n",
              "      fill: #1967D2;\n",
              "      height: 32px;\n",
              "      padding: 0 0 0 0;\n",
              "      width: 32px;\n",
              "    }\n",
              "\n",
              "    .colab-df-convert:hover {\n",
              "      background-color: #E2EBFA;\n",
              "      box-shadow: 0px 1px 2px rgba(60, 64, 67, 0.3), 0px 1px 3px 1px rgba(60, 64, 67, 0.15);\n",
              "      fill: #174EA6;\n",
              "    }\n",
              "\n",
              "    [theme=dark] .colab-df-convert {\n",
              "      background-color: #3B4455;\n",
              "      fill: #D2E3FC;\n",
              "    }\n",
              "\n",
              "    [theme=dark] .colab-df-convert:hover {\n",
              "      background-color: #434B5C;\n",
              "      box-shadow: 0px 1px 3px 1px rgba(0, 0, 0, 0.15);\n",
              "      filter: drop-shadow(0px 1px 2px rgba(0, 0, 0, 0.3));\n",
              "      fill: #FFFFFF;\n",
              "    }\n",
              "  </style>\n",
              "\n",
              "      <script>\n",
              "        const buttonEl =\n",
              "          document.querySelector('#df-cd56d0c6-7684-4fbf-b6da-5d20a90ba3e0 button.colab-df-convert');\n",
              "        buttonEl.style.display =\n",
              "          google.colab.kernel.accessAllowed ? 'block' : 'none';\n",
              "\n",
              "        async function convertToInteractive(key) {\n",
              "          const element = document.querySelector('#df-cd56d0c6-7684-4fbf-b6da-5d20a90ba3e0');\n",
              "          const dataTable =\n",
              "            await google.colab.kernel.invokeFunction('convertToInteractive',\n",
              "                                                     [key], {});\n",
              "          if (!dataTable) return;\n",
              "\n",
              "          const docLinkHtml = 'Like what you see? Visit the ' +\n",
              "            '<a target=\"_blank\" href=https://colab.research.google.com/notebooks/data_table.ipynb>data table notebook</a>'\n",
              "            + ' to learn more about interactive tables.';\n",
              "          element.innerHTML = '';\n",
              "          dataTable['output_type'] = 'display_data';\n",
              "          await google.colab.output.renderOutput(dataTable, element);\n",
              "          const docLink = document.createElement('div');\n",
              "          docLink.innerHTML = docLinkHtml;\n",
              "          element.appendChild(docLink);\n",
              "        }\n",
              "      </script>\n",
              "    </div>\n",
              "  </div>\n",
              "  "
            ]
          },
          "metadata": {},
          "execution_count": 47
        }
      ]
    },
    {
      "cell_type": "code",
      "source": [
        "all_data.info()"
      ],
      "metadata": {
        "colab": {
          "base_uri": "https://localhost:8080/"
        },
        "id": "naXFCgRqspdd",
        "outputId": "3a40990e-2b40-4bac-8b39-c3d062b56cd0"
      },
      "execution_count": null,
      "outputs": [
        {
          "output_type": "stream",
          "name": "stdout",
          "text": [
            "<class 'pandas.core.frame.DataFrame'>\n",
            "RangeIndex: 1309 entries, 0 to 1308\n",
            "Data columns (total 31 columns):\n",
            " #   Column                           Non-Null Count  Dtype  \n",
            "---  ------                           --------------  -----  \n",
            " 0   PassengerId                      1309 non-null   int64  \n",
            " 1   Survived                         891 non-null    float64\n",
            " 2   Pclass                           1309 non-null   int64  \n",
            " 3   Name                             1309 non-null   object \n",
            " 4   Sex                              1309 non-null   object \n",
            " 5   Age                              1309 non-null   float64\n",
            " 6   SibSp                            1309 non-null   int64  \n",
            " 7   Parch                            1309 non-null   int64  \n",
            " 8   Ticket                           1309 non-null   object \n",
            " 9   Fare                             1309 non-null   float64\n",
            " 10  Cabin                            1309 non-null   object \n",
            " 11  Embarked                         1309 non-null   object \n",
            " 12  Family_Size                      1309 non-null   int64  \n",
            " 13  Fare_Category                    1309 non-null   object \n",
            " 14  Age_Category                     1309 non-null   object \n",
            " 15  Embarked_C                       1309 non-null   float64\n",
            " 16  Embarked_Q                       1309 non-null   float64\n",
            " 17  Embarked_S                       1309 non-null   float64\n",
            " 18  Fare_Category_(-0.001, 7.854]    1309 non-null   float64\n",
            " 19  Fare_Category_(10.5, 21.558]     1309 non-null   float64\n",
            " 20  Fare_Category_(21.558, 41.579]   1309 non-null   float64\n",
            " 21  Fare_Category_(41.579, 512.329]  1309 non-null   float64\n",
            " 22  Fare_Category_(7.854, 10.5]      1309 non-null   float64\n",
            " 23  Age_Category_(-0.08, 16.0]       1309 non-null   float64\n",
            " 24  Age_Category_(16.0, 32.0]        1309 non-null   float64\n",
            " 25  Age_Category_(32.0, 48.0]        1309 non-null   float64\n",
            " 26  Age_Category_(48.0, 64.0]        1309 non-null   float64\n",
            " 27  Age_Category_(64.0, 80.0]        1309 non-null   float64\n",
            " 28  Pclass_1                         1309 non-null   float64\n",
            " 29  Pclass_2                         1309 non-null   float64\n",
            " 30  Pclass_3                         1309 non-null   float64\n",
            "dtypes: float64(19), int64(5), object(7)\n",
            "memory usage: 317.1+ KB\n"
          ]
        }
      ]
    },
    {
      "cell_type": "markdown",
      "metadata": {
        "id": "l_qBVUXyZahG"
      },
      "source": [
        "### Using LabelEncoder, create the 'Sex_Numeric' based on the values of the 'Sex' attribute."
      ]
    },
    {
      "cell_type": "code",
      "source": [
        "from sklearn import preprocessing\n",
        "le = preprocessing.LabelEncoder()\n",
        "all_data['Sex_Numeric']= le.fit_transform(all_data['Sex'])\n",
        "all_data"
      ],
      "metadata": {
        "id": "SHHQDVrUT5V4",
        "colab": {
          "base_uri": "https://localhost:8080/",
          "height": 939
        },
        "outputId": "0d501b8a-8a61-4361-d7ba-4af0f9b942ac"
      },
      "execution_count": null,
      "outputs": [
        {
          "output_type": "execute_result",
          "data": {
            "text/plain": [
              "      PassengerId  Survived  Pclass  \\\n",
              "0               1       0.0       3   \n",
              "1               2       1.0       1   \n",
              "2               3       1.0       3   \n",
              "3               4       1.0       1   \n",
              "4               5       0.0       3   \n",
              "...           ...       ...     ...   \n",
              "1304         1305       NaN       3   \n",
              "1305         1306       NaN       1   \n",
              "1306         1307       NaN       3   \n",
              "1307         1308       NaN       3   \n",
              "1308         1309       NaN       3   \n",
              "\n",
              "                                                   Name     Sex   Age  SibSp  \\\n",
              "0                               Braund, Mr. Owen Harris    male  22.0      1   \n",
              "1     Cumings, Mrs. John Bradley (Florence Briggs Th...  female  38.0      1   \n",
              "2                                Heikkinen, Miss. Laina  female  26.0      0   \n",
              "3          Futrelle, Mrs. Jacques Heath (Lily May Peel)  female  35.0      1   \n",
              "4                              Allen, Mr. William Henry    male  35.0      0   \n",
              "...                                                 ...     ...   ...    ...   \n",
              "1304                                 Spector, Mr. Woolf    male  25.0      0   \n",
              "1305                       Oliva y Ocana, Dona. Fermina  female  39.0      0   \n",
              "1306                       Saether, Mr. Simon Sivertsen    male  38.5      0   \n",
              "1307                                Ware, Mr. Frederick    male  25.0      0   \n",
              "1308                           Peter, Master. Michael J    male  25.0      1   \n",
              "\n",
              "      Parch              Ticket      Fare  ... Fare_Category_(7.854, 10.5]  \\\n",
              "0         0           A/5 21171    7.2500  ...                         0.0   \n",
              "1         0            PC 17599   71.2833  ...                         0.0   \n",
              "2         0    STON/O2. 3101282    7.9250  ...                         1.0   \n",
              "3         0              113803   53.1000  ...                         0.0   \n",
              "4         0              373450    8.0500  ...                         1.0   \n",
              "...     ...                 ...       ...  ...                         ...   \n",
              "1304      0           A.5. 3236    8.0500  ...                         1.0   \n",
              "1305      0            PC 17758  108.9000  ...                         0.0   \n",
              "1306      0  SOTON/O.Q. 3101262    7.2500  ...                         0.0   \n",
              "1307      0              359309    8.0500  ...                         1.0   \n",
              "1308      1                2668   22.3583  ...                         0.0   \n",
              "\n",
              "     Age_Category_(-0.08, 16.0]  Age_Category_(16.0, 32.0]  \\\n",
              "0                           0.0                        1.0   \n",
              "1                           0.0                        0.0   \n",
              "2                           0.0                        1.0   \n",
              "3                           0.0                        0.0   \n",
              "4                           0.0                        0.0   \n",
              "...                         ...                        ...   \n",
              "1304                        0.0                        1.0   \n",
              "1305                        0.0                        0.0   \n",
              "1306                        0.0                        0.0   \n",
              "1307                        0.0                        1.0   \n",
              "1308                        0.0                        1.0   \n",
              "\n",
              "     Age_Category_(32.0, 48.0] Age_Category_(48.0, 64.0]  \\\n",
              "0                          0.0                       0.0   \n",
              "1                          1.0                       0.0   \n",
              "2                          0.0                       0.0   \n",
              "3                          1.0                       0.0   \n",
              "4                          1.0                       0.0   \n",
              "...                        ...                       ...   \n",
              "1304                       0.0                       0.0   \n",
              "1305                       1.0                       0.0   \n",
              "1306                       1.0                       0.0   \n",
              "1307                       0.0                       0.0   \n",
              "1308                       0.0                       0.0   \n",
              "\n",
              "      Age_Category_(64.0, 80.0]  Pclass_1  Pclass_2  Pclass_3  Sex_Numeric  \n",
              "0                           0.0       0.0       0.0       1.0            1  \n",
              "1                           0.0       1.0       0.0       0.0            0  \n",
              "2                           0.0       0.0       0.0       1.0            0  \n",
              "3                           0.0       1.0       0.0       0.0            0  \n",
              "4                           0.0       0.0       0.0       1.0            1  \n",
              "...                         ...       ...       ...       ...          ...  \n",
              "1304                        0.0       0.0       0.0       1.0            1  \n",
              "1305                        0.0       1.0       0.0       0.0            0  \n",
              "1306                        0.0       0.0       0.0       1.0            1  \n",
              "1307                        0.0       0.0       0.0       1.0            1  \n",
              "1308                        0.0       0.0       0.0       1.0            1  \n",
              "\n",
              "[1309 rows x 32 columns]"
            ],
            "text/html": [
              "\n",
              "  <div id=\"df-3c935044-94fd-4842-9de8-f97c84677b37\">\n",
              "    <div class=\"colab-df-container\">\n",
              "      <div>\n",
              "<style scoped>\n",
              "    .dataframe tbody tr th:only-of-type {\n",
              "        vertical-align: middle;\n",
              "    }\n",
              "\n",
              "    .dataframe tbody tr th {\n",
              "        vertical-align: top;\n",
              "    }\n",
              "\n",
              "    .dataframe thead th {\n",
              "        text-align: right;\n",
              "    }\n",
              "</style>\n",
              "<table border=\"1\" class=\"dataframe\">\n",
              "  <thead>\n",
              "    <tr style=\"text-align: right;\">\n",
              "      <th></th>\n",
              "      <th>PassengerId</th>\n",
              "      <th>Survived</th>\n",
              "      <th>Pclass</th>\n",
              "      <th>Name</th>\n",
              "      <th>Sex</th>\n",
              "      <th>Age</th>\n",
              "      <th>SibSp</th>\n",
              "      <th>Parch</th>\n",
              "      <th>Ticket</th>\n",
              "      <th>Fare</th>\n",
              "      <th>...</th>\n",
              "      <th>Fare_Category_(7.854, 10.5]</th>\n",
              "      <th>Age_Category_(-0.08, 16.0]</th>\n",
              "      <th>Age_Category_(16.0, 32.0]</th>\n",
              "      <th>Age_Category_(32.0, 48.0]</th>\n",
              "      <th>Age_Category_(48.0, 64.0]</th>\n",
              "      <th>Age_Category_(64.0, 80.0]</th>\n",
              "      <th>Pclass_1</th>\n",
              "      <th>Pclass_2</th>\n",
              "      <th>Pclass_3</th>\n",
              "      <th>Sex_Numeric</th>\n",
              "    </tr>\n",
              "  </thead>\n",
              "  <tbody>\n",
              "    <tr>\n",
              "      <th>0</th>\n",
              "      <td>1</td>\n",
              "      <td>0.0</td>\n",
              "      <td>3</td>\n",
              "      <td>Braund, Mr. Owen Harris</td>\n",
              "      <td>male</td>\n",
              "      <td>22.0</td>\n",
              "      <td>1</td>\n",
              "      <td>0</td>\n",
              "      <td>A/5 21171</td>\n",
              "      <td>7.2500</td>\n",
              "      <td>...</td>\n",
              "      <td>0.0</td>\n",
              "      <td>0.0</td>\n",
              "      <td>1.0</td>\n",
              "      <td>0.0</td>\n",
              "      <td>0.0</td>\n",
              "      <td>0.0</td>\n",
              "      <td>0.0</td>\n",
              "      <td>0.0</td>\n",
              "      <td>1.0</td>\n",
              "      <td>1</td>\n",
              "    </tr>\n",
              "    <tr>\n",
              "      <th>1</th>\n",
              "      <td>2</td>\n",
              "      <td>1.0</td>\n",
              "      <td>1</td>\n",
              "      <td>Cumings, Mrs. John Bradley (Florence Briggs Th...</td>\n",
              "      <td>female</td>\n",
              "      <td>38.0</td>\n",
              "      <td>1</td>\n",
              "      <td>0</td>\n",
              "      <td>PC 17599</td>\n",
              "      <td>71.2833</td>\n",
              "      <td>...</td>\n",
              "      <td>0.0</td>\n",
              "      <td>0.0</td>\n",
              "      <td>0.0</td>\n",
              "      <td>1.0</td>\n",
              "      <td>0.0</td>\n",
              "      <td>0.0</td>\n",
              "      <td>1.0</td>\n",
              "      <td>0.0</td>\n",
              "      <td>0.0</td>\n",
              "      <td>0</td>\n",
              "    </tr>\n",
              "    <tr>\n",
              "      <th>2</th>\n",
              "      <td>3</td>\n",
              "      <td>1.0</td>\n",
              "      <td>3</td>\n",
              "      <td>Heikkinen, Miss. Laina</td>\n",
              "      <td>female</td>\n",
              "      <td>26.0</td>\n",
              "      <td>0</td>\n",
              "      <td>0</td>\n",
              "      <td>STON/O2. 3101282</td>\n",
              "      <td>7.9250</td>\n",
              "      <td>...</td>\n",
              "      <td>1.0</td>\n",
              "      <td>0.0</td>\n",
              "      <td>1.0</td>\n",
              "      <td>0.0</td>\n",
              "      <td>0.0</td>\n",
              "      <td>0.0</td>\n",
              "      <td>0.0</td>\n",
              "      <td>0.0</td>\n",
              "      <td>1.0</td>\n",
              "      <td>0</td>\n",
              "    </tr>\n",
              "    <tr>\n",
              "      <th>3</th>\n",
              "      <td>4</td>\n",
              "      <td>1.0</td>\n",
              "      <td>1</td>\n",
              "      <td>Futrelle, Mrs. Jacques Heath (Lily May Peel)</td>\n",
              "      <td>female</td>\n",
              "      <td>35.0</td>\n",
              "      <td>1</td>\n",
              "      <td>0</td>\n",
              "      <td>113803</td>\n",
              "      <td>53.1000</td>\n",
              "      <td>...</td>\n",
              "      <td>0.0</td>\n",
              "      <td>0.0</td>\n",
              "      <td>0.0</td>\n",
              "      <td>1.0</td>\n",
              "      <td>0.0</td>\n",
              "      <td>0.0</td>\n",
              "      <td>1.0</td>\n",
              "      <td>0.0</td>\n",
              "      <td>0.0</td>\n",
              "      <td>0</td>\n",
              "    </tr>\n",
              "    <tr>\n",
              "      <th>4</th>\n",
              "      <td>5</td>\n",
              "      <td>0.0</td>\n",
              "      <td>3</td>\n",
              "      <td>Allen, Mr. William Henry</td>\n",
              "      <td>male</td>\n",
              "      <td>35.0</td>\n",
              "      <td>0</td>\n",
              "      <td>0</td>\n",
              "      <td>373450</td>\n",
              "      <td>8.0500</td>\n",
              "      <td>...</td>\n",
              "      <td>1.0</td>\n",
              "      <td>0.0</td>\n",
              "      <td>0.0</td>\n",
              "      <td>1.0</td>\n",
              "      <td>0.0</td>\n",
              "      <td>0.0</td>\n",
              "      <td>0.0</td>\n",
              "      <td>0.0</td>\n",
              "      <td>1.0</td>\n",
              "      <td>1</td>\n",
              "    </tr>\n",
              "    <tr>\n",
              "      <th>...</th>\n",
              "      <td>...</td>\n",
              "      <td>...</td>\n",
              "      <td>...</td>\n",
              "      <td>...</td>\n",
              "      <td>...</td>\n",
              "      <td>...</td>\n",
              "      <td>...</td>\n",
              "      <td>...</td>\n",
              "      <td>...</td>\n",
              "      <td>...</td>\n",
              "      <td>...</td>\n",
              "      <td>...</td>\n",
              "      <td>...</td>\n",
              "      <td>...</td>\n",
              "      <td>...</td>\n",
              "      <td>...</td>\n",
              "      <td>...</td>\n",
              "      <td>...</td>\n",
              "      <td>...</td>\n",
              "      <td>...</td>\n",
              "      <td>...</td>\n",
              "    </tr>\n",
              "    <tr>\n",
              "      <th>1304</th>\n",
              "      <td>1305</td>\n",
              "      <td>NaN</td>\n",
              "      <td>3</td>\n",
              "      <td>Spector, Mr. Woolf</td>\n",
              "      <td>male</td>\n",
              "      <td>25.0</td>\n",
              "      <td>0</td>\n",
              "      <td>0</td>\n",
              "      <td>A.5. 3236</td>\n",
              "      <td>8.0500</td>\n",
              "      <td>...</td>\n",
              "      <td>1.0</td>\n",
              "      <td>0.0</td>\n",
              "      <td>1.0</td>\n",
              "      <td>0.0</td>\n",
              "      <td>0.0</td>\n",
              "      <td>0.0</td>\n",
              "      <td>0.0</td>\n",
              "      <td>0.0</td>\n",
              "      <td>1.0</td>\n",
              "      <td>1</td>\n",
              "    </tr>\n",
              "    <tr>\n",
              "      <th>1305</th>\n",
              "      <td>1306</td>\n",
              "      <td>NaN</td>\n",
              "      <td>1</td>\n",
              "      <td>Oliva y Ocana, Dona. Fermina</td>\n",
              "      <td>female</td>\n",
              "      <td>39.0</td>\n",
              "      <td>0</td>\n",
              "      <td>0</td>\n",
              "      <td>PC 17758</td>\n",
              "      <td>108.9000</td>\n",
              "      <td>...</td>\n",
              "      <td>0.0</td>\n",
              "      <td>0.0</td>\n",
              "      <td>0.0</td>\n",
              "      <td>1.0</td>\n",
              "      <td>0.0</td>\n",
              "      <td>0.0</td>\n",
              "      <td>1.0</td>\n",
              "      <td>0.0</td>\n",
              "      <td>0.0</td>\n",
              "      <td>0</td>\n",
              "    </tr>\n",
              "    <tr>\n",
              "      <th>1306</th>\n",
              "      <td>1307</td>\n",
              "      <td>NaN</td>\n",
              "      <td>3</td>\n",
              "      <td>Saether, Mr. Simon Sivertsen</td>\n",
              "      <td>male</td>\n",
              "      <td>38.5</td>\n",
              "      <td>0</td>\n",
              "      <td>0</td>\n",
              "      <td>SOTON/O.Q. 3101262</td>\n",
              "      <td>7.2500</td>\n",
              "      <td>...</td>\n",
              "      <td>0.0</td>\n",
              "      <td>0.0</td>\n",
              "      <td>0.0</td>\n",
              "      <td>1.0</td>\n",
              "      <td>0.0</td>\n",
              "      <td>0.0</td>\n",
              "      <td>0.0</td>\n",
              "      <td>0.0</td>\n",
              "      <td>1.0</td>\n",
              "      <td>1</td>\n",
              "    </tr>\n",
              "    <tr>\n",
              "      <th>1307</th>\n",
              "      <td>1308</td>\n",
              "      <td>NaN</td>\n",
              "      <td>3</td>\n",
              "      <td>Ware, Mr. Frederick</td>\n",
              "      <td>male</td>\n",
              "      <td>25.0</td>\n",
              "      <td>0</td>\n",
              "      <td>0</td>\n",
              "      <td>359309</td>\n",
              "      <td>8.0500</td>\n",
              "      <td>...</td>\n",
              "      <td>1.0</td>\n",
              "      <td>0.0</td>\n",
              "      <td>1.0</td>\n",
              "      <td>0.0</td>\n",
              "      <td>0.0</td>\n",
              "      <td>0.0</td>\n",
              "      <td>0.0</td>\n",
              "      <td>0.0</td>\n",
              "      <td>1.0</td>\n",
              "      <td>1</td>\n",
              "    </tr>\n",
              "    <tr>\n",
              "      <th>1308</th>\n",
              "      <td>1309</td>\n",
              "      <td>NaN</td>\n",
              "      <td>3</td>\n",
              "      <td>Peter, Master. Michael J</td>\n",
              "      <td>male</td>\n",
              "      <td>25.0</td>\n",
              "      <td>1</td>\n",
              "      <td>1</td>\n",
              "      <td>2668</td>\n",
              "      <td>22.3583</td>\n",
              "      <td>...</td>\n",
              "      <td>0.0</td>\n",
              "      <td>0.0</td>\n",
              "      <td>1.0</td>\n",
              "      <td>0.0</td>\n",
              "      <td>0.0</td>\n",
              "      <td>0.0</td>\n",
              "      <td>0.0</td>\n",
              "      <td>0.0</td>\n",
              "      <td>1.0</td>\n",
              "      <td>1</td>\n",
              "    </tr>\n",
              "  </tbody>\n",
              "</table>\n",
              "<p>1309 rows × 32 columns</p>\n",
              "</div>\n",
              "      <button class=\"colab-df-convert\" onclick=\"convertToInteractive('df-3c935044-94fd-4842-9de8-f97c84677b37')\"\n",
              "              title=\"Convert this dataframe to an interactive table.\"\n",
              "              style=\"display:none;\">\n",
              "        \n",
              "  <svg xmlns=\"http://www.w3.org/2000/svg\" height=\"24px\"viewBox=\"0 0 24 24\"\n",
              "       width=\"24px\">\n",
              "    <path d=\"M0 0h24v24H0V0z\" fill=\"none\"/>\n",
              "    <path d=\"M18.56 5.44l.94 2.06.94-2.06 2.06-.94-2.06-.94-.94-2.06-.94 2.06-2.06.94zm-11 1L8.5 8.5l.94-2.06 2.06-.94-2.06-.94L8.5 2.5l-.94 2.06-2.06.94zm10 10l.94 2.06.94-2.06 2.06-.94-2.06-.94-.94-2.06-.94 2.06-2.06.94z\"/><path d=\"M17.41 7.96l-1.37-1.37c-.4-.4-.92-.59-1.43-.59-.52 0-1.04.2-1.43.59L10.3 9.45l-7.72 7.72c-.78.78-.78 2.05 0 2.83L4 21.41c.39.39.9.59 1.41.59.51 0 1.02-.2 1.41-.59l7.78-7.78 2.81-2.81c.8-.78.8-2.07 0-2.86zM5.41 20L4 18.59l7.72-7.72 1.47 1.35L5.41 20z\"/>\n",
              "  </svg>\n",
              "      </button>\n",
              "      \n",
              "  <style>\n",
              "    .colab-df-container {\n",
              "      display:flex;\n",
              "      flex-wrap:wrap;\n",
              "      gap: 12px;\n",
              "    }\n",
              "\n",
              "    .colab-df-convert {\n",
              "      background-color: #E8F0FE;\n",
              "      border: none;\n",
              "      border-radius: 50%;\n",
              "      cursor: pointer;\n",
              "      display: none;\n",
              "      fill: #1967D2;\n",
              "      height: 32px;\n",
              "      padding: 0 0 0 0;\n",
              "      width: 32px;\n",
              "    }\n",
              "\n",
              "    .colab-df-convert:hover {\n",
              "      background-color: #E2EBFA;\n",
              "      box-shadow: 0px 1px 2px rgba(60, 64, 67, 0.3), 0px 1px 3px 1px rgba(60, 64, 67, 0.15);\n",
              "      fill: #174EA6;\n",
              "    }\n",
              "\n",
              "    [theme=dark] .colab-df-convert {\n",
              "      background-color: #3B4455;\n",
              "      fill: #D2E3FC;\n",
              "    }\n",
              "\n",
              "    [theme=dark] .colab-df-convert:hover {\n",
              "      background-color: #434B5C;\n",
              "      box-shadow: 0px 1px 3px 1px rgba(0, 0, 0, 0.15);\n",
              "      filter: drop-shadow(0px 1px 2px rgba(0, 0, 0, 0.3));\n",
              "      fill: #FFFFFF;\n",
              "    }\n",
              "  </style>\n",
              "\n",
              "      <script>\n",
              "        const buttonEl =\n",
              "          document.querySelector('#df-3c935044-94fd-4842-9de8-f97c84677b37 button.colab-df-convert');\n",
              "        buttonEl.style.display =\n",
              "          google.colab.kernel.accessAllowed ? 'block' : 'none';\n",
              "\n",
              "        async function convertToInteractive(key) {\n",
              "          const element = document.querySelector('#df-3c935044-94fd-4842-9de8-f97c84677b37');\n",
              "          const dataTable =\n",
              "            await google.colab.kernel.invokeFunction('convertToInteractive',\n",
              "                                                     [key], {});\n",
              "          if (!dataTable) return;\n",
              "\n",
              "          const docLinkHtml = 'Like what you see? Visit the ' +\n",
              "            '<a target=\"_blank\" href=https://colab.research.google.com/notebooks/data_table.ipynb>data table notebook</a>'\n",
              "            + ' to learn more about interactive tables.';\n",
              "          element.innerHTML = '';\n",
              "          dataTable['output_type'] = 'display_data';\n",
              "          await google.colab.output.renderOutput(dataTable, element);\n",
              "          const docLink = document.createElement('div');\n",
              "          docLink.innerHTML = docLinkHtml;\n",
              "          element.appendChild(docLink);\n",
              "        }\n",
              "      </script>\n",
              "    </div>\n",
              "  </div>\n",
              "  "
            ]
          },
          "metadata": {},
          "execution_count": 49
        }
      ]
    },
    {
      "cell_type": "markdown",
      "source": [
        "### Calculate the correlations"
      ],
      "metadata": {
        "id": "K02HToEsHiGq"
      }
    },
    {
      "cell_type": "code",
      "source": [
        "corr_matrix = all_data.corr()\n",
        "corr_matrix[\"Survived\"].sort_values(ascending=False)"
      ],
      "metadata": {
        "id": "uKyLwLDDHfxL",
        "colab": {
          "base_uri": "https://localhost:8080/"
        },
        "outputId": "ddc50e53-2027-4b72-b242-96ffbb99ea52"
      },
      "execution_count": null,
      "outputs": [
        {
          "output_type": "execute_result",
          "data": {
            "text/plain": [
              "Survived                           1.000000\n",
              "Pclass_1                           0.285904\n",
              "Fare_Category_(41.579, 512.329]    0.263007\n",
              "Fare                               0.257307\n",
              "Embarked_C                         0.168240\n",
              "Age_Category_(-0.08, 16.0]         0.121485\n",
              "Pclass_2                           0.093349\n",
              "Parch                              0.081629\n",
              "Fare_Category_(21.558, 41.579]     0.062529\n",
              "Fare_Category_(10.5, 21.558]       0.043153\n",
              "Age_Category_(32.0, 48.0]          0.032801\n",
              "Age_Category_(48.0, 64.0]          0.030350\n",
              "Family_Size                        0.016639\n",
              "Embarked_Q                         0.003650\n",
              "PassengerId                       -0.005007\n",
              "SibSp                             -0.035322\n",
              "Age                               -0.058635\n",
              "Age_Category_(64.0, 80.0]         -0.067344\n",
              "Age_Category_(16.0, 32.0]         -0.106821\n",
              "Embarked_S                        -0.149683\n",
              "Fare_Category_(-0.001, 7.854]     -0.171109\n",
              "Fare_Category_(7.854, 10.5]       -0.191707\n",
              "Pclass_3                          -0.322308\n",
              "Pclass                            -0.338481\n",
              "Sex_Numeric                       -0.543351\n",
              "Name: Survived, dtype: float64"
            ]
          },
          "metadata": {},
          "execution_count": 50
        }
      ]
    },
    {
      "cell_type": "markdown",
      "source": [
        "### Based on the correlation matrix results, identify some of the features as unimportant and drop them and assign the remaining DataFrame to the variable named 'important_data'. When you drop features, leave at least 10 columns besides 'Survivided' in the 'important_data' DataFrame. After that, check the correlation to 'Survived' as you did before."
      ],
      "metadata": {
        "id": "4y7bftNkIRDA"
      }
    },
    {
      "cell_type": "code",
      "source": [
        "important_data = all_data[[\"Survived\", \"Sex_Numeric\", \"Fare_Category_(41.579, 512.329]\", \"Pclass\", \"Pclass_3\", \"Fare\", \"Embarked_C\", \"Fare_Category_(7.854, 10.5]\", \"Fare_Category_(-0.001, 7.854]\", \"Embarked_S\", \"Pclass_1\", \"Age_Category_(-0.08, 16.0]\"]]\n",
        "important_data"
      ],
      "metadata": {
        "id": "Uh5V0H44IS2o",
        "colab": {
          "base_uri": "https://localhost:8080/",
          "height": 505
        },
        "outputId": "6e3ef20a-9b3d-4d9c-cc36-35320e307d78"
      },
      "execution_count": null,
      "outputs": [
        {
          "output_type": "execute_result",
          "data": {
            "text/plain": [
              "      Survived  Sex_Numeric  Fare_Category_(41.579, 512.329]  Pclass  \\\n",
              "0          0.0            1                              0.0       3   \n",
              "1          1.0            0                              1.0       1   \n",
              "2          1.0            0                              0.0       3   \n",
              "3          1.0            0                              1.0       1   \n",
              "4          0.0            1                              0.0       3   \n",
              "...        ...          ...                              ...     ...   \n",
              "1304       NaN            1                              0.0       3   \n",
              "1305       NaN            0                              1.0       1   \n",
              "1306       NaN            1                              0.0       3   \n",
              "1307       NaN            1                              0.0       3   \n",
              "1308       NaN            1                              0.0       3   \n",
              "\n",
              "      Pclass_3      Fare  Embarked_C  Fare_Category_(7.854, 10.5]  \\\n",
              "0          1.0    7.2500         0.0                          0.0   \n",
              "1          0.0   71.2833         1.0                          0.0   \n",
              "2          1.0    7.9250         0.0                          1.0   \n",
              "3          0.0   53.1000         0.0                          0.0   \n",
              "4          1.0    8.0500         0.0                          1.0   \n",
              "...        ...       ...         ...                          ...   \n",
              "1304       1.0    8.0500         0.0                          1.0   \n",
              "1305       0.0  108.9000         1.0                          0.0   \n",
              "1306       1.0    7.2500         0.0                          0.0   \n",
              "1307       1.0    8.0500         0.0                          1.0   \n",
              "1308       1.0   22.3583         1.0                          0.0   \n",
              "\n",
              "      Fare_Category_(-0.001, 7.854]  Embarked_S  Pclass_1  \\\n",
              "0                               1.0         1.0       0.0   \n",
              "1                               0.0         0.0       1.0   \n",
              "2                               0.0         1.0       0.0   \n",
              "3                               0.0         1.0       1.0   \n",
              "4                               0.0         1.0       0.0   \n",
              "...                             ...         ...       ...   \n",
              "1304                            0.0         1.0       0.0   \n",
              "1305                            0.0         0.0       1.0   \n",
              "1306                            1.0         1.0       0.0   \n",
              "1307                            0.0         1.0       0.0   \n",
              "1308                            0.0         0.0       0.0   \n",
              "\n",
              "      Age_Category_(-0.08, 16.0]  \n",
              "0                            0.0  \n",
              "1                            0.0  \n",
              "2                            0.0  \n",
              "3                            0.0  \n",
              "4                            0.0  \n",
              "...                          ...  \n",
              "1304                         0.0  \n",
              "1305                         0.0  \n",
              "1306                         0.0  \n",
              "1307                         0.0  \n",
              "1308                         0.0  \n",
              "\n",
              "[1309 rows x 12 columns]"
            ],
            "text/html": [
              "\n",
              "  <div id=\"df-ec2c69ba-b18e-40cd-909f-09b58490ba8b\">\n",
              "    <div class=\"colab-df-container\">\n",
              "      <div>\n",
              "<style scoped>\n",
              "    .dataframe tbody tr th:only-of-type {\n",
              "        vertical-align: middle;\n",
              "    }\n",
              "\n",
              "    .dataframe tbody tr th {\n",
              "        vertical-align: top;\n",
              "    }\n",
              "\n",
              "    .dataframe thead th {\n",
              "        text-align: right;\n",
              "    }\n",
              "</style>\n",
              "<table border=\"1\" class=\"dataframe\">\n",
              "  <thead>\n",
              "    <tr style=\"text-align: right;\">\n",
              "      <th></th>\n",
              "      <th>Survived</th>\n",
              "      <th>Sex_Numeric</th>\n",
              "      <th>Fare_Category_(41.579, 512.329]</th>\n",
              "      <th>Pclass</th>\n",
              "      <th>Pclass_3</th>\n",
              "      <th>Fare</th>\n",
              "      <th>Embarked_C</th>\n",
              "      <th>Fare_Category_(7.854, 10.5]</th>\n",
              "      <th>Fare_Category_(-0.001, 7.854]</th>\n",
              "      <th>Embarked_S</th>\n",
              "      <th>Pclass_1</th>\n",
              "      <th>Age_Category_(-0.08, 16.0]</th>\n",
              "    </tr>\n",
              "  </thead>\n",
              "  <tbody>\n",
              "    <tr>\n",
              "      <th>0</th>\n",
              "      <td>0.0</td>\n",
              "      <td>1</td>\n",
              "      <td>0.0</td>\n",
              "      <td>3</td>\n",
              "      <td>1.0</td>\n",
              "      <td>7.2500</td>\n",
              "      <td>0.0</td>\n",
              "      <td>0.0</td>\n",
              "      <td>1.0</td>\n",
              "      <td>1.0</td>\n",
              "      <td>0.0</td>\n",
              "      <td>0.0</td>\n",
              "    </tr>\n",
              "    <tr>\n",
              "      <th>1</th>\n",
              "      <td>1.0</td>\n",
              "      <td>0</td>\n",
              "      <td>1.0</td>\n",
              "      <td>1</td>\n",
              "      <td>0.0</td>\n",
              "      <td>71.2833</td>\n",
              "      <td>1.0</td>\n",
              "      <td>0.0</td>\n",
              "      <td>0.0</td>\n",
              "      <td>0.0</td>\n",
              "      <td>1.0</td>\n",
              "      <td>0.0</td>\n",
              "    </tr>\n",
              "    <tr>\n",
              "      <th>2</th>\n",
              "      <td>1.0</td>\n",
              "      <td>0</td>\n",
              "      <td>0.0</td>\n",
              "      <td>3</td>\n",
              "      <td>1.0</td>\n",
              "      <td>7.9250</td>\n",
              "      <td>0.0</td>\n",
              "      <td>1.0</td>\n",
              "      <td>0.0</td>\n",
              "      <td>1.0</td>\n",
              "      <td>0.0</td>\n",
              "      <td>0.0</td>\n",
              "    </tr>\n",
              "    <tr>\n",
              "      <th>3</th>\n",
              "      <td>1.0</td>\n",
              "      <td>0</td>\n",
              "      <td>1.0</td>\n",
              "      <td>1</td>\n",
              "      <td>0.0</td>\n",
              "      <td>53.1000</td>\n",
              "      <td>0.0</td>\n",
              "      <td>0.0</td>\n",
              "      <td>0.0</td>\n",
              "      <td>1.0</td>\n",
              "      <td>1.0</td>\n",
              "      <td>0.0</td>\n",
              "    </tr>\n",
              "    <tr>\n",
              "      <th>4</th>\n",
              "      <td>0.0</td>\n",
              "      <td>1</td>\n",
              "      <td>0.0</td>\n",
              "      <td>3</td>\n",
              "      <td>1.0</td>\n",
              "      <td>8.0500</td>\n",
              "      <td>0.0</td>\n",
              "      <td>1.0</td>\n",
              "      <td>0.0</td>\n",
              "      <td>1.0</td>\n",
              "      <td>0.0</td>\n",
              "      <td>0.0</td>\n",
              "    </tr>\n",
              "    <tr>\n",
              "      <th>...</th>\n",
              "      <td>...</td>\n",
              "      <td>...</td>\n",
              "      <td>...</td>\n",
              "      <td>...</td>\n",
              "      <td>...</td>\n",
              "      <td>...</td>\n",
              "      <td>...</td>\n",
              "      <td>...</td>\n",
              "      <td>...</td>\n",
              "      <td>...</td>\n",
              "      <td>...</td>\n",
              "      <td>...</td>\n",
              "    </tr>\n",
              "    <tr>\n",
              "      <th>1304</th>\n",
              "      <td>NaN</td>\n",
              "      <td>1</td>\n",
              "      <td>0.0</td>\n",
              "      <td>3</td>\n",
              "      <td>1.0</td>\n",
              "      <td>8.0500</td>\n",
              "      <td>0.0</td>\n",
              "      <td>1.0</td>\n",
              "      <td>0.0</td>\n",
              "      <td>1.0</td>\n",
              "      <td>0.0</td>\n",
              "      <td>0.0</td>\n",
              "    </tr>\n",
              "    <tr>\n",
              "      <th>1305</th>\n",
              "      <td>NaN</td>\n",
              "      <td>0</td>\n",
              "      <td>1.0</td>\n",
              "      <td>1</td>\n",
              "      <td>0.0</td>\n",
              "      <td>108.9000</td>\n",
              "      <td>1.0</td>\n",
              "      <td>0.0</td>\n",
              "      <td>0.0</td>\n",
              "      <td>0.0</td>\n",
              "      <td>1.0</td>\n",
              "      <td>0.0</td>\n",
              "    </tr>\n",
              "    <tr>\n",
              "      <th>1306</th>\n",
              "      <td>NaN</td>\n",
              "      <td>1</td>\n",
              "      <td>0.0</td>\n",
              "      <td>3</td>\n",
              "      <td>1.0</td>\n",
              "      <td>7.2500</td>\n",
              "      <td>0.0</td>\n",
              "      <td>0.0</td>\n",
              "      <td>1.0</td>\n",
              "      <td>1.0</td>\n",
              "      <td>0.0</td>\n",
              "      <td>0.0</td>\n",
              "    </tr>\n",
              "    <tr>\n",
              "      <th>1307</th>\n",
              "      <td>NaN</td>\n",
              "      <td>1</td>\n",
              "      <td>0.0</td>\n",
              "      <td>3</td>\n",
              "      <td>1.0</td>\n",
              "      <td>8.0500</td>\n",
              "      <td>0.0</td>\n",
              "      <td>1.0</td>\n",
              "      <td>0.0</td>\n",
              "      <td>1.0</td>\n",
              "      <td>0.0</td>\n",
              "      <td>0.0</td>\n",
              "    </tr>\n",
              "    <tr>\n",
              "      <th>1308</th>\n",
              "      <td>NaN</td>\n",
              "      <td>1</td>\n",
              "      <td>0.0</td>\n",
              "      <td>3</td>\n",
              "      <td>1.0</td>\n",
              "      <td>22.3583</td>\n",
              "      <td>1.0</td>\n",
              "      <td>0.0</td>\n",
              "      <td>0.0</td>\n",
              "      <td>0.0</td>\n",
              "      <td>0.0</td>\n",
              "      <td>0.0</td>\n",
              "    </tr>\n",
              "  </tbody>\n",
              "</table>\n",
              "<p>1309 rows × 12 columns</p>\n",
              "</div>\n",
              "      <button class=\"colab-df-convert\" onclick=\"convertToInteractive('df-ec2c69ba-b18e-40cd-909f-09b58490ba8b')\"\n",
              "              title=\"Convert this dataframe to an interactive table.\"\n",
              "              style=\"display:none;\">\n",
              "        \n",
              "  <svg xmlns=\"http://www.w3.org/2000/svg\" height=\"24px\"viewBox=\"0 0 24 24\"\n",
              "       width=\"24px\">\n",
              "    <path d=\"M0 0h24v24H0V0z\" fill=\"none\"/>\n",
              "    <path d=\"M18.56 5.44l.94 2.06.94-2.06 2.06-.94-2.06-.94-.94-2.06-.94 2.06-2.06.94zm-11 1L8.5 8.5l.94-2.06 2.06-.94-2.06-.94L8.5 2.5l-.94 2.06-2.06.94zm10 10l.94 2.06.94-2.06 2.06-.94-2.06-.94-.94-2.06-.94 2.06-2.06.94z\"/><path d=\"M17.41 7.96l-1.37-1.37c-.4-.4-.92-.59-1.43-.59-.52 0-1.04.2-1.43.59L10.3 9.45l-7.72 7.72c-.78.78-.78 2.05 0 2.83L4 21.41c.39.39.9.59 1.41.59.51 0 1.02-.2 1.41-.59l7.78-7.78 2.81-2.81c.8-.78.8-2.07 0-2.86zM5.41 20L4 18.59l7.72-7.72 1.47 1.35L5.41 20z\"/>\n",
              "  </svg>\n",
              "      </button>\n",
              "      \n",
              "  <style>\n",
              "    .colab-df-container {\n",
              "      display:flex;\n",
              "      flex-wrap:wrap;\n",
              "      gap: 12px;\n",
              "    }\n",
              "\n",
              "    .colab-df-convert {\n",
              "      background-color: #E8F0FE;\n",
              "      border: none;\n",
              "      border-radius: 50%;\n",
              "      cursor: pointer;\n",
              "      display: none;\n",
              "      fill: #1967D2;\n",
              "      height: 32px;\n",
              "      padding: 0 0 0 0;\n",
              "      width: 32px;\n",
              "    }\n",
              "\n",
              "    .colab-df-convert:hover {\n",
              "      background-color: #E2EBFA;\n",
              "      box-shadow: 0px 1px 2px rgba(60, 64, 67, 0.3), 0px 1px 3px 1px rgba(60, 64, 67, 0.15);\n",
              "      fill: #174EA6;\n",
              "    }\n",
              "\n",
              "    [theme=dark] .colab-df-convert {\n",
              "      background-color: #3B4455;\n",
              "      fill: #D2E3FC;\n",
              "    }\n",
              "\n",
              "    [theme=dark] .colab-df-convert:hover {\n",
              "      background-color: #434B5C;\n",
              "      box-shadow: 0px 1px 3px 1px rgba(0, 0, 0, 0.15);\n",
              "      filter: drop-shadow(0px 1px 2px rgba(0, 0, 0, 0.3));\n",
              "      fill: #FFFFFF;\n",
              "    }\n",
              "  </style>\n",
              "\n",
              "      <script>\n",
              "        const buttonEl =\n",
              "          document.querySelector('#df-ec2c69ba-b18e-40cd-909f-09b58490ba8b button.colab-df-convert');\n",
              "        buttonEl.style.display =\n",
              "          google.colab.kernel.accessAllowed ? 'block' : 'none';\n",
              "\n",
              "        async function convertToInteractive(key) {\n",
              "          const element = document.querySelector('#df-ec2c69ba-b18e-40cd-909f-09b58490ba8b');\n",
              "          const dataTable =\n",
              "            await google.colab.kernel.invokeFunction('convertToInteractive',\n",
              "                                                     [key], {});\n",
              "          if (!dataTable) return;\n",
              "\n",
              "          const docLinkHtml = 'Like what you see? Visit the ' +\n",
              "            '<a target=\"_blank\" href=https://colab.research.google.com/notebooks/data_table.ipynb>data table notebook</a>'\n",
              "            + ' to learn more about interactive tables.';\n",
              "          element.innerHTML = '';\n",
              "          dataTable['output_type'] = 'display_data';\n",
              "          await google.colab.output.renderOutput(dataTable, element);\n",
              "          const docLink = document.createElement('div');\n",
              "          docLink.innerHTML = docLinkHtml;\n",
              "          element.appendChild(docLink);\n",
              "        }\n",
              "      </script>\n",
              "    </div>\n",
              "  </div>\n",
              "  "
            ]
          },
          "metadata": {},
          "execution_count": 51
        }
      ]
    },
    {
      "cell_type": "code",
      "source": [
        "corr_matrix = important_data.corr()\n",
        "corr_matrix[\"Survived\"].sort_values(ascending=False)"
      ],
      "metadata": {
        "id": "bK_has4_IYAs",
        "colab": {
          "base_uri": "https://localhost:8080/"
        },
        "outputId": "14c3eb5e-837b-4ddb-846f-d8f5973e0036"
      },
      "execution_count": null,
      "outputs": [
        {
          "output_type": "execute_result",
          "data": {
            "text/plain": [
              "Survived                           1.000000\n",
              "Pclass_1                           0.285904\n",
              "Fare_Category_(41.579, 512.329]    0.263007\n",
              "Fare                               0.257307\n",
              "Embarked_C                         0.168240\n",
              "Age_Category_(-0.08, 16.0]         0.121485\n",
              "Embarked_S                        -0.149683\n",
              "Fare_Category_(-0.001, 7.854]     -0.171109\n",
              "Fare_Category_(7.854, 10.5]       -0.191707\n",
              "Pclass_3                          -0.322308\n",
              "Pclass                            -0.338481\n",
              "Sex_Numeric                       -0.543351\n",
              "Name: Survived, dtype: float64"
            ]
          },
          "metadata": {},
          "execution_count": 52
        }
      ]
    },
    {
      "cell_type": "code",
      "source": [
        "important_data.info()"
      ],
      "metadata": {
        "colab": {
          "base_uri": "https://localhost:8080/"
        },
        "id": "gzm4xgPN5IXH",
        "outputId": "210abde5-4eca-41a3-ef5c-96cbb10ffd90"
      },
      "execution_count": null,
      "outputs": [
        {
          "output_type": "stream",
          "name": "stdout",
          "text": [
            "<class 'pandas.core.frame.DataFrame'>\n",
            "RangeIndex: 1309 entries, 0 to 1308\n",
            "Data columns (total 12 columns):\n",
            " #   Column                           Non-Null Count  Dtype  \n",
            "---  ------                           --------------  -----  \n",
            " 0   Survived                         891 non-null    float64\n",
            " 1   Sex_Numeric                      1309 non-null   int64  \n",
            " 2   Fare_Category_(41.579, 512.329]  1309 non-null   float64\n",
            " 3   Pclass                           1309 non-null   int64  \n",
            " 4   Pclass_3                         1309 non-null   float64\n",
            " 5   Fare                             1309 non-null   float64\n",
            " 6   Embarked_C                       1309 non-null   float64\n",
            " 7   Fare_Category_(7.854, 10.5]      1309 non-null   float64\n",
            " 8   Fare_Category_(-0.001, 7.854]    1309 non-null   float64\n",
            " 9   Embarked_S                       1309 non-null   float64\n",
            " 10  Pclass_1                         1309 non-null   float64\n",
            " 11  Age_Category_(-0.08, 16.0]       1309 non-null   float64\n",
            "dtypes: float64(10), int64(2)\n",
            "memory usage: 122.8 KB\n"
          ]
        }
      ]
    },
    {
      "cell_type": "markdown",
      "source": [
        "### Create X_train, Y_train and X_test DataFrames. Note that X_train should 891 instances and the rest should go to X_test. Drop the 'Survived' from X_test. Check the X_train, X_test and Y_train."
      ],
      "metadata": {
        "id": "rNpU-bvcIgZI"
      }
    },
    {
      "cell_type": "code",
      "source": [],
      "metadata": {
        "id": "3JCs1UQ_VjSN"
      },
      "execution_count": null,
      "outputs": []
    },
    {
      "cell_type": "code",
      "source": [
        "from sklearn.model_selection import train_test_split\n",
        "\n",
        "T_train = important_data[important_data[\"Survived\"].notna()]\n",
        "y_train = T_train['Survived']\n",
        "X_train = T_train.drop(\"Survived\", axis='columns')\n",
        "#X_train, X_test, y_train, y_test = train_test_split(X, y, test_size=0.2, random_state=42)\n",
        "\n",
        "T_test = important_data[important_data[\"Survived\"].isna()]\n",
        "X_test = T_test.drop(\"Survived\", axis='columns')\n",
        "X_test"
      ],
      "metadata": {
        "id": "vt5PG-7mImVU",
        "colab": {
          "base_uri": "https://localhost:8080/",
          "height": 505
        },
        "outputId": "50d0dcab-689d-472e-cba4-97a8a285f63a"
      },
      "execution_count": null,
      "outputs": [
        {
          "output_type": "execute_result",
          "data": {
            "text/plain": [
              "      Sex_Numeric  Fare_Category_(41.579, 512.329]  Pclass  Pclass_3  \\\n",
              "891             1                              0.0       3       1.0   \n",
              "892             0                              0.0       3       1.0   \n",
              "893             1                              0.0       2       0.0   \n",
              "894             1                              0.0       3       1.0   \n",
              "895             0                              0.0       3       1.0   \n",
              "...           ...                              ...     ...       ...   \n",
              "1304            1                              0.0       3       1.0   \n",
              "1305            0                              1.0       1       0.0   \n",
              "1306            1                              0.0       3       1.0   \n",
              "1307            1                              0.0       3       1.0   \n",
              "1308            1                              0.0       3       1.0   \n",
              "\n",
              "          Fare  Embarked_C  Fare_Category_(7.854, 10.5]  \\\n",
              "891     7.8292         0.0                          0.0   \n",
              "892     7.0000         0.0                          0.0   \n",
              "893     9.6875         0.0                          1.0   \n",
              "894     8.6625         0.0                          1.0   \n",
              "895    12.2875         0.0                          0.0   \n",
              "...        ...         ...                          ...   \n",
              "1304    8.0500         0.0                          1.0   \n",
              "1305  108.9000         1.0                          0.0   \n",
              "1306    7.2500         0.0                          0.0   \n",
              "1307    8.0500         0.0                          1.0   \n",
              "1308   22.3583         1.0                          0.0   \n",
              "\n",
              "      Fare_Category_(-0.001, 7.854]  Embarked_S  Pclass_1  \\\n",
              "891                             1.0         0.0       0.0   \n",
              "892                             1.0         1.0       0.0   \n",
              "893                             0.0         0.0       0.0   \n",
              "894                             0.0         1.0       0.0   \n",
              "895                             0.0         1.0       0.0   \n",
              "...                             ...         ...       ...   \n",
              "1304                            0.0         1.0       0.0   \n",
              "1305                            0.0         0.0       1.0   \n",
              "1306                            1.0         1.0       0.0   \n",
              "1307                            0.0         1.0       0.0   \n",
              "1308                            0.0         0.0       0.0   \n",
              "\n",
              "      Age_Category_(-0.08, 16.0]  \n",
              "891                          0.0  \n",
              "892                          0.0  \n",
              "893                          0.0  \n",
              "894                          0.0  \n",
              "895                          0.0  \n",
              "...                          ...  \n",
              "1304                         0.0  \n",
              "1305                         0.0  \n",
              "1306                         0.0  \n",
              "1307                         0.0  \n",
              "1308                         0.0  \n",
              "\n",
              "[418 rows x 11 columns]"
            ],
            "text/html": [
              "\n",
              "  <div id=\"df-3919e8eb-7400-4312-a095-16ad35a29bc9\">\n",
              "    <div class=\"colab-df-container\">\n",
              "      <div>\n",
              "<style scoped>\n",
              "    .dataframe tbody tr th:only-of-type {\n",
              "        vertical-align: middle;\n",
              "    }\n",
              "\n",
              "    .dataframe tbody tr th {\n",
              "        vertical-align: top;\n",
              "    }\n",
              "\n",
              "    .dataframe thead th {\n",
              "        text-align: right;\n",
              "    }\n",
              "</style>\n",
              "<table border=\"1\" class=\"dataframe\">\n",
              "  <thead>\n",
              "    <tr style=\"text-align: right;\">\n",
              "      <th></th>\n",
              "      <th>Sex_Numeric</th>\n",
              "      <th>Fare_Category_(41.579, 512.329]</th>\n",
              "      <th>Pclass</th>\n",
              "      <th>Pclass_3</th>\n",
              "      <th>Fare</th>\n",
              "      <th>Embarked_C</th>\n",
              "      <th>Fare_Category_(7.854, 10.5]</th>\n",
              "      <th>Fare_Category_(-0.001, 7.854]</th>\n",
              "      <th>Embarked_S</th>\n",
              "      <th>Pclass_1</th>\n",
              "      <th>Age_Category_(-0.08, 16.0]</th>\n",
              "    </tr>\n",
              "  </thead>\n",
              "  <tbody>\n",
              "    <tr>\n",
              "      <th>891</th>\n",
              "      <td>1</td>\n",
              "      <td>0.0</td>\n",
              "      <td>3</td>\n",
              "      <td>1.0</td>\n",
              "      <td>7.8292</td>\n",
              "      <td>0.0</td>\n",
              "      <td>0.0</td>\n",
              "      <td>1.0</td>\n",
              "      <td>0.0</td>\n",
              "      <td>0.0</td>\n",
              "      <td>0.0</td>\n",
              "    </tr>\n",
              "    <tr>\n",
              "      <th>892</th>\n",
              "      <td>0</td>\n",
              "      <td>0.0</td>\n",
              "      <td>3</td>\n",
              "      <td>1.0</td>\n",
              "      <td>7.0000</td>\n",
              "      <td>0.0</td>\n",
              "      <td>0.0</td>\n",
              "      <td>1.0</td>\n",
              "      <td>1.0</td>\n",
              "      <td>0.0</td>\n",
              "      <td>0.0</td>\n",
              "    </tr>\n",
              "    <tr>\n",
              "      <th>893</th>\n",
              "      <td>1</td>\n",
              "      <td>0.0</td>\n",
              "      <td>2</td>\n",
              "      <td>0.0</td>\n",
              "      <td>9.6875</td>\n",
              "      <td>0.0</td>\n",
              "      <td>1.0</td>\n",
              "      <td>0.0</td>\n",
              "      <td>0.0</td>\n",
              "      <td>0.0</td>\n",
              "      <td>0.0</td>\n",
              "    </tr>\n",
              "    <tr>\n",
              "      <th>894</th>\n",
              "      <td>1</td>\n",
              "      <td>0.0</td>\n",
              "      <td>3</td>\n",
              "      <td>1.0</td>\n",
              "      <td>8.6625</td>\n",
              "      <td>0.0</td>\n",
              "      <td>1.0</td>\n",
              "      <td>0.0</td>\n",
              "      <td>1.0</td>\n",
              "      <td>0.0</td>\n",
              "      <td>0.0</td>\n",
              "    </tr>\n",
              "    <tr>\n",
              "      <th>895</th>\n",
              "      <td>0</td>\n",
              "      <td>0.0</td>\n",
              "      <td>3</td>\n",
              "      <td>1.0</td>\n",
              "      <td>12.2875</td>\n",
              "      <td>0.0</td>\n",
              "      <td>0.0</td>\n",
              "      <td>0.0</td>\n",
              "      <td>1.0</td>\n",
              "      <td>0.0</td>\n",
              "      <td>0.0</td>\n",
              "    </tr>\n",
              "    <tr>\n",
              "      <th>...</th>\n",
              "      <td>...</td>\n",
              "      <td>...</td>\n",
              "      <td>...</td>\n",
              "      <td>...</td>\n",
              "      <td>...</td>\n",
              "      <td>...</td>\n",
              "      <td>...</td>\n",
              "      <td>...</td>\n",
              "      <td>...</td>\n",
              "      <td>...</td>\n",
              "      <td>...</td>\n",
              "    </tr>\n",
              "    <tr>\n",
              "      <th>1304</th>\n",
              "      <td>1</td>\n",
              "      <td>0.0</td>\n",
              "      <td>3</td>\n",
              "      <td>1.0</td>\n",
              "      <td>8.0500</td>\n",
              "      <td>0.0</td>\n",
              "      <td>1.0</td>\n",
              "      <td>0.0</td>\n",
              "      <td>1.0</td>\n",
              "      <td>0.0</td>\n",
              "      <td>0.0</td>\n",
              "    </tr>\n",
              "    <tr>\n",
              "      <th>1305</th>\n",
              "      <td>0</td>\n",
              "      <td>1.0</td>\n",
              "      <td>1</td>\n",
              "      <td>0.0</td>\n",
              "      <td>108.9000</td>\n",
              "      <td>1.0</td>\n",
              "      <td>0.0</td>\n",
              "      <td>0.0</td>\n",
              "      <td>0.0</td>\n",
              "      <td>1.0</td>\n",
              "      <td>0.0</td>\n",
              "    </tr>\n",
              "    <tr>\n",
              "      <th>1306</th>\n",
              "      <td>1</td>\n",
              "      <td>0.0</td>\n",
              "      <td>3</td>\n",
              "      <td>1.0</td>\n",
              "      <td>7.2500</td>\n",
              "      <td>0.0</td>\n",
              "      <td>0.0</td>\n",
              "      <td>1.0</td>\n",
              "      <td>1.0</td>\n",
              "      <td>0.0</td>\n",
              "      <td>0.0</td>\n",
              "    </tr>\n",
              "    <tr>\n",
              "      <th>1307</th>\n",
              "      <td>1</td>\n",
              "      <td>0.0</td>\n",
              "      <td>3</td>\n",
              "      <td>1.0</td>\n",
              "      <td>8.0500</td>\n",
              "      <td>0.0</td>\n",
              "      <td>1.0</td>\n",
              "      <td>0.0</td>\n",
              "      <td>1.0</td>\n",
              "      <td>0.0</td>\n",
              "      <td>0.0</td>\n",
              "    </tr>\n",
              "    <tr>\n",
              "      <th>1308</th>\n",
              "      <td>1</td>\n",
              "      <td>0.0</td>\n",
              "      <td>3</td>\n",
              "      <td>1.0</td>\n",
              "      <td>22.3583</td>\n",
              "      <td>1.0</td>\n",
              "      <td>0.0</td>\n",
              "      <td>0.0</td>\n",
              "      <td>0.0</td>\n",
              "      <td>0.0</td>\n",
              "      <td>0.0</td>\n",
              "    </tr>\n",
              "  </tbody>\n",
              "</table>\n",
              "<p>418 rows × 11 columns</p>\n",
              "</div>\n",
              "      <button class=\"colab-df-convert\" onclick=\"convertToInteractive('df-3919e8eb-7400-4312-a095-16ad35a29bc9')\"\n",
              "              title=\"Convert this dataframe to an interactive table.\"\n",
              "              style=\"display:none;\">\n",
              "        \n",
              "  <svg xmlns=\"http://www.w3.org/2000/svg\" height=\"24px\"viewBox=\"0 0 24 24\"\n",
              "       width=\"24px\">\n",
              "    <path d=\"M0 0h24v24H0V0z\" fill=\"none\"/>\n",
              "    <path d=\"M18.56 5.44l.94 2.06.94-2.06 2.06-.94-2.06-.94-.94-2.06-.94 2.06-2.06.94zm-11 1L8.5 8.5l.94-2.06 2.06-.94-2.06-.94L8.5 2.5l-.94 2.06-2.06.94zm10 10l.94 2.06.94-2.06 2.06-.94-2.06-.94-.94-2.06-.94 2.06-2.06.94z\"/><path d=\"M17.41 7.96l-1.37-1.37c-.4-.4-.92-.59-1.43-.59-.52 0-1.04.2-1.43.59L10.3 9.45l-7.72 7.72c-.78.78-.78 2.05 0 2.83L4 21.41c.39.39.9.59 1.41.59.51 0 1.02-.2 1.41-.59l7.78-7.78 2.81-2.81c.8-.78.8-2.07 0-2.86zM5.41 20L4 18.59l7.72-7.72 1.47 1.35L5.41 20z\"/>\n",
              "  </svg>\n",
              "      </button>\n",
              "      \n",
              "  <style>\n",
              "    .colab-df-container {\n",
              "      display:flex;\n",
              "      flex-wrap:wrap;\n",
              "      gap: 12px;\n",
              "    }\n",
              "\n",
              "    .colab-df-convert {\n",
              "      background-color: #E8F0FE;\n",
              "      border: none;\n",
              "      border-radius: 50%;\n",
              "      cursor: pointer;\n",
              "      display: none;\n",
              "      fill: #1967D2;\n",
              "      height: 32px;\n",
              "      padding: 0 0 0 0;\n",
              "      width: 32px;\n",
              "    }\n",
              "\n",
              "    .colab-df-convert:hover {\n",
              "      background-color: #E2EBFA;\n",
              "      box-shadow: 0px 1px 2px rgba(60, 64, 67, 0.3), 0px 1px 3px 1px rgba(60, 64, 67, 0.15);\n",
              "      fill: #174EA6;\n",
              "    }\n",
              "\n",
              "    [theme=dark] .colab-df-convert {\n",
              "      background-color: #3B4455;\n",
              "      fill: #D2E3FC;\n",
              "    }\n",
              "\n",
              "    [theme=dark] .colab-df-convert:hover {\n",
              "      background-color: #434B5C;\n",
              "      box-shadow: 0px 1px 3px 1px rgba(0, 0, 0, 0.15);\n",
              "      filter: drop-shadow(0px 1px 2px rgba(0, 0, 0, 0.3));\n",
              "      fill: #FFFFFF;\n",
              "    }\n",
              "  </style>\n",
              "\n",
              "      <script>\n",
              "        const buttonEl =\n",
              "          document.querySelector('#df-3919e8eb-7400-4312-a095-16ad35a29bc9 button.colab-df-convert');\n",
              "        buttonEl.style.display =\n",
              "          google.colab.kernel.accessAllowed ? 'block' : 'none';\n",
              "\n",
              "        async function convertToInteractive(key) {\n",
              "          const element = document.querySelector('#df-3919e8eb-7400-4312-a095-16ad35a29bc9');\n",
              "          const dataTable =\n",
              "            await google.colab.kernel.invokeFunction('convertToInteractive',\n",
              "                                                     [key], {});\n",
              "          if (!dataTable) return;\n",
              "\n",
              "          const docLinkHtml = 'Like what you see? Visit the ' +\n",
              "            '<a target=\"_blank\" href=https://colab.research.google.com/notebooks/data_table.ipynb>data table notebook</a>'\n",
              "            + ' to learn more about interactive tables.';\n",
              "          element.innerHTML = '';\n",
              "          dataTable['output_type'] = 'display_data';\n",
              "          await google.colab.output.renderOutput(dataTable, element);\n",
              "          const docLink = document.createElement('div');\n",
              "          docLink.innerHTML = docLinkHtml;\n",
              "          element.appendChild(docLink);\n",
              "        }\n",
              "      </script>\n",
              "    </div>\n",
              "  </div>\n",
              "  "
            ]
          },
          "metadata": {},
          "execution_count": 54
        }
      ]
    },
    {
      "cell_type": "markdown",
      "source": [
        "### For each of the algorithms, use Scikit-Learn's cross-validation feature to measure the performance and print out mean and std for each algoritm:\n",
        "\n",
        "1. Stochastic Gradient Descent (SGD)\n",
        "2. LogisticRegression\n",
        "3. Support Vector Machine (kernel='linear' parameter)\n",
        "4. Support Vector Machine (kernel = 'rbf' parameter)\n",
        "5. DecisionTreeClassifier\n",
        "6. RandomForestClassifier\n",
        "7. ExtraTreesClassifier\n",
        "8. AdaBoostClassifier\n",
        "9. GradientBoostingClassifier\n",
        "10. XGBoost\n",
        "-- You can import XGBoost library as follows:  \"from xgboost import XGBClassifier\"\n",
        "-- You will need to rename the columns to make the XGBoost work\n",
        "\n",
        "Parameters:\n",
        "- Set the scoring parameter of cross-validation to 'f1'\n",
        "- Use the default cv = 5 parameter of cross-validation\n",
        "- Use random_state = 42 for initializing model algorithms\n",
        "- Use the kernel parameter indicated above for SVM algorithms\n",
        "- Use a solver parameter that works for the logistic regression\n",
        "- For others, use the default parameters (no need to specify explicitly)\n",
        "\n"
      ],
      "metadata": {
        "id": "vLfaYmQ6J7JL"
      }
    },
    {
      "cell_type": "code",
      "source": [
        "def display_scores(scores):\n",
        "    print(\"Scores:\", scores)\n",
        "    print(\"Mean:\", scores.mean())\n",
        "    print(\"Standard deviation:\", scores.std())\n",
        "\n",
        "\n",
        "from sklearn.model_selection import cross_val_score\n",
        "from sklearn.metrics import mean_squared_error"
      ],
      "metadata": {
        "id": "oVIXTPkBId5a"
      },
      "execution_count": null,
      "outputs": []
    },
    {
      "cell_type": "code",
      "source": [
        "from sklearn.linear_model import SGDClassifier\n",
        "clf = SGDClassifier()\n",
        "scores = cross_val_score(clf, X_train, y_train,\n",
        "                                scoring=\"f1\", cv=5)\n",
        "display_scores(scores)"
      ],
      "metadata": {
        "id": "ZPGG9XWlKMd2",
        "colab": {
          "base_uri": "https://localhost:8080/"
        },
        "outputId": "a9a5984d-7bab-4098-e1fb-bf129233ea00"
      },
      "execution_count": null,
      "outputs": [
        {
          "output_type": "stream",
          "name": "stdout",
          "text": [
            "Scores: [0.         0.02857143 0.         0.73548387 0.        ]\n",
            "Mean: 0.1528110599078341\n",
            "Standard deviation: 0.2915464802852294\n"
          ]
        }
      ]
    },
    {
      "cell_type": "code",
      "source": [
        "from sklearn.linear_model import LogisticRegression\n",
        "clf = LogisticRegression(random_state=42, solver=\"newton-cg\")\n",
        "#predictions=clf.predict(X_test)\n",
        "\n",
        "scores = cross_val_score(clf, X_train, y_train,\n",
        "                                scoring=\"f1\", cv=5)\n",
        "#rmse_scores = np.sqrt(scores)\n",
        "display_scores(scores)"
      ],
      "metadata": {
        "id": "1WAKIt3EKPpS",
        "colab": {
          "base_uri": "https://localhost:8080/"
        },
        "outputId": "2d8fb7cd-9015-459e-ca5c-b0d76088ca6e"
      },
      "execution_count": null,
      "outputs": [
        {
          "output_type": "stream",
          "name": "stdout",
          "text": [
            "Scores: [0.66165414 0.72868217 0.74603175 0.66129032 0.74015748]\n",
            "Mean: 0.7075631709616667\n",
            "Standard deviation: 0.03804483792210942\n"
          ]
        }
      ]
    },
    {
      "cell_type": "code",
      "source": [
        "from sklearn import svm\n",
        "clf = svm.SVC(kernel='linear')\n",
        "#clf.fit(X_train, y_train)\n",
        "#predictions=clf.predict(X_test)\n",
        "scores = cross_val_score(clf, X_train, y_train,\n",
        "                                scoring=\"f1\", cv=5)\n",
        "#rmse_scores = np.sqrt(scores)\n",
        "display_scores(scores)"
      ],
      "metadata": {
        "id": "2Ip6aBYzKRO_",
        "colab": {
          "base_uri": "https://localhost:8080/"
        },
        "outputId": "129ce3f6-f193-4852-ac8f-3802f8254bfc"
      },
      "execution_count": null,
      "outputs": [
        {
          "output_type": "stream",
          "name": "stdout",
          "text": [
            "Scores: [0.74452555 0.73684211 0.71212121 0.64516129 0.70769231]\n",
            "Mean: 0.7092684925689026\n",
            "Standard deviation: 0.034996342046068524\n"
          ]
        }
      ]
    },
    {
      "cell_type": "code",
      "source": [
        "from sklearn import svm\n",
        "clf = svm.SVC(kernel='rbf')\n",
        "#clf.fit(X_train, y_train)\n",
        "#predictions=clf.predict(X_test)\n",
        "scores = cross_val_score(clf, X_train, y_train,\n",
        "                                scoring=\"f1\", cv=5)\n",
        "#rmse_scores = np.sqrt(scores)\n",
        "display_scores(scores)"
      ],
      "metadata": {
        "id": "sZ_PPeB2KT-e",
        "colab": {
          "base_uri": "https://localhost:8080/"
        },
        "outputId": "efff8523-90c7-4a1d-f9c5-85aec83e8948"
      },
      "execution_count": null,
      "outputs": [
        {
          "output_type": "stream",
          "name": "stdout",
          "text": [
            "Scores: [0.22680412 0.51923077 0.36956522 0.39130435 0.38709677]\n",
            "Mean: 0.37880024647060984\n",
            "Standard deviation: 0.09288059403514147\n"
          ]
        }
      ]
    },
    {
      "cell_type": "code",
      "source": [
        "from sklearn import tree\n",
        "\n",
        "clf = tree.DecisionTreeClassifier(random_state=42)\n",
        "#clf.fit(X_train, y_train)\n",
        "#predictions=clf.predict(X_test)\n",
        "scores = cross_val_score(clf, X_train, y_train,\n",
        "                                scoring=\"f1\", cv=5)\n",
        "#rmse_scores = np.sqrt(scores)\n",
        "display_scores(scores)"
      ],
      "metadata": {
        "id": "50ts1xbkKWKw",
        "colab": {
          "base_uri": "https://localhost:8080/"
        },
        "outputId": "65d16f32-a910-4274-c50b-8e224901f69c"
      },
      "execution_count": null,
      "outputs": [
        {
          "output_type": "stream",
          "name": "stdout",
          "text": [
            "Scores: [0.67175573 0.71317829 0.78125    0.76190476 0.79699248]\n",
            "Mean: 0.7450162525744505\n",
            "Standard deviation: 0.04621773465788323\n"
          ]
        }
      ]
    },
    {
      "cell_type": "code",
      "source": [
        "from sklearn.ensemble import RandomForestClassifier\n",
        "clf = RandomForestClassifier(random_state=42)\n",
        "#clf.fit(X_train, y_train)\n",
        "#predictions=clf.predict(X_test)\n",
        "scores = cross_val_score(clf, X_train, y_train,\n",
        "                                scoring=\"f1\", cv=5)\n",
        "#rmse_scores = np.sqrt(scores)\n",
        "display_scores(scores)"
      ],
      "metadata": {
        "id": "8UJaClEqKYHL",
        "colab": {
          "base_uri": "https://localhost:8080/"
        },
        "outputId": "551ccb57-1d65-43e6-cd38-5c4b4452734f"
      },
      "execution_count": null,
      "outputs": [
        {
          "output_type": "stream",
          "name": "stdout",
          "text": [
            "Scores: [0.68656716 0.7        0.79699248 0.73170732 0.77372263]\n",
            "Mean: 0.7377979180385019\n",
            "Standard deviation: 0.042154357412586906\n"
          ]
        }
      ]
    },
    {
      "cell_type": "code",
      "source": [
        "from sklearn.ensemble import ExtraTreesClassifier\n",
        "clf = ExtraTreesClassifier(random_state=42)\n",
        "#clf.fit(X_train, y_train)\n",
        "#predictions=clf.predict(X_test)\n",
        "scores = cross_val_score(clf, X_train, y_train,\n",
        "                                scoring=\"f1\", cv=5)\n",
        "#rmse_scores = np.sqrt(scores)\n",
        "display_scores(scores)"
      ],
      "metadata": {
        "id": "ooWjsUWDKZ75",
        "colab": {
          "base_uri": "https://localhost:8080/"
        },
        "outputId": "d2a51bdb-4ed4-4957-8e21-c60a27a4a479"
      },
      "execution_count": null,
      "outputs": [
        {
          "output_type": "stream",
          "name": "stdout",
          "text": [
            "Scores: [0.71111111 0.69172932 0.76923077 0.74193548 0.77941176]\n",
            "Mean: 0.7386836904454002\n",
            "Standard deviation: 0.0333689494595304\n"
          ]
        }
      ]
    },
    {
      "cell_type": "code",
      "source": [
        "from sklearn.ensemble import AdaBoostClassifier\n",
        "clf = AdaBoostClassifier(random_state=42)\n",
        "#clf.fit(X_train, y_train)\n",
        "#predictions=clf.predict(X_test)\n",
        "scores = cross_val_score(clf, X_train, y_train,\n",
        "                                scoring=\"f1\", cv=5)\n",
        "#rmse_scores = np.sqrt(scores)\n",
        "display_scores(scores)"
      ],
      "metadata": {
        "id": "MptQxpIYKcEA",
        "colab": {
          "base_uri": "https://localhost:8080/"
        },
        "outputId": "b1e3ede6-daa6-465c-f170-2336cba26176"
      },
      "execution_count": null,
      "outputs": [
        {
          "output_type": "stream",
          "name": "stdout",
          "text": [
            "Scores: [0.66666667 0.7518797  0.75912409 0.71875    0.734375  ]\n",
            "Mean: 0.7261590907012057\n",
            "Standard deviation: 0.03289372290305175\n"
          ]
        }
      ]
    },
    {
      "cell_type": "code",
      "source": [
        "from sklearn.ensemble import GradientBoostingClassifier\n",
        "clf = GradientBoostingClassifier(random_state=42)\n",
        "#clf.fit(X_train, y_train)\n",
        "#predictions=clf.predict(X_test)\n",
        "scores = cross_val_score(clf, X_train, y_train,\n",
        "                                scoring=\"f1\", cv=5)\n",
        "#rmse_scores = np.sqrt(scores)\n",
        "display_scores(scores)"
      ],
      "metadata": {
        "id": "VCGvcFmMKeN-",
        "colab": {
          "base_uri": "https://localhost:8080/"
        },
        "outputId": "92c092c2-3f1a-4c33-d438-0a9541ff2ed7"
      },
      "execution_count": null,
      "outputs": [
        {
          "output_type": "stream",
          "name": "stdout",
          "text": [
            "Scores: [0.69767442 0.75384615 0.82170543 0.7008547  0.77697842]\n",
            "Mean: 0.7502118233856565\n",
            "Standard deviation: 0.046983611221969035\n"
          ]
        }
      ]
    },
    {
      "cell_type": "code",
      "source": [
        "from xgboost import XGBClassifier\n",
        "\n",
        "clf = XGBClassifier(random_state = 42)\n",
        "X_train.columns = X_train.columns.str.translate(\"\".maketrans({\"[\":\"{\", \"]\":\"}\",\"<\":\"^\"}))\n",
        "#X_test.columns = X_train.columns.str.translate(\"\".maketrans({\"[\":\"{\", \"]\":\"}\",\"<\":\"^\"}))\n",
        "#clf.fit(X_train, y_train)\n",
        "#predictions=clf.predict(X_test)\n",
        "scores = cross_val_score(clf, X_train, y_train,\n",
        "                                scoring=\"f1\", cv=5)\n",
        "#rmse_scores = np.sqrt(scores)\n",
        "display_scores(scores)"
      ],
      "metadata": {
        "colab": {
          "base_uri": "https://localhost:8080/"
        },
        "id": "d9D54XbI_-Ys",
        "outputId": "835fac48-bf17-4299-bfa3-ad8c68014eff"
      },
      "execution_count": null,
      "outputs": [
        {
          "output_type": "stream",
          "name": "stdout",
          "text": [
            "Scores: [0.6875     0.734375   0.79032258 0.69421488 0.71875   ]\n",
            "Mean: 0.7250324913356437\n",
            "Standard deviation: 0.03673679693813582\n"
          ]
        }
      ]
    },
    {
      "cell_type": "markdown",
      "source": [
        "### Select the top 3 best performing classifiers. List them along with their mean and std scores. For these top 3 best performing classifiers, find the best hyperparameters using GridSearchCV.\n",
        "\n",
        "\n",
        "- Use estimator.get_params().keys() or the API description of the classifiers to find out which hyperparameters you can use.\n",
        "- Use the same scoring parameter ('f1') and use cv = 10 this time.\n",
        "- Print out the best_estimator_ and best_score_ results of your Grid Search\n",
        "- Use the following hyparparameter options if they fit for your top 3 classifiers:\n",
        "\n",
        "n_estimators = [300, 400, 500]\n",
        "\n",
        "learning_rate = [0.3, 0.1, 0.05]\n",
        "\n",
        "max_features =  [1, 0.5, 0.3]\n",
        "\n",
        "subsample = [1, 0.5, 0.3]\n",
        "\n",
        "max_samples = [1, 0.5, 0.3]\n",
        "\n",
        "bootstrap = [True,False]"
      ],
      "metadata": {
        "id": "DGs_oQ8BXRrv"
      }
    },
    {
      "cell_type": "markdown",
      "source": [
        "The following classifiers are selected because of their high performance:\n",
        "\n",
        "random_forest_classifier:\n",
        "- mean():  xxx\n",
        "- std():  yyy\n",
        "\n",
        "gradient_boosting_classifier:\n",
        "- mean():  xx\n",
        "- std():  yy\n",
        "\n",
        "XGB_classifier:\n",
        "- mean():  x\n",
        "- std():  y"
      ],
      "metadata": {
        "id": "yczTpBY4XkIY"
      }
    },
    {
      "cell_type": "code",
      "source": [
        "from sklearn.model_selection import GridSearchCV\n",
        "\n",
        "param_grid = [{'n_estimators': [300, 400, 500,700], 'max_features': [1,0.5,0.3,0.1],  'subsample':[1,0.5,0.3,0.1], 'learning_rate':[0.3,0.1,0.05] }]\n",
        "clf1 = GradientBoostingClassifier()\n",
        "grid_search = GridSearchCV(clf1, param_grid, cv=10,\n",
        "                           scoring='f1',\n",
        "                           return_train_score=True)\n",
        "grid_search.fit(X_train, y_train)"
      ],
      "metadata": {
        "id": "X-X1e9GCXmU3",
        "colab": {
          "base_uri": "https://localhost:8080/"
        },
        "outputId": "618490f8-47b9-438c-c728-927393946dbb"
      },
      "execution_count": null,
      "outputs": [
        {
          "output_type": "execute_result",
          "data": {
            "text/plain": [
              "GridSearchCV(cv=10, estimator=GradientBoostingClassifier(),\n",
              "             param_grid=[{'learning_rate': [0.3, 0.1, 0.05],\n",
              "                          'max_features': [1, 0.5, 0.3, 0.1],\n",
              "                          'n_estimators': [300, 400, 500, 700],\n",
              "                          'subsample': [1, 0.5, 0.3, 0.1]}],\n",
              "             return_train_score=True, scoring='f1')"
            ]
          },
          "metadata": {},
          "execution_count": 69
        }
      ]
    },
    {
      "cell_type": "code",
      "source": [
        "grid_search.best_estimator_"
      ],
      "metadata": {
        "id": "mz47v4eFXo0D",
        "colab": {
          "base_uri": "https://localhost:8080/"
        },
        "outputId": "36767512-587e-480b-b480-690bc6742c4c"
      },
      "execution_count": null,
      "outputs": [
        {
          "output_type": "execute_result",
          "data": {
            "text/plain": [
              "GradientBoostingClassifier(learning_rate=0.3, max_features=0.5,\n",
              "                           n_estimators=500, subsample=1)"
            ]
          },
          "metadata": {},
          "execution_count": 70
        }
      ]
    },
    {
      "cell_type": "code",
      "source": [
        "grid_search.best_score_"
      ],
      "metadata": {
        "id": "7y-SRIb_no66",
        "colab": {
          "base_uri": "https://localhost:8080/"
        },
        "outputId": "d2847382-f0a8-47c1-cdf3-65221fda88ef"
      },
      "execution_count": null,
      "outputs": [
        {
          "output_type": "execute_result",
          "data": {
            "text/plain": [
              "0.7734602644357141"
            ]
          },
          "metadata": {},
          "execution_count": 71
        }
      ]
    },
    {
      "cell_type": "code",
      "source": [
        "clf1 = GradientBoostingClassifier(learning_rate=0.3, max_features=0.5,\n",
        "                           n_estimators=500, subsample=1)\n",
        "#clf1.fit(X_train, y_train)\n",
        "scores = cross_val_score(clf1, X_train, y_train,\n",
        "                                scoring=\"f1\", cv=5)\n",
        "display_scores(scores)"
      ],
      "metadata": {
        "id": "Ya6NnpE4X0TT",
        "colab": {
          "base_uri": "https://localhost:8080/"
        },
        "outputId": "cbda8ae9-316e-41e5-a92f-6847a4e450d9"
      },
      "execution_count": null,
      "outputs": [
        {
          "output_type": "stream",
          "name": "stdout",
          "text": [
            "Scores: [0.71942446 0.75       0.82706767 0.75590551 0.76811594]\n",
            "Mean: 0.7641027166889193\n",
            "Standard deviation: 0.035335304121946104\n"
          ]
        }
      ]
    },
    {
      "cell_type": "code",
      "source": [
        "from sklearn.model_selection import GridSearchCV\n",
        "\n",
        "param_grid = [{'n_estimators': [300, 400, 500,700], 'max_features': [1,0.5,0.3,0.1], 'bootstrap':[True], 'max_samples' : [1, 0.5, 0.3] }]\n",
        "clf2 = ExtraTreesClassifier()\n",
        "grid_search = GridSearchCV(clf2, param_grid, cv=10,\n",
        "                           scoring='f1',\n",
        "                           return_train_score=True)\n",
        "grid_search.fit(X_train, y_train)"
      ],
      "metadata": {
        "id": "JODHGq-p_6Zx",
        "colab": {
          "base_uri": "https://localhost:8080/"
        },
        "outputId": "d9ad05a8-3efc-43a6-ec8a-15a07307fac4"
      },
      "execution_count": null,
      "outputs": [
        {
          "output_type": "execute_result",
          "data": {
            "text/plain": [
              "GridSearchCV(cv=10, estimator=ExtraTreesClassifier(),\n",
              "             param_grid=[{'bootstrap': [True],\n",
              "                          'max_features': [1, 0.5, 0.3, 0.1],\n",
              "                          'max_samples': [1, 0.5, 0.3],\n",
              "                          'n_estimators': [300, 400, 500, 700]}],\n",
              "             return_train_score=True, scoring='f1')"
            ]
          },
          "metadata": {},
          "execution_count": 74
        }
      ]
    },
    {
      "cell_type": "code",
      "source": [
        "grid_search.best_estimator_"
      ],
      "metadata": {
        "id": "DFCk0cKfX3QO",
        "colab": {
          "base_uri": "https://localhost:8080/"
        },
        "outputId": "dc83edad-12cd-48d6-d275-1c285cd3010b"
      },
      "execution_count": null,
      "outputs": [
        {
          "output_type": "execute_result",
          "data": {
            "text/plain": [
              "ExtraTreesClassifier(bootstrap=True, max_features=1, max_samples=0.5,\n",
              "                     n_estimators=300)"
            ]
          },
          "metadata": {},
          "execution_count": 75
        }
      ]
    },
    {
      "cell_type": "code",
      "source": [
        "grid_search.best_score_"
      ],
      "metadata": {
        "id": "IDqIVA_gqrcP",
        "colab": {
          "base_uri": "https://localhost:8080/"
        },
        "outputId": "aba4adf7-7f26-4bfb-9397-bbcc0710f6f3"
      },
      "execution_count": null,
      "outputs": [
        {
          "output_type": "execute_result",
          "data": {
            "text/plain": [
              "0.7616636752000988"
            ]
          },
          "metadata": {},
          "execution_count": 76
        }
      ]
    },
    {
      "cell_type": "code",
      "source": [
        "clf2 = ExtraTreesClassifier(bootstrap=True, max_features=1, max_samples=0.5,n_estimators=700)\n",
        "#clf2.fit(X_train, y_train)\n",
        "scores = cross_val_score(clf2, X_train, y_train,\n",
        "                                scoring=\"f1\", cv=5)\n",
        "display_scores(scores)"
      ],
      "metadata": {
        "id": "SZfkAkg9bi0t",
        "colab": {
          "base_uri": "https://localhost:8080/"
        },
        "outputId": "e8d6ed6c-cc95-466c-8dbd-acc6812ae027"
      },
      "execution_count": null,
      "outputs": [
        {
          "output_type": "stream",
          "name": "stdout",
          "text": [
            "Scores: [0.72727273 0.71942446 0.8030303  0.76422764 0.79136691]\n",
            "Mean: 0.7610644078971855\n",
            "Standard deviation: 0.03336209445003992\n"
          ]
        }
      ]
    },
    {
      "cell_type": "code",
      "source": [
        "param_grid = [{'n_estimators': [300, 400, 500,700], 'max_features': [1,0.5,0.3,0.1],  'subsample':[1,0.5,0.3,0.1], 'learning_rate':[0.3,0.1,0.05] }]\n",
        "X_train.columns = X_train.columns.str.translate(\"\".maketrans({\"[\":\"{\", \"]\":\"}\",\"<\":\"^\"}))\n",
        "#X_test.columns = X_train.columns.str.translate(\"\".maketrans({\"[\":\"{\", \"]\":\"}\",\"<\":\"^\"}))\n",
        "clf3 = XGBClassifier()\n",
        "grid_search = GridSearchCV(clf3, param_grid, cv=10,\n",
        "                           scoring='f1',\n",
        "                           return_train_score=True)\n",
        "grid_search.fit(X_train, y_train)"
      ],
      "metadata": {
        "id": "YXRXX0Docvi9",
        "colab": {
          "base_uri": "https://localhost:8080/"
        },
        "outputId": "fab5eace-ae0a-49a4-9817-c58deab8029e"
      },
      "execution_count": null,
      "outputs": [
        {
          "output_type": "execute_result",
          "data": {
            "text/plain": [
              "GridSearchCV(cv=10, estimator=XGBClassifier(),\n",
              "             param_grid=[{'learning_rate': [0.3, 0.1, 0.05],\n",
              "                          'max_features': [1, 0.5, 0.3, 0.1],\n",
              "                          'n_estimators': [300, 400, 500, 700],\n",
              "                          'subsample': [1, 0.5, 0.3, 0.1]}],\n",
              "             return_train_score=True, scoring='f1')"
            ]
          },
          "metadata": {},
          "execution_count": 78
        }
      ]
    },
    {
      "cell_type": "code",
      "source": [
        "grid_search.best_estimator_"
      ],
      "metadata": {
        "id": "R8aJ8IEIcvrQ",
        "colab": {
          "base_uri": "https://localhost:8080/"
        },
        "outputId": "01e39f36-ddea-4200-c9da-0feb79b7e791"
      },
      "execution_count": null,
      "outputs": [
        {
          "output_type": "execute_result",
          "data": {
            "text/plain": [
              "XGBClassifier(learning_rate=0.3, max_features=1, n_estimators=400,\n",
              "              subsample=0.5)"
            ]
          },
          "metadata": {},
          "execution_count": 79
        }
      ]
    },
    {
      "cell_type": "code",
      "source": [
        "grid_search.best_score_"
      ],
      "metadata": {
        "id": "-CsiTVn9cv0A",
        "colab": {
          "base_uri": "https://localhost:8080/"
        },
        "outputId": "4a50a0aa-2a44-4662-d2f6-58074526b9fc"
      },
      "execution_count": null,
      "outputs": [
        {
          "output_type": "execute_result",
          "data": {
            "text/plain": [
              "0.7706849013217859"
            ]
          },
          "metadata": {},
          "execution_count": 80
        }
      ]
    },
    {
      "cell_type": "code",
      "source": [
        "clf3 = XGBClassifier(learning_rate=0.3, max_features=1, n_estimators=400,\n",
        "              subsample=0.5)\n",
        "clf3.fit(X_train, y_train)\n",
        "scores = cross_val_score(clf3, X_train, y_train,\n",
        "                                scoring=\"f1\", cv=5)\n",
        "display_scores(scores)"
      ],
      "metadata": {
        "id": "XIgOIpxKgvU-",
        "colab": {
          "base_uri": "https://localhost:8080/"
        },
        "outputId": "44a25d16-8b09-4b38-bc82-899c7084c559"
      },
      "execution_count": null,
      "outputs": [
        {
          "output_type": "stream",
          "name": "stdout",
          "text": [
            "Scores: [0.72180451 0.69172932 0.81203008 0.72868217 0.75555556]\n",
            "Mean: 0.7419603271745255\n",
            "Standard deviation: 0.04049770346278764\n"
          ]
        }
      ]
    },
    {
      "cell_type": "markdown",
      "source": [
        "### Use VotingClassifier of sklearn to create an ensemble learner that utilizes the top 3 estimators you found above. Set the voting parameter to 'soft'. Use cross_val_score to calculate its score and print out its mean and std values.\n",
        "\n",
        "\n",
        "The following page might be useful:\n",
        "\n",
        "Kaggl Titanic: A Machine Learning from Disaster | Modelling Part 2:\n",
        "https://www.codementor.io/@innat_2k14/kaggl-titanic-a-machine-learning-from-disaster-modelling-part-2-10gfjtm0p3"
      ],
      "metadata": {
        "id": "kWUI8GXGZK0n"
      }
    },
    {
      "cell_type": "code",
      "source": [
        "from sklearn.ensemble import VotingClassifier\n",
        "\n",
        "eclf1 = VotingClassifier(estimators =\n",
        "                           [('gbc', clf1),\n",
        "                            ('etc', clf2),\n",
        "                            ('cgb', clf3)],\n",
        "                           voting='soft', n_jobs = 4)\n",
        "\n",
        "eclf1 = eclf1.fit(X_train, y_train)\n",
        "\n",
        "scores = cross_val_score(eclf1, X_train, y_train, cv = 10,\n",
        "                        n_jobs = 4, scoring = 'accuracy')\n",
        "display_scores(scores)"
      ],
      "metadata": {
        "id": "DuJk2MtBZTuo",
        "colab": {
          "base_uri": "https://localhost:8080/"
        },
        "outputId": "3c44e615-c7dc-4331-afff-b56523334188"
      },
      "execution_count": null,
      "outputs": [
        {
          "output_type": "stream",
          "name": "stdout",
          "text": [
            "Scores: [0.81111111 0.83146067 0.76404494 0.86516854 0.91011236 0.84269663\n",
            " 0.83146067 0.84269663 0.84269663 0.80898876]\n",
            "Mean: 0.835043695380774\n",
            "Standard deviation: 0.0361062869785391\n"
          ]
        }
      ]
    },
    {
      "cell_type": "markdown",
      "source": [
        "### Use the VotingClassifier you created above to predict 'Survived' for the X_test."
      ],
      "metadata": {
        "id": "WELqPyMCZcPP"
      }
    },
    {
      "cell_type": "code",
      "source": [
        "X_test.columns = X_test.columns.str.translate(\"\".maketrans({\"[\":\"{\", \"]\":\"}\",\"<\":\"^\"}))\n",
        "predictions = eclf1.predict(X_test)"
      ],
      "metadata": {
        "id": "gYFCrbe8Zbam"
      },
      "execution_count": null,
      "outputs": []
    },
    {
      "cell_type": "markdown",
      "source": [
        "### Prepare a csv file to submit to kaggle.com. Submit it and then put your results here."
      ],
      "metadata": {
        "id": "O4WEPxW4Zo3N"
      }
    },
    {
      "cell_type": "code",
      "source": [
        "from google.colab import files\n",
        "Lampo = pd.concat([test_data['PassengerId'], pd.DataFrame(data=np.asarray(predictions, dtype = 'int'))], axis=1)\n",
        "\n",
        "Lampo.to_csv('Lampo.csv', encoding = 'utf-8-sig')\n",
        "files.download('Lampo.csv')"
      ],
      "metadata": {
        "id": "nk_NcjAaZtVJ",
        "colab": {
          "base_uri": "https://localhost:8080/",
          "height": 17
        },
        "outputId": "ac9da079-2ec7-46c8-a067-85ae191c4941"
      },
      "execution_count": null,
      "outputs": [
        {
          "output_type": "display_data",
          "data": {
            "text/plain": [
              "<IPython.core.display.Javascript object>"
            ],
            "application/javascript": [
              "\n",
              "    async function download(id, filename, size) {\n",
              "      if (!google.colab.kernel.accessAllowed) {\n",
              "        return;\n",
              "      }\n",
              "      const div = document.createElement('div');\n",
              "      const label = document.createElement('label');\n",
              "      label.textContent = `Downloading \"${filename}\": `;\n",
              "      div.appendChild(label);\n",
              "      const progress = document.createElement('progress');\n",
              "      progress.max = size;\n",
              "      div.appendChild(progress);\n",
              "      document.body.appendChild(div);\n",
              "\n",
              "      const buffers = [];\n",
              "      let downloaded = 0;\n",
              "\n",
              "      const channel = await google.colab.kernel.comms.open(id);\n",
              "      // Send a message to notify the kernel that we're ready.\n",
              "      channel.send({})\n",
              "\n",
              "      for await (const message of channel.messages) {\n",
              "        // Send a message to notify the kernel that we're ready.\n",
              "        channel.send({})\n",
              "        if (message.buffers) {\n",
              "          for (const buffer of message.buffers) {\n",
              "            buffers.push(buffer);\n",
              "            downloaded += buffer.byteLength;\n",
              "            progress.value = downloaded;\n",
              "          }\n",
              "        }\n",
              "      }\n",
              "      const blob = new Blob(buffers, {type: 'application/binary'});\n",
              "      const a = document.createElement('a');\n",
              "      a.href = window.URL.createObjectURL(blob);\n",
              "      a.download = filename;\n",
              "      div.appendChild(a);\n",
              "      a.click();\n",
              "      div.remove();\n",
              "    }\n",
              "  "
            ]
          },
          "metadata": {}
        },
        {
          "output_type": "display_data",
          "data": {
            "text/plain": [
              "<IPython.core.display.Javascript object>"
            ],
            "application/javascript": [
              "download(\"download_f2ed32c6-dc78-40e5-bcf8-be2fff1dd329\", \"Lampo.csv\", 4398)"
            ]
          },
          "metadata": {}
        }
      ]
    }
  ]
}